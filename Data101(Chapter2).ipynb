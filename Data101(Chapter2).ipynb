{
  "nbformat": 4,
  "nbformat_minor": 0,
  "metadata": {
    "colab": {
      "name": "Data101(Chapter2).ipynb",
      "provenance": [],
      "authorship_tag": "ABX9TyMDO2k1ksNdcsiJ1/8KhjhM",
      "include_colab_link": true
    },
    "kernelspec": {
      "name": "python3",
      "display_name": "Python 3"
    },
    "language_info": {
      "name": "python"
    }
  },
  "cells": [
    {
      "cell_type": "markdown",
      "metadata": {
        "id": "view-in-github",
        "colab_type": "text"
      },
      "source": [
        "<a href=\"https://colab.research.google.com/github/Jaomiew/DWDM21/blob/main/Data101(Chapter2).ipynb\" target=\"_parent\"><img src=\"https://colab.research.google.com/assets/colab-badge.svg\" alt=\"Open In Colab\"/></a>"
      ]
    },
    {
      "cell_type": "markdown",
      "metadata": {
        "id": "CMHH9kwouXqB"
      },
      "source": [
        "ข้อดีของ Python คือมี Package สำหรับงานต่างๆมากมาย"
      ]
    },
    {
      "cell_type": "markdown",
      "metadata": {
        "id": "oXEBzBGBtZrS"
      },
      "source": [
        "package ที่ใช้ในการจัดการข้อมูล\n",
        "\n",
        "1. pandas\n"
      ]
    },
    {
      "cell_type": "code",
      "metadata": {
        "id": "9JEC5_UXsO9C"
      },
      "source": [
        "  import pandas #วิธีเรียกใช้ package คือ import ตามด้วยชื่อ package \n",
        "  #คือการ import แบบธรรมดา\n"
      ],
      "execution_count": 12,
      "outputs": []
    },
    {
      "cell_type": "code",
      "metadata": {
        "id": "ZXx1OzQjtihP"
      },
      "source": [
        "import  pandas as pd  #เหมือนกับข้างต้นเเต่เเค่ตั้งชื่อให้ package ที่โหลดมาว่า pd ซึ่งทำให้เวลาพิ์มสั้นกว่าคำว่า pandas"
      ],
      "execution_count": 13,
      "outputs": []
    },
    {
      "cell_type": "markdown",
      "metadata": {
        "id": "VkAxuogRvTDd"
      },
      "source": [
        "## ไฟล์ที่จะเจอคือ\n",
        "\n",
        "1. .csv (CSV = comma separated values) เป็นไฟล์หลังที่จะใช้ในวิชานี้\n",
        "เก็บข้อมูลตาราง ใช้งานง่ายๆ"
      ]
    },
    {
      "cell_type": "code",
      "metadata": {
        "id": "ukP09fkavzq0"
      },
      "source": [
        "data_df = pd.read_csv('data.csv') #ใช้ data ชื่อ pd\n"
      ],
      "execution_count": 14,
      "outputs": []
    },
    {
      "cell_type": "code",
      "metadata": {
        "colab": {
          "base_uri": "https://localhost:8080/",
          "height": 136
        },
        "id": "MwsjPNgdx1eI",
        "outputId": "d8db52b0-aa0d-4b3b-b77f-e9c04e94b54f"
      },
      "source": [
        "data_df "
      ],
      "execution_count": 15,
      "outputs": [
        {
          "output_type": "execute_result",
          "data": {
            "text/html": [
              "<div>\n",
              "<style scoped>\n",
              "    .dataframe tbody tr th:only-of-type {\n",
              "        vertical-align: middle;\n",
              "    }\n",
              "\n",
              "    .dataframe tbody tr th {\n",
              "        vertical-align: top;\n",
              "    }\n",
              "\n",
              "    .dataframe thead th {\n",
              "        text-align: right;\n",
              "    }\n",
              "</style>\n",
              "<table border=\"1\" class=\"dataframe\">\n",
              "  <thead>\n",
              "    <tr style=\"text-align: right;\">\n",
              "      <th></th>\n",
              "      <th>name</th>\n",
              "      <th>age</th>\n",
              "      <th>city</th>\n",
              "    </tr>\n",
              "  </thead>\n",
              "  <tbody>\n",
              "    <tr>\n",
              "      <th>0</th>\n",
              "      <td>Tom</td>\n",
              "      <td>27</td>\n",
              "      <td>Khon Kaen</td>\n",
              "    </tr>\n",
              "    <tr>\n",
              "      <th>1</th>\n",
              "      <td>Paul</td>\n",
              "      <td>15</td>\n",
              "      <td>Bankok</td>\n",
              "    </tr>\n",
              "    <tr>\n",
              "      <th>2</th>\n",
              "      <td>Sarah</td>\n",
              "      <td>49</td>\n",
              "      <td>London</td>\n",
              "    </tr>\n",
              "  </tbody>\n",
              "</table>\n",
              "</div>"
            ],
            "text/plain": [
              "    name  age       city\n",
              "0    Tom   27  Khon Kaen\n",
              "1   Paul   15     Bankok\n",
              "2  Sarah   49     London"
            ]
          },
          "metadata": {
            "tags": []
          },
          "execution_count": 15
        }
      ]
    },
    {
      "cell_type": "code",
      "metadata": {
        "colab": {
          "base_uri": "https://localhost:8080/",
          "height": 136
        },
        "id": "R-o3wrMNyf04",
        "outputId": "0907b836-7119-4136-8053-b8de69c17ec8"
      },
      "source": [
        "data_df2 = pandas.read_csv('data.csv') #ใช้ data ชื่อ pandas คนละชื่อกันกับข้างบน\n",
        "data_df2"
      ],
      "execution_count": 16,
      "outputs": [
        {
          "output_type": "execute_result",
          "data": {
            "text/html": [
              "<div>\n",
              "<style scoped>\n",
              "    .dataframe tbody tr th:only-of-type {\n",
              "        vertical-align: middle;\n",
              "    }\n",
              "\n",
              "    .dataframe tbody tr th {\n",
              "        vertical-align: top;\n",
              "    }\n",
              "\n",
              "    .dataframe thead th {\n",
              "        text-align: right;\n",
              "    }\n",
              "</style>\n",
              "<table border=\"1\" class=\"dataframe\">\n",
              "  <thead>\n",
              "    <tr style=\"text-align: right;\">\n",
              "      <th></th>\n",
              "      <th>name</th>\n",
              "      <th>age</th>\n",
              "      <th>city</th>\n",
              "    </tr>\n",
              "  </thead>\n",
              "  <tbody>\n",
              "    <tr>\n",
              "      <th>0</th>\n",
              "      <td>Tom</td>\n",
              "      <td>27</td>\n",
              "      <td>Khon Kaen</td>\n",
              "    </tr>\n",
              "    <tr>\n",
              "      <th>1</th>\n",
              "      <td>Paul</td>\n",
              "      <td>15</td>\n",
              "      <td>Bankok</td>\n",
              "    </tr>\n",
              "    <tr>\n",
              "      <th>2</th>\n",
              "      <td>Sarah</td>\n",
              "      <td>49</td>\n",
              "      <td>London</td>\n",
              "    </tr>\n",
              "  </tbody>\n",
              "</table>\n",
              "</div>"
            ],
            "text/plain": [
              "    name  age       city\n",
              "0    Tom   27  Khon Kaen\n",
              "1   Paul   15     Bankok\n",
              "2  Sarah   49     London"
            ]
          },
          "metadata": {
            "tags": []
          },
          "execution_count": 16
        }
      ]
    },
    {
      "cell_type": "markdown",
      "metadata": {
        "id": "VHlMwHxwy_pj"
      },
      "source": [
        "# Basic Python\n",
        "## variables ตัวแปร คือ กล่องที่เอาไว้ใส่ข้อมูล"
      ]
    },
    {
      "cell_type": "code",
      "metadata": {
        "id": "nA0pOXHdy7Zy"
      },
      "source": [
        "variable_a = 12              #12 ไม่มี quote คือเป็นตัวเลข 12    #variable_a คือช่องกล่อง\n",
        "variable_b = ' abcde '     # 'เรียกว่า ' ' quote' เป็นตัวหนังสือ\n",
        "variable_c = variable_a "
      ],
      "execution_count": 19,
      "outputs": []
    },
    {
      "cell_type": "code",
      "metadata": {
        "colab": {
          "base_uri": "https://localhost:8080/"
        },
        "id": "imqsMjVv1rOC",
        "outputId": "68d20f1f-a7ad-48df-b2e2-c34363e9e19e"
      },
      "source": [
        "variable_a"
      ],
      "execution_count": 20,
      "outputs": [
        {
          "output_type": "execute_result",
          "data": {
            "text/plain": [
              "12"
            ]
          },
          "metadata": {
            "tags": []
          },
          "execution_count": 20
        }
      ]
    },
    {
      "cell_type": "code",
      "metadata": {
        "colab": {
          "base_uri": "https://localhost:8080/",
          "height": 35
        },
        "id": "XJaSpWjR1u4f",
        "outputId": "28d72d69-b8af-4082-e5f8-bea72378bf78"
      },
      "source": [
        "variable_b"
      ],
      "execution_count": 21,
      "outputs": [
        {
          "output_type": "execute_result",
          "data": {
            "application/vnd.google.colaboratory.intrinsic+json": {
              "type": "string"
            },
            "text/plain": [
              "' abcde '"
            ]
          },
          "metadata": {
            "tags": []
          },
          "execution_count": 21
        }
      ]
    },
    {
      "cell_type": "code",
      "metadata": {
        "colab": {
          "base_uri": "https://localhost:8080/"
        },
        "id": "o6mxjNAm1x8s",
        "outputId": "57cf5984-d4e1-47c8-9349-ab6a87a6e42b"
      },
      "source": [
        "variable_c"
      ],
      "execution_count": 22,
      "outputs": [
        {
          "output_type": "execute_result",
          "data": {
            "text/plain": [
              "12"
            ]
          },
          "metadata": {
            "tags": []
          },
          "execution_count": 22
        }
      ]
    },
    {
      "cell_type": "code",
      "metadata": {
        "id": "bWW4WKV24fXx"
      },
      "source": [
        "variable_a = 12            \n",
        "variable_b = ' abcde '    \n",
        "variable_c = variable_a \n",
        "variable_d = -41.2\n",
        "variable_4 = \"KKU\" #ใช้ double quote \"\"  ก็ได้\n",
        "# สามารถ + - * / ได้  ตัวแปรชนิดเดียวกัน\n",
        "# ไม่สามารถใช้ตัวเลข + - * / กับตัวหนังสือได้"
      ],
      "execution_count": 34,
      "outputs": []
    },
    {
      "cell_type": "code",
      "metadata": {
        "colab": {
          "base_uri": "https://localhost:8080/"
        },
        "id": "k76YqaJh4-ZF",
        "outputId": "7838fb48-6829-4b01-9831-87a84e7645f8"
      },
      "source": [
        "variable_x = variable_c + variable_d\n",
        "print (variable_x)         #print ใช้แสดงค่า"
      ],
      "execution_count": 32,
      "outputs": [
        {
          "output_type": "stream",
          "text": [
            "-29.200000000000003\n"
          ],
          "name": "stdout"
        }
      ]
    },
    {
      "cell_type": "code",
      "metadata": {
        "colab": {
          "base_uri": "https://localhost:8080/"
        },
        "id": "MX8T_oQZ643L",
        "outputId": "ad68fc2d-025b-486c-b1a5-a1a23d48ecb5"
      },
      "source": [
        "print (variable_b + variable_4)  #ตัวแปรที่เป็นตัวหนังสือ + กับตัวหนังสือ"
      ],
      "execution_count": 36,
      "outputs": [
        {
          "output_type": "stream",
          "text": [
            " abcde KKU\n"
          ],
          "name": "stdout"
        }
      ]
    },
    {
      "cell_type": "markdown",
      "metadata": {
        "id": "A33bL6RO7iWy"
      },
      "source": [
        "##Casting การเปลี่ยนชนิดของตัวเเปร\n",
        "ing ()\n",
        "\n",
        "float ()\n",
        " \n",
        " str () เปลี่ยนตัวเลข ทศนิยมเป็น จน. จริง"
      ]
    },
    {
      "cell_type": "code",
      "metadata": {
        "colab": {
          "base_uri": "https://localhost:8080/"
        },
        "id": "L2rlFLzE7TMV",
        "outputId": "2e049497-920e-4e57-85fc-4eb1bd65b989"
      },
      "source": [
        "print (variable_x)\n",
        "print (int(variable_x))"
      ],
      "execution_count": 37,
      "outputs": [
        {
          "output_type": "stream",
          "text": [
            "-29.200000000000003\n",
            "-29\n"
          ],
          "name": "stdout"
        }
      ]
    },
    {
      "cell_type": "code",
      "metadata": {
        "colab": {
          "base_uri": "https://localhost:8080/"
        },
        "id": "dFO7X_I28AOp",
        "outputId": "b1a39843-58a0-4789-e6ed-20aee89aa3ff"
      },
      "source": [
        "V_X = str (variable_x)\n",
        "print (V_X)"
      ],
      "execution_count": 38,
      "outputs": [
        {
          "output_type": "stream",
          "text": [
            "-29.200000000000003\n"
          ],
          "name": "stdout"
        }
      ]
    },
    {
      "cell_type": "code",
      "metadata": {
        "colab": {
          "base_uri": "https://localhost:8080/",
          "height": 163
        },
        "id": "pVKyOTat8bMZ",
        "outputId": "72cb31c5-3ab4-44c0-93e5-9a322244ce4f"
      },
      "source": [
        "V_X + variable_a"
      ],
      "execution_count": 39,
      "outputs": [
        {
          "output_type": "error",
          "ename": "TypeError",
          "evalue": "ignored",
          "traceback": [
            "\u001b[0;31m---------------------------------------------------------------------------\u001b[0m",
            "\u001b[0;31mTypeError\u001b[0m                                 Traceback (most recent call last)",
            "\u001b[0;32m<ipython-input-39-d83c0918f5c6>\u001b[0m in \u001b[0;36m<module>\u001b[0;34m()\u001b[0m\n\u001b[0;32m----> 1\u001b[0;31m \u001b[0mV_X\u001b[0m \u001b[0;34m+\u001b[0m \u001b[0mvariable_a\u001b[0m\u001b[0;34m\u001b[0m\u001b[0;34m\u001b[0m\u001b[0m\n\u001b[0m",
            "\u001b[0;31mTypeError\u001b[0m: can only concatenate str (not \"int\") to str"
          ]
        }
      ]
    },
    {
      "cell_type": "code",
      "metadata": {
        "colab": {
          "base_uri": "https://localhost:8080/",
          "height": 163
        },
        "id": "SvWcws8l8gGB",
        "outputId": "a5406b4b-1153-4d61-d5fe-3ec91ec7e0ae"
      },
      "source": [
        "variable_a + V_X"
      ],
      "execution_count": 40,
      "outputs": [
        {
          "output_type": "error",
          "ename": "TypeError",
          "evalue": "ignored",
          "traceback": [
            "\u001b[0;31m---------------------------------------------------------------------------\u001b[0m",
            "\u001b[0;31mTypeError\u001b[0m                                 Traceback (most recent call last)",
            "\u001b[0;32m<ipython-input-40-9c7fa6bc8848>\u001b[0m in \u001b[0;36m<module>\u001b[0;34m()\u001b[0m\n\u001b[0;32m----> 1\u001b[0;31m \u001b[0mvariable_a\u001b[0m \u001b[0;34m+\u001b[0m \u001b[0mV_X\u001b[0m\u001b[0;34m\u001b[0m\u001b[0;34m\u001b[0m\u001b[0m\n\u001b[0m",
            "\u001b[0;31mTypeError\u001b[0m: unsupported operand type(s) for +: 'int' and 'str'"
          ]
        }
      ]
    },
    {
      "cell_type": "code",
      "metadata": {
        "colab": {
          "base_uri": "https://localhost:8080/",
          "height": 35
        },
        "id": "AcX4xfjm8zBr",
        "outputId": "aa96e587-46fc-466f-8516-eb2773a1d86f"
      },
      "source": [
        "V_X #พิมพ์ชือตัวเเปรธรรมดา"
      ],
      "execution_count": 41,
      "outputs": [
        {
          "output_type": "execute_result",
          "data": {
            "application/vnd.google.colaboratory.intrinsic+json": {
              "type": "string"
            },
            "text/plain": [
              "'-29.200000000000003'"
            ]
          },
          "metadata": {
            "tags": []
          },
          "execution_count": 41
        }
      ]
    },
    {
      "cell_type": "code",
      "metadata": {
        "colab": {
          "base_uri": "https://localhost:8080/"
        },
        "id": "uGSvGM2B9AE9",
        "outputId": "5166e8dd-9360-4a29-c184-66447ee296b4"
      },
      "source": [
        "float (V_X)"
      ],
      "execution_count": 42,
      "outputs": [
        {
          "output_type": "execute_result",
          "data": {
            "text/plain": [
              "-29.200000000000003"
            ]
          },
          "metadata": {
            "tags": []
          },
          "execution_count": 42
        }
      ]
    },
    {
      "cell_type": "markdown",
      "metadata": {
        "id": "QANWBeWw9UPZ"
      },
      "source": [
        "# Data Structure โครงสร้างของข้อมูล  เอาค่าเเต่ละตัวมาต่อกันได้ ทำให้ง่ายขึ้น\n",
        "\n",
        "list () ตัวเลข int float str  ตัวแปรมาต่อๆกัน\n",
        "\n"
      ]
    },
    {
      "cell_type": "code",
      "metadata": {
        "id": "y0NHCGIZ9yym"
      },
      "source": [
        "list_a = [1,2,0.2,'abs']      #[]  คือ square brackets\n",
        "list_b = [2,'xyz',list_a,[1,2,0.0]]"
      ],
      "execution_count": 51,
      "outputs": []
    },
    {
      "cell_type": "code",
      "metadata": {
        "colab": {
          "base_uri": "https://localhost:8080/"
        },
        "id": "GAohgCf5-s5A",
        "outputId": "b3d90bde-4690-4c02-ffe1-f0f2bfb4c0f6"
      },
      "source": [
        "list_a"
      ],
      "execution_count": 49,
      "outputs": [
        {
          "output_type": "execute_result",
          "data": {
            "text/plain": [
              "[1, 2, 0.2, 'abs']"
            ]
          },
          "metadata": {
            "tags": []
          },
          "execution_count": 49
        }
      ]
    },
    {
      "cell_type": "code",
      "metadata": {
        "colab": {
          "base_uri": "https://localhost:8080/"
        },
        "id": "1awsdwg9-vHQ",
        "outputId": "9914d82d-0f6e-4121-b053-ff79383381ab"
      },
      "source": [
        "list_b"
      ],
      "execution_count": 52,
      "outputs": [
        {
          "output_type": "execute_result",
          "data": {
            "text/plain": [
              "[2, 'xyz', [1, 2, 0.2, 'abs'], [1, 2, 0.0]]"
            ]
          },
          "metadata": {
            "tags": []
          },
          "execution_count": 52
        }
      ]
    },
    {
      "cell_type": "code",
      "metadata": {
        "colab": {
          "base_uri": "https://localhost:8080/"
        },
        "id": "HD0BMJFW-5tE",
        "outputId": "95501acd-b5d5-419a-babc-d4d9dffbc394"
      },
      "source": [
        "len (list_b)"
      ],
      "execution_count": 53,
      "outputs": [
        {
          "output_type": "execute_result",
          "data": {
            "text/plain": [
              "4"
            ]
          },
          "metadata": {
            "tags": []
          },
          "execution_count": 53
        }
      ]
    },
    {
      "cell_type": "code",
      "metadata": {
        "colab": {
          "base_uri": "https://localhost:8080/"
        },
        "id": "ZOOc3JI1-9mo",
        "outputId": "f5dee8a7-4c8d-431c-9c45-216fa6d1f94f"
      },
      "source": [
        "list_b[3]"
      ],
      "execution_count": 54,
      "outputs": [
        {
          "output_type": "execute_result",
          "data": {
            "text/plain": [
              "[1, 2, 0.0]"
            ]
          },
          "metadata": {
            "tags": []
          },
          "execution_count": 54
        }
      ]
    },
    {
      "cell_type": "code",
      "metadata": {
        "colab": {
          "base_uri": "https://localhost:8080/"
        },
        "id": "UCrr4XHN_B2u",
        "outputId": "dc89b902-5061-4612-f918-5f0e91e48240"
      },
      "source": [
        "list_b[3][1]"
      ],
      "execution_count": 55,
      "outputs": [
        {
          "output_type": "execute_result",
          "data": {
            "text/plain": [
              "2"
            ]
          },
          "metadata": {
            "tags": []
          },
          "execution_count": 55
        }
      ]
    },
    {
      "cell_type": "markdown",
      "metadata": {
        "id": "8j0p85EJ_V-o"
      },
      "source": [
        "stringg คือ list ของตัวหนังสือ"
      ]
    },
    {
      "cell_type": "code",
      "metadata": {
        "id": "qdCq6D9n_dgu"
      },
      "source": [
        "a = 'stat KKU'   #เริ่มนับจาก 0"
      ],
      "execution_count": 60,
      "outputs": []
    },
    {
      "cell_type": "code",
      "metadata": {
        "colab": {
          "base_uri": "https://localhost:8080/",
          "height": 35
        },
        "id": "o11Moztz_igL",
        "outputId": "f86e18b7-3b12-459c-c6a7-efe184308581"
      },
      "source": [
        "a[4]"
      ],
      "execution_count": 61,
      "outputs": [
        {
          "output_type": "execute_result",
          "data": {
            "application/vnd.google.colaboratory.intrinsic+json": {
              "type": "string"
            },
            "text/plain": [
              "' '"
            ]
          },
          "metadata": {
            "tags": []
          },
          "execution_count": 61
        }
      ]
    },
    {
      "cell_type": "markdown",
      "metadata": {
        "id": "5sXQ5s-AADqt"
      },
      "source": [
        "## การสร้ง list ว่าง"
      ]
    },
    {
      "cell_type": "code",
      "metadata": {
        "id": "7xwWLYR9AG3Z"
      },
      "source": [
        "list_c = list()  #แบบที่ 1\n",
        "list_d = []      #แบบที่ 2"
      ],
      "execution_count": 62,
      "outputs": []
    },
    {
      "cell_type": "code",
      "metadata": {
        "colab": {
          "base_uri": "https://localhost:8080/"
        },
        "id": "eWBZuuq_AZMB",
        "outputId": "513207de-2fbe-4d7a-a60d-22da11df2ec2"
      },
      "source": [
        "list_c"
      ],
      "execution_count": 63,
      "outputs": [
        {
          "output_type": "execute_result",
          "data": {
            "text/plain": [
              "[]"
            ]
          },
          "metadata": {
            "tags": []
          },
          "execution_count": 63
        }
      ]
    },
    {
      "cell_type": "code",
      "metadata": {
        "colab": {
          "base_uri": "https://localhost:8080/"
        },
        "id": "ySaC8xvUAalI",
        "outputId": "0779a51a-0a09-4b8c-a9e5-e73d005e074c"
      },
      "source": [
        "list_d"
      ],
      "execution_count": 64,
      "outputs": [
        {
          "output_type": "execute_result",
          "data": {
            "text/plain": [
              "[]"
            ]
          },
          "metadata": {
            "tags": []
          },
          "execution_count": 64
        }
      ]
    },
    {
      "cell_type": "markdown",
      "metadata": {
        "id": "71ZkDxxlA6WL"
      },
      "source": [
        "## เติมค่าลงใน list ใช้ .append ()\n",
        "\n",
        "การชี้ค่าใน list เรียกว่า imdexint\n",
        "\n",
        "1. ใช้ลำดับในการชี้\n",
        "\n",
        "2. ลำดับดริ่มจาก 0\n",
        "\n",
        "3. สามารถชี้จากข้างหลัง โดยใช้ negative index"
      ]
    },
    {
      "cell_type": "code",
      "metadata": {
        "colab": {
          "base_uri": "https://localhost:8080/"
        },
        "id": "TLJH9MaRCJhh",
        "outputId": "33c83ae8-5a93-460d-f493-1fd9d682c629"
      },
      "source": [
        "list_b[-1]"
      ],
      "execution_count": 70,
      "outputs": [
        {
          "output_type": "execute_result",
          "data": {
            "text/plain": [
              "[1, 2, 0.0]"
            ]
          },
          "metadata": {
            "tags": []
          },
          "execution_count": 70
        }
      ]
    },
    {
      "cell_type": "code",
      "metadata": {
        "id": "9ZMSnIMLAdtW"
      },
      "source": [
        "list_d.append( 'a')"
      ],
      "execution_count": 65,
      "outputs": []
    },
    {
      "cell_type": "code",
      "metadata": {
        "colab": {
          "base_uri": "https://localhost:8080/"
        },
        "id": "9TS_5mo6BNdT",
        "outputId": "eb1e0aa5-e4e3-4d6a-d8bc-d7df28e62e87"
      },
      "source": [
        "list_d"
      ],
      "execution_count": 66,
      "outputs": [
        {
          "output_type": "execute_result",
          "data": {
            "text/plain": [
              "['a']"
            ]
          },
          "metadata": {
            "tags": []
          },
          "execution_count": 66
        }
      ]
    },
    {
      "cell_type": "code",
      "metadata": {
        "id": "JLikI3YvBTU_"
      },
      "source": [
        "list_d.append(56)"
      ],
      "execution_count": 68,
      "outputs": []
    },
    {
      "cell_type": "code",
      "metadata": {
        "colab": {
          "base_uri": "https://localhost:8080/"
        },
        "id": "Ta8zxXXZBWW_",
        "outputId": "962a1555-a1d3-40b5-bd72-cfd01562542b"
      },
      "source": [
        "list_d"
      ],
      "execution_count": 69,
      "outputs": [
        {
          "output_type": "execute_result",
          "data": {
            "text/plain": [
              "['a', 56]"
            ]
          },
          "metadata": {
            "tags": []
          },
          "execution_count": 69
        }
      ]
    },
    {
      "cell_type": "markdown",
      "metadata": {
        "id": "XbMiSHMcCiPT"
      },
      "source": [
        "## list slicing  คือ การตัด list เลือกบางส่วนของ list ออกมา"
      ]
    },
    {
      "cell_type": "code",
      "metadata": {
        "id": "1XyYcC26Cuvc"
      },
      "source": [
        "list_ex = [1,2,3,5,6,8,-1,20,50,0]   #เริ่มนับจาก 0 "
      ],
      "execution_count": 71,
      "outputs": []
    },
    {
      "cell_type": "code",
      "metadata": {
        "colab": {
          "base_uri": "https://localhost:8080/"
        },
        "id": "mOfoOflzC2qb",
        "outputId": "6804b0a6-a230-4042-e605-d9b81fc05e68"
      },
      "source": [
        "list_ex[1:6]   #เอาตัวที่ 1 - 5\n",
        "                  #ตัด list ตั้งเเต่ [ตัวหน้า จนถึง ตัวก่อนตัวหลัง]"
      ],
      "execution_count": 72,
      "outputs": [
        {
          "output_type": "execute_result",
          "data": {
            "text/plain": [
              "[2, 3, 5, 6, 8]"
            ]
          },
          "metadata": {
            "tags": []
          },
          "execution_count": 72
        }
      ]
    },
    {
      "cell_type": "code",
      "metadata": {
        "colab": {
          "base_uri": "https://localhost:8080/"
        },
        "id": "H0GaLMszD1to",
        "outputId": "402293cf-1032-4e28-cab2-7c1d4bc634cc"
      },
      "source": [
        "list_ex[4:]  #เริ่มตั้งเเต่ตัวที่ 4 จนตัวสุดท้าย"
      ],
      "execution_count": 73,
      "outputs": [
        {
          "output_type": "execute_result",
          "data": {
            "text/plain": [
              "[6, 8, -1, 20, 50, 0]"
            ]
          },
          "metadata": {
            "tags": []
          },
          "execution_count": 73
        }
      ]
    },
    {
      "cell_type": "code",
      "metadata": {
        "colab": {
          "base_uri": "https://localhost:8080/"
        },
        "id": "Q5IoJVptEBst",
        "outputId": "1cd02d1d-b460-4169-c24d-a4a1100f78c6"
      },
      "source": [
        "list_ex[:6]   #เริ่มตัวเเรก ไปจนถึงตัวก่อนลำดับที่ 6"
      ],
      "execution_count": 74,
      "outputs": [
        {
          "output_type": "execute_result",
          "data": {
            "text/plain": [
              "[1, 2, 3, 5, 6, 8]"
            ]
          },
          "metadata": {
            "tags": []
          },
          "execution_count": 74
        }
      ]
    },
    {
      "cell_type": "markdown",
      "metadata": {
        "id": "dYzOIntkEpIR"
      },
      "source": [
        "[จุดเริ่มต้น : จุดสุดท้าย : step"
      ]
    },
    {
      "cell_type": "code",
      "metadata": {
        "colab": {
          "base_uri": "https://localhost:8080/"
        },
        "id": "d5dasS6BE6_4",
        "outputId": "100fc19e-c240-4a40-b28e-10fe7fd2f354"
      },
      "source": [
        "list_ex"
      ],
      "execution_count": 77,
      "outputs": [
        {
          "output_type": "execute_result",
          "data": {
            "text/plain": [
              "[1, 2, 3, 5, 6, 8, -1, 20, 50, 0]"
            ]
          },
          "metadata": {
            "tags": []
          },
          "execution_count": 77
        }
      ]
    },
    {
      "cell_type": "code",
      "metadata": {
        "colab": {
          "base_uri": "https://localhost:8080/"
        },
        "id": "7Sm-NSCgEY--",
        "outputId": "ce1553e6-e7ee-464d-9314-f19fbd43fde9"
      },
      "source": [
        "list_ex[::2]"
      ],
      "execution_count": 76,
      "outputs": [
        {
          "output_type": "execute_result",
          "data": {
            "text/plain": [
              "[1, 3, 6, -1, 50]"
            ]
          },
          "metadata": {
            "tags": []
          },
          "execution_count": 76
        }
      ]
    },
    {
      "cell_type": "code",
      "metadata": {
        "colab": {
          "base_uri": "https://localhost:8080/"
        },
        "id": "v8Jh_8YEFGZ6",
        "outputId": "ea59ab93-8b1f-41ef-acf7-87ab71d6a4d7"
      },
      "source": [
        "list_ex[::-1]    #กลับ list ตัวหลัง ไปอยู่ข้างหน้า  กลับ list ข้างหน้าไปอยู่หลัง"
      ],
      "execution_count": 78,
      "outputs": [
        {
          "output_type": "execute_result",
          "data": {
            "text/plain": [
              "[0, 50, 20, -1, 8, 6, 5, 3, 2, 1]"
            ]
          },
          "metadata": {
            "tags": []
          },
          "execution_count": 78
        }
      ]
    },
    {
      "cell_type": "code",
      "metadata": {
        "colab": {
          "base_uri": "https://localhost:8080/",
          "height": 35
        },
        "id": "v23daBhhFY0R",
        "outputId": "b75dffde-fb6a-4533-b027-259ee300c18d"
      },
      "source": [
        "a"
      ],
      "execution_count": 79,
      "outputs": [
        {
          "output_type": "execute_result",
          "data": {
            "application/vnd.google.colaboratory.intrinsic+json": {
              "type": "string"
            },
            "text/plain": [
              "'stat KKU'"
            ]
          },
          "metadata": {
            "tags": []
          },
          "execution_count": 79
        }
      ]
    },
    {
      "cell_type": "code",
      "metadata": {
        "colab": {
          "base_uri": "https://localhost:8080/",
          "height": 35
        },
        "id": "dSSkXa9FFbTV",
        "outputId": "0fc9cf7d-2391-4002-e868-3d3b0faa38a9"
      },
      "source": [
        "a[5:]"
      ],
      "execution_count": 80,
      "outputs": [
        {
          "output_type": "execute_result",
          "data": {
            "application/vnd.google.colaboratory.intrinsic+json": {
              "type": "string"
            },
            "text/plain": [
              "'KKU'"
            ]
          },
          "metadata": {
            "tags": []
          },
          "execution_count": 80
        }
      ]
    },
    {
      "cell_type": "code",
      "metadata": {
        "colab": {
          "base_uri": "https://localhost:8080/",
          "height": 35
        },
        "id": "DfkY9h_0GN-l",
        "outputId": "31bcbf0f-ecc4-4b14-d7a2-0021118a2e32"
      },
      "source": [
        "a[-3:]"
      ],
      "execution_count": 82,
      "outputs": [
        {
          "output_type": "execute_result",
          "data": {
            "application/vnd.google.colaboratory.intrinsic+json": {
              "type": "string"
            },
            "text/plain": [
              "'KKU'"
            ]
          },
          "metadata": {
            "tags": []
          },
          "execution_count": 82
        }
      ]
    },
    {
      "cell_type": "code",
      "metadata": {
        "colab": {
          "base_uri": "https://localhost:8080/",
          "height": 35
        },
        "id": "z-RP-YFvGVp4",
        "outputId": "e0b0c1db-f132-4d50-edec-6e3ddec235b3"
      },
      "source": [
        "a[5:8]"
      ],
      "execution_count": 83,
      "outputs": [
        {
          "output_type": "execute_result",
          "data": {
            "application/vnd.google.colaboratory.intrinsic+json": {
              "type": "string"
            },
            "text/plain": [
              "'KKU'"
            ]
          },
          "metadata": {
            "tags": []
          },
          "execution_count": 83
        }
      ]
    },
    {
      "cell_type": "code",
      "metadata": {
        "colab": {
          "base_uri": "https://localhost:8080/",
          "height": 35
        },
        "id": "Or5CPeUwGgmp",
        "outputId": "6e915e8e-894f-4a41-9457-edfd7f439016"
      },
      "source": [
        "a[5::]"
      ],
      "execution_count": 85,
      "outputs": [
        {
          "output_type": "execute_result",
          "data": {
            "application/vnd.google.colaboratory.intrinsic+json": {
              "type": "string"
            },
            "text/plain": [
              "'KKU'"
            ]
          },
          "metadata": {
            "tags": []
          },
          "execution_count": 85
        }
      ]
    },
    {
      "cell_type": "code",
      "metadata": {
        "colab": {
          "base_uri": "https://localhost:8080/",
          "height": 35
        },
        "id": "2L_WdoKvG9eW",
        "outputId": "158dee37-9069-4fa7-8349-248b0036a3e4"
      },
      "source": [
        "a[-3::1]"
      ],
      "execution_count": 88,
      "outputs": [
        {
          "output_type": "execute_result",
          "data": {
            "application/vnd.google.colaboratory.intrinsic+json": {
              "type": "string"
            },
            "text/plain": [
              "'KKU'"
            ]
          },
          "metadata": {
            "tags": []
          },
          "execution_count": 88
        }
      ]
    },
    {
      "cell_type": "markdown",
      "metadata": {
        "id": "LUIYm9fUHKPx"
      },
      "source": [
        "## list + list"
      ]
    },
    {
      "cell_type": "code",
      "metadata": {
        "colab": {
          "base_uri": "https://localhost:8080/"
        },
        "id": "yoFoyNAHHOqP",
        "outputId": "b52ca621-6252-4324-bb1e-28e90763d2c9"
      },
      "source": [
        "print(list_a)\n",
        "print(list_b)"
      ],
      "execution_count": 89,
      "outputs": [
        {
          "output_type": "stream",
          "text": [
            "[1, 2, 0.2, 'abs']\n",
            "[2, 'xyz', [1, 2, 0.2, 'abs'], [1, 2, 0.0]]\n"
          ],
          "name": "stdout"
        }
      ]
    },
    {
      "cell_type": "code",
      "metadata": {
        "colab": {
          "base_uri": "https://localhost:8080/"
        },
        "id": "xn_EWxbmHjGH",
        "outputId": "ca44c918-7c54-4750-9043-ccebe107ffec"
      },
      "source": [
        "list_a + list_b  #เอา list มาบวกกันได้"
      ],
      "execution_count": 90,
      "outputs": [
        {
          "output_type": "execute_result",
          "data": {
            "text/plain": [
              "[1, 2, 0.2, 'abs', 2, 'xyz', [1, 2, 0.2, 'abs'], [1, 2, 0.0]]"
            ]
          },
          "metadata": {
            "tags": []
          },
          "execution_count": 90
        }
      ]
    },
    {
      "cell_type": "markdown",
      "metadata": {
        "id": "5Y2h9UffLtYz"
      },
      "source": [
        "## format string  การจัดเรียงให้สวยงาม"
      ]
    },
    {
      "cell_type": "code",
      "metadata": {
        "colab": {
          "base_uri": "https://localhost:8080/",
          "height": 35
        },
        "id": "yIhnZrZXL2Kn",
        "outputId": "2a422800-cc74-452e-d940-6e5793338ccd"
      },
      "source": [
        "f' ตัวเเปร list_a มีค่าคือ {list_a} '"
      ],
      "execution_count": 102,
      "outputs": [
        {
          "output_type": "execute_result",
          "data": {
            "application/vnd.google.colaboratory.intrinsic+json": {
              "type": "string"
            },
            "text/plain": [
              "\" ตัวเเปร list_a มีค่าคือ [1, 2, 0.2, 'abs'] \""
            ]
          },
          "metadata": {
            "tags": []
          },
          "execution_count": 102
        }
      ]
    },
    {
      "cell_type": "markdown",
      "metadata": {
        "id": "xVBRaN0IH5E_"
      },
      "source": [
        "# Loop  การวนซ้ำ ทำอะไรซ้ำๆ\n",
        "\n",
        "for  ตัวแปรที่จะรับค่าจาก list  in  list ที่นำมาวนลูป :\n",
        "\n",
        "      do someting\n"
      ]
    },
    {
      "cell_type": "code",
      "metadata": {
        "colab": {
          "base_uri": "https://localhost:8080/"
        },
        "id": "l_ZmIGI9IKW2",
        "outputId": "aa228789-077e-4053-8964-fdb9171d014f"
      },
      "source": [
        "for i in [1,2,3,4,5] : #ดึงค่าจาก list ไปใส่ i  เเล้วเอา i ไปทำอะไรก็ได้\n",
        "  print(i)\n"
      ],
      "execution_count": 96,
      "outputs": [
        {
          "output_type": "stream",
          "text": [
            "1\n",
            "2\n",
            "3\n",
            "4\n",
            "5\n"
          ],
          "name": "stdout"
        }
      ]
    },
    {
      "cell_type": "code",
      "metadata": {
        "colab": {
          "base_uri": "https://localhost:8080/"
        },
        "id": "jCSrVivBKvNW",
        "outputId": "49ec88f7-b573-4b6d-8b70-bd2f380da554"
      },
      "source": [
        "  for i in [1,2,3,4,5] :\n",
        "    print(i+1)"
      ],
      "execution_count": 99,
      "outputs": [
        {
          "output_type": "stream",
          "text": [
            "2\n",
            "3\n",
            "4\n",
            "5\n",
            "6\n"
          ],
          "name": "stdout"
        }
      ]
    },
    {
      "cell_type": "code",
      "metadata": {
        "colab": {
          "base_uri": "https://localhost:8080/"
        },
        "id": "tnnKzf4lM3e2",
        "outputId": "7d4e0ae9-d40b-451b-8592-52fad33544c9"
      },
      "source": [
        "for x in [1,2,3,4,5] :\n",
        "  print(f'ค่าตัวแปร x คือ {x} และ x+2 =  {x+2}')"
      ],
      "execution_count": 105,
      "outputs": [
        {
          "output_type": "stream",
          "text": [
            "ค่าตัวแปร x คือ 1 และ x+2 =  3\n",
            "ค่าตัวแปร x คือ 2 และ x+2 =  4\n",
            "ค่าตัวแปร x คือ 3 และ x+2 =  5\n",
            "ค่าตัวแปร x คือ 4 และ x+2 =  6\n",
            "ค่าตัวแปร x คือ 5 และ x+2 =  7\n"
          ],
          "name": "stdout"
        }
      ]
    },
    {
      "cell_type": "code",
      "metadata": {
        "colab": {
          "base_uri": "https://localhost:8080/"
        },
        "id": "3X4FqYkONY-B",
        "outputId": "0cb5b44e-974b-4478-a407-eb768cd8c41d"
      },
      "source": [
        "list5 = [1,2,3,4,5] \n",
        "for x in list5 :\n",
        "  print(f'ค่าตัวแปร x คือ {x} และ x+2 =  {x+2}')"
      ],
      "execution_count": 110,
      "outputs": [
        {
          "output_type": "stream",
          "text": [
            "ค่าตัวแปร x คือ 1 และ x+2 =  3\n",
            "ค่าตัวแปร x คือ 2 และ x+2 =  4\n",
            "ค่าตัวแปร x คือ 3 และ x+2 =  5\n",
            "ค่าตัวแปร x คือ 4 และ x+2 =  6\n",
            "ค่าตัวแปร x คือ 5 และ x+2 =  7\n"
          ],
          "name": "stdout"
        }
      ]
    },
    {
      "cell_type": "code",
      "metadata": {
        "colab": {
          "base_uri": "https://localhost:8080/"
        },
        "id": "ptGGCZmCN03u",
        "outputId": "2ae18752-2f0b-4f1f-8a06-9611e0457a59"
      },
      "source": [
        "list (range(10))"
      ],
      "execution_count": 111,
      "outputs": [
        {
          "output_type": "execute_result",
          "data": {
            "text/plain": [
              "[0, 1, 2, 3, 4, 5, 6, 7, 8, 9]"
            ]
          },
          "metadata": {
            "tags": []
          },
          "execution_count": 111
        }
      ]
    },
    {
      "cell_type": "code",
      "metadata": {
        "colab": {
          "base_uri": "https://localhost:8080/"
        },
        "id": "fJMhhMJ8N6fD",
        "outputId": "4edd68f4-470f-4fc1-a6d6-3f64324b0c35"
      },
      "source": [
        "for i in range (2,7) :\n",
        "  print (i)"
      ],
      "execution_count": 112,
      "outputs": [
        {
          "output_type": "stream",
          "text": [
            "2\n",
            "3\n",
            "4\n",
            "5\n",
            "6\n"
          ],
          "name": "stdout"
        }
      ]
    },
    {
      "cell_type": "code",
      "metadata": {
        "colab": {
          "base_uri": "https://localhost:8080/"
        },
        "id": "i8MLibGoOYnS",
        "outputId": "9ce8f58e-a5fe-476b-b082-2076bde91218"
      },
      "source": [
        "for i in range (2,7,2) :\n",
        "  print (i)"
      ],
      "execution_count": 113,
      "outputs": [
        {
          "output_type": "stream",
          "text": [
            "2\n",
            "4\n",
            "6\n"
          ],
          "name": "stdout"
        }
      ]
    },
    {
      "cell_type": "code",
      "metadata": {
        "colab": {
          "base_uri": "https://localhost:8080/"
        },
        "id": "EXw8Vn2sOuod",
        "outputId": "12f2d493-c048-47bd-e850-8bc1e3965a39"
      },
      "source": [
        "for i in range (5) :\n",
        "   print  ('hahaha')\n",
        "   x = i + 3\n",
        "   print (f' i = {i}  x = {x}')"
      ],
      "execution_count": 116,
      "outputs": [
        {
          "output_type": "stream",
          "text": [
            "hahaha\n",
            " i = 0  x = 3\n",
            "hahaha\n",
            " i = 1  x = 4\n",
            "hahaha\n",
            " i = 2  x = 5\n",
            "hahaha\n",
            " i = 3  x = 6\n",
            "hahaha\n",
            " i = 4  x = 7\n"
          ],
          "name": "stdout"
        }
      ]
    },
    {
      "cell_type": "markdown",
      "metadata": {
        "id": "XF-74v4ZKVFr"
      },
      "source": [
        "## Condition\n",
        "\n",
        "## Function"
      ]
    }
  ]
}