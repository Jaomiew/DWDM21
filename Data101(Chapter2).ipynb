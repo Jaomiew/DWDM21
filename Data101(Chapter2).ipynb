{
  "nbformat": 4,
  "nbformat_minor": 0,
  "metadata": {
    "colab": {
      "name": "Data101(Chapter2).ipynb",
      "provenance": [],
      "authorship_tag": "ABX9TyMkYy083oFZoKgiDqv1O17L",
      "include_colab_link": true
    },
    "kernelspec": {
      "name": "python3",
      "display_name": "Python 3"
    },
    "language_info": {
      "name": "python"
    }
  },
  "cells": [
    {
      "cell_type": "markdown",
      "metadata": {
        "id": "view-in-github",
        "colab_type": "text"
      },
      "source": [
        "<a href=\"https://colab.research.google.com/github/Jaomiew/DWDM21/blob/main/Data101(Chapter2).ipynb\" target=\"_parent\"><img src=\"https://colab.research.google.com/assets/colab-badge.svg\" alt=\"Open In Colab\"/></a>"
      ]
    },
    {
      "cell_type": "markdown",
      "metadata": {
        "id": "CMHH9kwouXqB"
      },
      "source": [
        "## **ข้อความที่อยู่ใน textbox จะเป็น ภาษา markdown**\n",
        "\n",
        "## **ข้อดีหนึ่งของ Python คือมี package สำหรับทำงานต่างๆมากมาย**\n",
        "\n",
        "## **ซึ่ง pandas เป็น package สำหรับการทำงานกับข้อมูลที่อยู่ในรูปแบบตาราง**\n",
        "\n",
        "## **โดย pandas จะเรียกตารางนั้นว่า dataframe**"
      ]
    },
    {
      "cell_type": "markdown",
      "metadata": {
        "id": "oXEBzBGBtZrS"
      },
      "source": [
        "# **package ที่ใช้ในการจัดการข้อมูล**\n",
        "\n",
        "## **1. pandas**\n"
      ]
    },
    {
      "cell_type": "code",
      "metadata": {
        "id": "9JEC5_UXsO9C"
      },
      "source": [
        "  import pandas #วิธีเรียกใช้ package คือ import ตามด้วยชื่อ package \n",
        "                       #คือการ import แบบธรรมดา\n"
      ],
      "execution_count": 4,
      "outputs": []
    },
    {
      "cell_type": "code",
      "metadata": {
        "id": "ZXx1OzQjtihP"
      },
      "source": [
        "import  pandas as pd  #เหมือนกับข้างต้นเเต่เเค่ตั้งชื่อให้ package ที่โหลดมาว่า pd ซึ่งทำให้เวลาพิ์มสั้นกว่าคำว่า pandas"
      ],
      "execution_count": 5,
      "outputs": []
    },
    {
      "cell_type": "markdown",
      "metadata": {
        "id": "VkAxuogRvTDd"
      },
      "source": [
        "## ไฟล์ที่จะเจอคือ\n",
        "\n",
        "1. .csv (CSV = comma separated values) เป็นไฟล์หลังที่จะใช้ในวิชานี้\n",
        "เก็บข้อมูลตาราง ใช้งานง่ายๆ"
      ]
    },
    {
      "cell_type": "code",
      "metadata": {
        "id": "ukP09fkavzq0"
      },
      "source": [
        "data_df = pd.read_csv('data.csv') #ใช้ data ชื่อ pd\n"
      ],
      "execution_count": 6,
      "outputs": []
    },
    {
      "cell_type": "code",
      "metadata": {
        "colab": {
          "base_uri": "https://localhost:8080/",
          "height": 142
        },
        "id": "MwsjPNgdx1eI",
        "outputId": "b56867c1-d114-442e-e733-5a35bcbe9171"
      },
      "source": [
        "data_df "
      ],
      "execution_count": 7,
      "outputs": [
        {
          "output_type": "execute_result",
          "data": {
            "text/html": [
              "<div>\n",
              "<style scoped>\n",
              "    .dataframe tbody tr th:only-of-type {\n",
              "        vertical-align: middle;\n",
              "    }\n",
              "\n",
              "    .dataframe tbody tr th {\n",
              "        vertical-align: top;\n",
              "    }\n",
              "\n",
              "    .dataframe thead th {\n",
              "        text-align: right;\n",
              "    }\n",
              "</style>\n",
              "<table border=\"1\" class=\"dataframe\">\n",
              "  <thead>\n",
              "    <tr style=\"text-align: right;\">\n",
              "      <th></th>\n",
              "      <th>name</th>\n",
              "      <th>age</th>\n",
              "      <th>city</th>\n",
              "    </tr>\n",
              "  </thead>\n",
              "  <tbody>\n",
              "    <tr>\n",
              "      <th>0</th>\n",
              "      <td>Tom</td>\n",
              "      <td>27</td>\n",
              "      <td>Khon Kaen</td>\n",
              "    </tr>\n",
              "    <tr>\n",
              "      <th>1</th>\n",
              "      <td>Paul</td>\n",
              "      <td>15</td>\n",
              "      <td>Bangkok</td>\n",
              "    </tr>\n",
              "    <tr>\n",
              "      <th>2</th>\n",
              "      <td>Sarah</td>\n",
              "      <td>49</td>\n",
              "      <td>London</td>\n",
              "    </tr>\n",
              "  </tbody>\n",
              "</table>\n",
              "</div>"
            ],
            "text/plain": [
              "    name  age       city\n",
              "0    Tom   27  Khon Kaen\n",
              "1   Paul   15    Bangkok\n",
              "2  Sarah   49     London"
            ]
          },
          "metadata": {
            "tags": []
          },
          "execution_count": 7
        }
      ]
    },
    {
      "cell_type": "code",
      "metadata": {
        "colab": {
          "base_uri": "https://localhost:8080/",
          "height": 142
        },
        "id": "R-o3wrMNyf04",
        "outputId": "46ed0401-188f-43fc-a960-35ac7233148c"
      },
      "source": [
        "data_df2 = pandas.read_csv('data.csv') #ใช้ data ชื่อ pandas คนละชื่อกันกับข้างบน\n",
        "data_df2"
      ],
      "execution_count": 8,
      "outputs": [
        {
          "output_type": "execute_result",
          "data": {
            "text/html": [
              "<div>\n",
              "<style scoped>\n",
              "    .dataframe tbody tr th:only-of-type {\n",
              "        vertical-align: middle;\n",
              "    }\n",
              "\n",
              "    .dataframe tbody tr th {\n",
              "        vertical-align: top;\n",
              "    }\n",
              "\n",
              "    .dataframe thead th {\n",
              "        text-align: right;\n",
              "    }\n",
              "</style>\n",
              "<table border=\"1\" class=\"dataframe\">\n",
              "  <thead>\n",
              "    <tr style=\"text-align: right;\">\n",
              "      <th></th>\n",
              "      <th>name</th>\n",
              "      <th>age</th>\n",
              "      <th>city</th>\n",
              "    </tr>\n",
              "  </thead>\n",
              "  <tbody>\n",
              "    <tr>\n",
              "      <th>0</th>\n",
              "      <td>Tom</td>\n",
              "      <td>27</td>\n",
              "      <td>Khon Kaen</td>\n",
              "    </tr>\n",
              "    <tr>\n",
              "      <th>1</th>\n",
              "      <td>Paul</td>\n",
              "      <td>15</td>\n",
              "      <td>Bangkok</td>\n",
              "    </tr>\n",
              "    <tr>\n",
              "      <th>2</th>\n",
              "      <td>Sarah</td>\n",
              "      <td>49</td>\n",
              "      <td>London</td>\n",
              "    </tr>\n",
              "  </tbody>\n",
              "</table>\n",
              "</div>"
            ],
            "text/plain": [
              "    name  age       city\n",
              "0    Tom   27  Khon Kaen\n",
              "1   Paul   15    Bangkok\n",
              "2  Sarah   49     London"
            ]
          },
          "metadata": {
            "tags": []
          },
          "execution_count": 8
        }
      ]
    },
    {
      "cell_type": "markdown",
      "metadata": {
        "id": "VHlMwHxwy_pj"
      },
      "source": [
        "# **Basic Python**\n",
        "## variables ตัวแปร คือ กล่องที่เอาไว้ใส่ข้อมูล\n",
        "\n",
        "## **ข้อกำหนดในการตั้งชื่อตัวแปร**\n",
        "\n",
        "1. ชื่อห้ามมีเว้นวรรค\n",
        "\n",
        "2. (พยายาม)ใช้ภาษาอังกฤษ\n",
        "\n",
        "3. ตัวเล็กกับตัวใหญ่ แตกต่างกัน (case sensitive)\n",
        "\n",
        "4. ห้ามใช้ตัวเลขเป็นตัวหน้า"
      ]
    },
    {
      "cell_type": "code",
      "metadata": {
        "id": "nA0pOXHdy7Zy"
      },
      "source": [
        "variable_a = 12              #12 ไม่มี quote คือเป็นตัวเลข 12    #variable_a คือช่องกล่อง\n",
        "variable_b = ' abcde '     # 'เรียกว่า ' ' quote' เป็นตัวหนังสือ\n",
        "variable_c = variable_a "
      ],
      "execution_count": 9,
      "outputs": []
    },
    {
      "cell_type": "code",
      "metadata": {
        "colab": {
          "base_uri": "https://localhost:8080/"
        },
        "id": "imqsMjVv1rOC",
        "outputId": "64237d40-d24e-409c-e0ae-19bfdebfa581"
      },
      "source": [
        "variable_a"
      ],
      "execution_count": 10,
      "outputs": [
        {
          "output_type": "execute_result",
          "data": {
            "text/plain": [
              "12"
            ]
          },
          "metadata": {
            "tags": []
          },
          "execution_count": 10
        }
      ]
    },
    {
      "cell_type": "code",
      "metadata": {
        "colab": {
          "base_uri": "https://localhost:8080/",
          "height": 35
        },
        "id": "XJaSpWjR1u4f",
        "outputId": "611868ee-8238-4575-9c5d-0c93c70fe485"
      },
      "source": [
        "variable_b"
      ],
      "execution_count": 11,
      "outputs": [
        {
          "output_type": "execute_result",
          "data": {
            "application/vnd.google.colaboratory.intrinsic+json": {
              "type": "string"
            },
            "text/plain": [
              "' abcde '"
            ]
          },
          "metadata": {
            "tags": []
          },
          "execution_count": 11
        }
      ]
    },
    {
      "cell_type": "code",
      "metadata": {
        "colab": {
          "base_uri": "https://localhost:8080/"
        },
        "id": "o6mxjNAm1x8s",
        "outputId": "9bb3e619-70f6-49da-f7b8-d85a2f59b8ed"
      },
      "source": [
        "variable_c"
      ],
      "execution_count": 12,
      "outputs": [
        {
          "output_type": "execute_result",
          "data": {
            "text/plain": [
              "12"
            ]
          },
          "metadata": {
            "tags": []
          },
          "execution_count": 12
        }
      ]
    },
    {
      "cell_type": "markdown",
      "metadata": {
        "id": "lsMlZnRD_i8K"
      },
      "source": [
        "# **ชื่อห้ามมีเว้นวรรค**"
      ]
    },
    {
      "cell_type": "code",
      "metadata": {
        "id": "H0nVPg1S-hII",
        "colab": {
          "base_uri": "https://localhost:8080/",
          "height": 130
        },
        "outputId": "24766c10-8547-4e56-e88b-054d82be4664"
      },
      "source": [
        "\n",
        "variable a = 6"
      ],
      "execution_count": 13,
      "outputs": [
        {
          "output_type": "error",
          "ename": "SyntaxError",
          "evalue": "ignored",
          "traceback": [
            "\u001b[0;36m  File \u001b[0;32m\"<ipython-input-13-930be69a0377>\"\u001b[0;36m, line \u001b[0;32m2\u001b[0m\n\u001b[0;31m    variable a = 6\u001b[0m\n\u001b[0m             ^\u001b[0m\n\u001b[0;31mSyntaxError\u001b[0m\u001b[0;31m:\u001b[0m invalid syntax\n"
          ]
        }
      ]
    },
    {
      "cell_type": "markdown",
      "metadata": {
        "id": "NFmCDlhV_oC4"
      },
      "source": [
        "# **(พยายาม)ใช้ภาษาอังกฤษ**\n",
        "\n",
        "## colab ใช้ภาษาไทยเป็นชื่อตัวแปรได้ แต่ไม่ควรใช้"
      ]
    },
    {
      "cell_type": "code",
      "metadata": {
        "id": "6pe1vz1g-oaX",
        "colab": {
          "base_uri": "https://localhost:8080/"
        },
        "outputId": "bfc98f55-71b5-413a-852b-c6f1296f5b74"
      },
      "source": [
        "\n",
        "ตัวแปร = 3\n",
        "ตัวแปร"
      ],
      "execution_count": 14,
      "outputs": [
        {
          "output_type": "execute_result",
          "data": {
            "text/plain": [
              "3"
            ]
          },
          "metadata": {
            "tags": []
          },
          "execution_count": 14
        }
      ]
    },
    {
      "cell_type": "markdown",
      "metadata": {
        "id": "BZ07OYwk_ban"
      },
      "source": [
        "# **ตัวเล็กกับตัวใหญ่ แตกต่างกัน (case sensitive)**"
      ]
    },
    {
      "cell_type": "code",
      "metadata": {
        "id": "39XHaJWq-sJV",
        "colab": {
          "base_uri": "https://localhost:8080/"
        },
        "outputId": "8e4031c2-3222-4aee-fb97-8447e996467f"
      },
      "source": [
        "\n",
        "v_a = 1\n",
        "V_a = 2\n",
        "print(v_a)\n",
        "print(V_a)"
      ],
      "execution_count": 15,
      "outputs": [
        {
          "output_type": "stream",
          "text": [
            "1\n",
            "2\n"
          ],
          "name": "stdout"
        }
      ]
    },
    {
      "cell_type": "code",
      "metadata": {
        "id": "sVGb_SML--h8",
        "colab": {
          "base_uri": "https://localhost:8080/"
        },
        "outputId": "9b029d51-cc87-4c57-abcb-6c720c945fd4"
      },
      "source": [
        "v_a = 1\n",
        "v_a = 2\n",
        "print(v_a)\n",
        "print(v_a)"
      ],
      "execution_count": 16,
      "outputs": [
        {
          "output_type": "stream",
          "text": [
            "2\n",
            "2\n"
          ],
          "name": "stdout"
        }
      ]
    },
    {
      "cell_type": "markdown",
      "metadata": {
        "id": "np5xpDoX_Q88"
      },
      "source": [
        "# **ห้ามใช้ตัวเลขเป็นตัวหน้า**"
      ]
    },
    {
      "cell_type": "code",
      "metadata": {
        "id": "XEXUjDFQ_LFA",
        "colab": {
          "base_uri": "https://localhost:8080/",
          "height": 130
        },
        "outputId": "ce5d4b87-a452-475e-8f23-17d1b7b3f846"
      },
      "source": [
        "2 = 1"
      ],
      "execution_count": 21,
      "outputs": [
        {
          "output_type": "error",
          "ename": "SyntaxError",
          "evalue": "ignored",
          "traceback": [
            "\u001b[0;36m  File \u001b[0;32m\"<ipython-input-21-055db9bd644a>\"\u001b[0;36m, line \u001b[0;32m1\u001b[0m\n\u001b[0;31m    2 = 1\u001b[0m\n\u001b[0m         ^\u001b[0m\n\u001b[0;31mSyntaxError\u001b[0m\u001b[0;31m:\u001b[0m can't assign to literal\n"
          ]
        }
      ]
    },
    {
      "cell_type": "code",
      "metadata": {
        "id": "3LCNcXhW_PGw",
        "colab": {
          "base_uri": "https://localhost:8080/",
          "height": 130
        },
        "outputId": "c0f0583f-4d81-403c-a87c-0a0eb725e5ed"
      },
      "source": [
        "\n",
        "2ab = 1"
      ],
      "execution_count": 19,
      "outputs": [
        {
          "output_type": "error",
          "ename": "SyntaxError",
          "evalue": "ignored",
          "traceback": [
            "\u001b[0;36m  File \u001b[0;32m\"<ipython-input-19-484e6c14e34b>\"\u001b[0;36m, line \u001b[0;32m2\u001b[0m\n\u001b[0;31m    2ab = 1\u001b[0m\n\u001b[0m      ^\u001b[0m\n\u001b[0;31mSyntaxError\u001b[0m\u001b[0;31m:\u001b[0m invalid syntax\n"
          ]
        }
      ]
    },
    {
      "cell_type": "code",
      "metadata": {
        "id": "bWW4WKV24fXx"
      },
      "source": [
        "variable_a = 12            \n",
        "variable_b = ' abcde '    \n",
        "variable_c = variable_a \n",
        "variable_d = -41.2\n",
        "variable_4 = \"KKU\" #ใช้ double quote \"\"  ก็ได้\n",
        "# สามารถ + - * / ได้  ตัวแปรชนิดเดียวกัน\n",
        "# ไม่สามารถใช้ตัวเลข + - * / กับตัวหนังสือได้"
      ],
      "execution_count": 22,
      "outputs": []
    },
    {
      "cell_type": "code",
      "metadata": {
        "colab": {
          "base_uri": "https://localhost:8080/"
        },
        "id": "k76YqaJh4-ZF",
        "outputId": "d13baecd-b6e1-4624-a87b-348cc3ce54f5"
      },
      "source": [
        "variable_x = variable_c + variable_d\n",
        "print (variable_x)         #print ใช้แสดงค่า"
      ],
      "execution_count": 23,
      "outputs": [
        {
          "output_type": "stream",
          "text": [
            "-29.200000000000003\n"
          ],
          "name": "stdout"
        }
      ]
    },
    {
      "cell_type": "code",
      "metadata": {
        "id": "_JYYzhj7AjeY",
        "colab": {
          "base_uri": "https://localhost:8080/",
          "height": 163
        },
        "outputId": "4f599101-4aa8-4596-d991-736d54f50597"
      },
      "source": [
        "variable_a + variable_b"
      ],
      "execution_count": 24,
      "outputs": [
        {
          "output_type": "error",
          "ename": "TypeError",
          "evalue": "ignored",
          "traceback": [
            "\u001b[0;31m---------------------------------------------------------------------------\u001b[0m",
            "\u001b[0;31mTypeError\u001b[0m                                 Traceback (most recent call last)",
            "\u001b[0;32m<ipython-input-24-ca279e5cd267>\u001b[0m in \u001b[0;36m<module>\u001b[0;34m()\u001b[0m\n\u001b[0;32m----> 1\u001b[0;31m \u001b[0mvariable_a\u001b[0m \u001b[0;34m+\u001b[0m \u001b[0mvariable_b\u001b[0m\u001b[0;34m\u001b[0m\u001b[0;34m\u001b[0m\u001b[0m\n\u001b[0m",
            "\u001b[0;31mTypeError\u001b[0m: unsupported operand type(s) for +: 'int' and 'str'"
          ]
        }
      ]
    },
    {
      "cell_type": "code",
      "metadata": {
        "colab": {
          "base_uri": "https://localhost:8080/"
        },
        "id": "MX8T_oQZ643L",
        "outputId": "5af3943a-f83e-4aef-aba5-8b48d100cbfa"
      },
      "source": [
        "print (variable_b + variable_4)  #ตัวแปรที่เป็นตัวหนังสือ + กับตัวหนังสือ"
      ],
      "execution_count": 25,
      "outputs": [
        {
          "output_type": "stream",
          "text": [
            " abcde KKU\n"
          ],
          "name": "stdout"
        }
      ]
    },
    {
      "cell_type": "markdown",
      "metadata": {
        "id": "A33bL6RO7iWy"
      },
      "source": [
        "# **Casting การเปลี่ยนชนิดของตัวเเปร**\n",
        "## **ing ()**\n",
        "\n",
        "## **float ()**\n",
        " \n",
        "## **str () เปลี่ยนตัวเลข ทศนิยมเป็น จน. จริง**"
      ]
    },
    {
      "cell_type": "code",
      "metadata": {
        "colab": {
          "base_uri": "https://localhost:8080/"
        },
        "id": "L2rlFLzE7TMV",
        "outputId": "a8e689a5-1d09-4b97-ca9f-a10d33658733"
      },
      "source": [
        "print (variable_x)\n",
        "print (int(variable_x))"
      ],
      "execution_count": 26,
      "outputs": [
        {
          "output_type": "stream",
          "text": [
            "-29.200000000000003\n",
            "-29\n"
          ],
          "name": "stdout"
        }
      ]
    },
    {
      "cell_type": "code",
      "metadata": {
        "colab": {
          "base_uri": "https://localhost:8080/"
        },
        "id": "dFO7X_I28AOp",
        "outputId": "0309bf76-8b0d-4df9-ec69-f7266b972af0"
      },
      "source": [
        "V_X = str (variable_x)\n",
        "print (V_X)"
      ],
      "execution_count": 27,
      "outputs": [
        {
          "output_type": "stream",
          "text": [
            "-29.200000000000003\n"
          ],
          "name": "stdout"
        }
      ]
    },
    {
      "cell_type": "code",
      "metadata": {
        "colab": {
          "base_uri": "https://localhost:8080/",
          "height": 163
        },
        "id": "pVKyOTat8bMZ",
        "outputId": "fbe58440-1b17-4083-d5cf-d2d7d4154e65"
      },
      "source": [
        "V_X + variable_a"
      ],
      "execution_count": 28,
      "outputs": [
        {
          "output_type": "error",
          "ename": "TypeError",
          "evalue": "ignored",
          "traceback": [
            "\u001b[0;31m---------------------------------------------------------------------------\u001b[0m",
            "\u001b[0;31mTypeError\u001b[0m                                 Traceback (most recent call last)",
            "\u001b[0;32m<ipython-input-28-d83c0918f5c6>\u001b[0m in \u001b[0;36m<module>\u001b[0;34m()\u001b[0m\n\u001b[0;32m----> 1\u001b[0;31m \u001b[0mV_X\u001b[0m \u001b[0;34m+\u001b[0m \u001b[0mvariable_a\u001b[0m\u001b[0;34m\u001b[0m\u001b[0;34m\u001b[0m\u001b[0m\n\u001b[0m",
            "\u001b[0;31mTypeError\u001b[0m: can only concatenate str (not \"int\") to str"
          ]
        }
      ]
    },
    {
      "cell_type": "code",
      "metadata": {
        "colab": {
          "base_uri": "https://localhost:8080/",
          "height": 163
        },
        "id": "SvWcws8l8gGB",
        "outputId": "82223282-f9a1-444c-9cf1-1825a418c613"
      },
      "source": [
        "variable_a + V_X"
      ],
      "execution_count": 29,
      "outputs": [
        {
          "output_type": "error",
          "ename": "TypeError",
          "evalue": "ignored",
          "traceback": [
            "\u001b[0;31m---------------------------------------------------------------------------\u001b[0m",
            "\u001b[0;31mTypeError\u001b[0m                                 Traceback (most recent call last)",
            "\u001b[0;32m<ipython-input-29-9c7fa6bc8848>\u001b[0m in \u001b[0;36m<module>\u001b[0;34m()\u001b[0m\n\u001b[0;32m----> 1\u001b[0;31m \u001b[0mvariable_a\u001b[0m \u001b[0;34m+\u001b[0m \u001b[0mV_X\u001b[0m\u001b[0;34m\u001b[0m\u001b[0;34m\u001b[0m\u001b[0m\n\u001b[0m",
            "\u001b[0;31mTypeError\u001b[0m: unsupported operand type(s) for +: 'int' and 'str'"
          ]
        }
      ]
    },
    {
      "cell_type": "code",
      "metadata": {
        "colab": {
          "base_uri": "https://localhost:8080/",
          "height": 35
        },
        "id": "AcX4xfjm8zBr",
        "outputId": "2bc5b056-30d4-43f5-862b-170f1cd7d415"
      },
      "source": [
        "V_X #พิมพ์ชือตัวเเปรธรรมดา"
      ],
      "execution_count": 30,
      "outputs": [
        {
          "output_type": "execute_result",
          "data": {
            "application/vnd.google.colaboratory.intrinsic+json": {
              "type": "string"
            },
            "text/plain": [
              "'-29.200000000000003'"
            ]
          },
          "metadata": {
            "tags": []
          },
          "execution_count": 30
        }
      ]
    },
    {
      "cell_type": "code",
      "metadata": {
        "colab": {
          "base_uri": "https://localhost:8080/"
        },
        "id": "uGSvGM2B9AE9",
        "outputId": "6894d964-748e-4ce7-f857-2e9b4eff7462"
      },
      "source": [
        "float (V_X)"
      ],
      "execution_count": 31,
      "outputs": [
        {
          "output_type": "execute_result",
          "data": {
            "text/plain": [
              "-29.200000000000003"
            ]
          },
          "metadata": {
            "tags": []
          },
          "execution_count": 31
        }
      ]
    },
    {
      "cell_type": "markdown",
      "metadata": {
        "id": "QANWBeWw9UPZ"
      },
      "source": [
        "# **Data Structure โครงสร้างของข้อมูล  เอาค่าเเต่ละตัวมาต่อกันได้ ทำให้ง่ายขึ้น**\n",
        "\n",
        "#list()\n",
        "\n",
        "int , float , str มาต่อกันได้\n",
        "\n",
        "\n",
        "\n",
        "\n"
      ]
    },
    {
      "cell_type": "code",
      "metadata": {
        "id": "y0NHCGIZ9yym"
      },
      "source": [
        "list_a = [1,2,0.2,'abs']      #[]  คือ square brackets\n",
        "list_b = [2,'xyz',list_a,[1,2,0.0]]"
      ],
      "execution_count": 32,
      "outputs": []
    },
    {
      "cell_type": "code",
      "metadata": {
        "colab": {
          "base_uri": "https://localhost:8080/"
        },
        "id": "GAohgCf5-s5A",
        "outputId": "d0ac3ba5-b124-4ed7-c3a5-13e9123c1637"
      },
      "source": [
        "list_a"
      ],
      "execution_count": 33,
      "outputs": [
        {
          "output_type": "execute_result",
          "data": {
            "text/plain": [
              "[1, 2, 0.2, 'abs']"
            ]
          },
          "metadata": {
            "tags": []
          },
          "execution_count": 33
        }
      ]
    },
    {
      "cell_type": "code",
      "metadata": {
        "colab": {
          "base_uri": "https://localhost:8080/"
        },
        "id": "1awsdwg9-vHQ",
        "outputId": "923bdff3-3825-45d0-cb60-b5bb304f180e"
      },
      "source": [
        "list_b"
      ],
      "execution_count": 34,
      "outputs": [
        {
          "output_type": "execute_result",
          "data": {
            "text/plain": [
              "[2, 'xyz', [1, 2, 0.2, 'abs'], [1, 2, 0.0]]"
            ]
          },
          "metadata": {
            "tags": []
          },
          "execution_count": 34
        }
      ]
    },
    {
      "cell_type": "code",
      "metadata": {
        "colab": {
          "base_uri": "https://localhost:8080/"
        },
        "id": "HD0BMJFW-5tE",
        "outputId": "c7f1aa76-af8e-4c8d-cb06-0ffb81293169"
      },
      "source": [
        "len (list_b)"
      ],
      "execution_count": 35,
      "outputs": [
        {
          "output_type": "execute_result",
          "data": {
            "text/plain": [
              "4"
            ]
          },
          "metadata": {
            "tags": []
          },
          "execution_count": 35
        }
      ]
    },
    {
      "cell_type": "code",
      "metadata": {
        "colab": {
          "base_uri": "https://localhost:8080/"
        },
        "id": "ZOOc3JI1-9mo",
        "outputId": "ec10ea70-7429-4bb6-b970-59875ac774f6"
      },
      "source": [
        "list_b[3]"
      ],
      "execution_count": 36,
      "outputs": [
        {
          "output_type": "execute_result",
          "data": {
            "text/plain": [
              "[1, 2, 0.0]"
            ]
          },
          "metadata": {
            "tags": []
          },
          "execution_count": 36
        }
      ]
    },
    {
      "cell_type": "code",
      "metadata": {
        "colab": {
          "base_uri": "https://localhost:8080/"
        },
        "id": "UCrr4XHN_B2u",
        "outputId": "ae709b31-2565-4686-b256-bed706cebe6b"
      },
      "source": [
        "list_b[3][1]"
      ],
      "execution_count": 37,
      "outputs": [
        {
          "output_type": "execute_result",
          "data": {
            "text/plain": [
              "2"
            ]
          },
          "metadata": {
            "tags": []
          },
          "execution_count": 37
        }
      ]
    },
    {
      "cell_type": "markdown",
      "metadata": {
        "id": "8j0p85EJ_V-o"
      },
      "source": [
        "# **stringg คือ list ของตัวหนังสือ**"
      ]
    },
    {
      "cell_type": "code",
      "metadata": {
        "id": "qdCq6D9n_dgu"
      },
      "source": [
        "a = 'stat KKU'   #เริ่มนับจาก 0"
      ],
      "execution_count": 38,
      "outputs": []
    },
    {
      "cell_type": "code",
      "metadata": {
        "colab": {
          "base_uri": "https://localhost:8080/",
          "height": 35
        },
        "id": "o11Moztz_igL",
        "outputId": "214e1a05-3b0c-4fb0-ec59-c3012ee303ed"
      },
      "source": [
        "a[4]"
      ],
      "execution_count": 39,
      "outputs": [
        {
          "output_type": "execute_result",
          "data": {
            "application/vnd.google.colaboratory.intrinsic+json": {
              "type": "string"
            },
            "text/plain": [
              "' '"
            ]
          },
          "metadata": {
            "tags": []
          },
          "execution_count": 39
        }
      ]
    },
    {
      "cell_type": "markdown",
      "metadata": {
        "id": "5sXQ5s-AADqt"
      },
      "source": [
        "\n",
        "# **วิธีสร้าง list ว่าง**\n"
      ]
    },
    {
      "cell_type": "code",
      "metadata": {
        "id": "7xwWLYR9AG3Z"
      },
      "source": [
        "list_c = list()  #แบบที่ 1\n",
        "list_d = []      #แบบที่ 2"
      ],
      "execution_count": 40,
      "outputs": []
    },
    {
      "cell_type": "code",
      "metadata": {
        "colab": {
          "base_uri": "https://localhost:8080/"
        },
        "id": "eWBZuuq_AZMB",
        "outputId": "230b613f-6b39-4158-a896-d789b3eddf9f"
      },
      "source": [
        "list_c"
      ],
      "execution_count": 41,
      "outputs": [
        {
          "output_type": "execute_result",
          "data": {
            "text/plain": [
              "[]"
            ]
          },
          "metadata": {
            "tags": []
          },
          "execution_count": 41
        }
      ]
    },
    {
      "cell_type": "code",
      "metadata": {
        "colab": {
          "base_uri": "https://localhost:8080/"
        },
        "id": "ySaC8xvUAalI",
        "outputId": "a09aa8d4-dd21-49cf-f98e-c44616a5b575"
      },
      "source": [
        "list_d"
      ],
      "execution_count": 42,
      "outputs": [
        {
          "output_type": "execute_result",
          "data": {
            "text/plain": [
              "[]"
            ]
          },
          "metadata": {
            "tags": []
          },
          "execution_count": 42
        }
      ]
    },
    {
      "cell_type": "markdown",
      "metadata": {
        "id": "71ZkDxxlA6WL"
      },
      "source": [
        "# **เติมค่าลงใน list ใช้ .append ()**\n",
        "\n",
        "## **การชี้ค่าใน list เรียกว่า indexing**\n",
        "\n",
        "1. ใช้ลำดับในการชี้\n",
        "\n",
        "2. ลำดับดริ่มจาก 0\n",
        "\n",
        "3. สามารถชี้จากข้างหลัง โดยใช้ negative index"
      ]
    },
    {
      "cell_type": "code",
      "metadata": {
        "colab": {
          "base_uri": "https://localhost:8080/"
        },
        "id": "TLJH9MaRCJhh",
        "outputId": "3b6b13bc-5f60-4d8e-f2ed-7cd76c39ffc5"
      },
      "source": [
        "list_b[-1]"
      ],
      "execution_count": 43,
      "outputs": [
        {
          "output_type": "execute_result",
          "data": {
            "text/plain": [
              "[1, 2, 0.0]"
            ]
          },
          "metadata": {
            "tags": []
          },
          "execution_count": 43
        }
      ]
    },
    {
      "cell_type": "code",
      "metadata": {
        "id": "9ZMSnIMLAdtW"
      },
      "source": [
        "list_d.append( 'a')"
      ],
      "execution_count": 44,
      "outputs": []
    },
    {
      "cell_type": "code",
      "metadata": {
        "colab": {
          "base_uri": "https://localhost:8080/"
        },
        "id": "9TS_5mo6BNdT",
        "outputId": "7e406656-4ec3-466e-b1bb-1ece73b16dcd"
      },
      "source": [
        "list_d"
      ],
      "execution_count": 45,
      "outputs": [
        {
          "output_type": "execute_result",
          "data": {
            "text/plain": [
              "['a']"
            ]
          },
          "metadata": {
            "tags": []
          },
          "execution_count": 45
        }
      ]
    },
    {
      "cell_type": "code",
      "metadata": {
        "id": "JLikI3YvBTU_"
      },
      "source": [
        "list_d.append(56)"
      ],
      "execution_count": 46,
      "outputs": []
    },
    {
      "cell_type": "code",
      "metadata": {
        "colab": {
          "base_uri": "https://localhost:8080/"
        },
        "id": "Ta8zxXXZBWW_",
        "outputId": "bf5b3053-36cc-4eed-a001-9cb16c6253ad"
      },
      "source": [
        "list_d"
      ],
      "execution_count": 47,
      "outputs": [
        {
          "output_type": "execute_result",
          "data": {
            "text/plain": [
              "['a', 56]"
            ]
          },
          "metadata": {
            "tags": []
          },
          "execution_count": 47
        }
      ]
    },
    {
      "cell_type": "markdown",
      "metadata": {
        "id": "XbMiSHMcCiPT"
      },
      "source": [
        "## list slicing  คือ การตัด list เลือกบางส่วนของ list ออกมา"
      ]
    },
    {
      "cell_type": "code",
      "metadata": {
        "id": "1XyYcC26Cuvc"
      },
      "source": [
        "list_ex = [1,2,3,5,6,8,-1,20,50,0]   #เริ่มนับจาก 0 "
      ],
      "execution_count": 48,
      "outputs": []
    },
    {
      "cell_type": "code",
      "metadata": {
        "colab": {
          "base_uri": "https://localhost:8080/"
        },
        "id": "mOfoOflzC2qb",
        "outputId": "b3504583-71c9-41a8-dbf6-a631f540c338"
      },
      "source": [
        "list_ex[1:6]   #เอาตัวที่ 1 - 5\n",
        "                  #ตัด list ตั้งเเต่ [ตัวหน้า จนถึง ตัวก่อนตัวหลัง]"
      ],
      "execution_count": 49,
      "outputs": [
        {
          "output_type": "execute_result",
          "data": {
            "text/plain": [
              "[2, 3, 5, 6, 8]"
            ]
          },
          "metadata": {
            "tags": []
          },
          "execution_count": 49
        }
      ]
    },
    {
      "cell_type": "code",
      "metadata": {
        "colab": {
          "base_uri": "https://localhost:8080/"
        },
        "id": "H0GaLMszD1to",
        "outputId": "402bcbbd-bae8-4966-cb4a-93d7cfc50706"
      },
      "source": [
        "list_ex[4:]  #เริ่มตั้งเเต่ตัวที่ 4 จนตัวสุดท้าย"
      ],
      "execution_count": 50,
      "outputs": [
        {
          "output_type": "execute_result",
          "data": {
            "text/plain": [
              "[6, 8, -1, 20, 50, 0]"
            ]
          },
          "metadata": {
            "tags": []
          },
          "execution_count": 50
        }
      ]
    },
    {
      "cell_type": "code",
      "metadata": {
        "colab": {
          "base_uri": "https://localhost:8080/"
        },
        "id": "Q5IoJVptEBst",
        "outputId": "36348105-0dd5-4efe-b8f0-803a3eab47cf"
      },
      "source": [
        "list_ex[:6]   #เริ่มตัวเเรก ไปจนถึงตัวก่อนลำดับที่ 6"
      ],
      "execution_count": 51,
      "outputs": [
        {
          "output_type": "execute_result",
          "data": {
            "text/plain": [
              "[1, 2, 3, 5, 6, 8]"
            ]
          },
          "metadata": {
            "tags": []
          },
          "execution_count": 51
        }
      ]
    },
    {
      "cell_type": "markdown",
      "metadata": {
        "id": "dYzOIntkEpIR"
      },
      "source": [
        "## **จุดเริ่มต้น : จุดสุดท้าย : step**"
      ]
    },
    {
      "cell_type": "code",
      "metadata": {
        "colab": {
          "base_uri": "https://localhost:8080/"
        },
        "id": "d5dasS6BE6_4",
        "outputId": "48d672b7-c5bd-4bd2-b153-1d4e6816dbb9"
      },
      "source": [
        "list_ex"
      ],
      "execution_count": 52,
      "outputs": [
        {
          "output_type": "execute_result",
          "data": {
            "text/plain": [
              "[1, 2, 3, 5, 6, 8, -1, 20, 50, 0]"
            ]
          },
          "metadata": {
            "tags": []
          },
          "execution_count": 52
        }
      ]
    },
    {
      "cell_type": "code",
      "metadata": {
        "colab": {
          "base_uri": "https://localhost:8080/"
        },
        "id": "7Sm-NSCgEY--",
        "outputId": "52da0b7f-14f2-4c32-c0a3-c654869a8cb6"
      },
      "source": [
        "list_ex[::2]"
      ],
      "execution_count": 53,
      "outputs": [
        {
          "output_type": "execute_result",
          "data": {
            "text/plain": [
              "[1, 3, 6, -1, 50]"
            ]
          },
          "metadata": {
            "tags": []
          },
          "execution_count": 53
        }
      ]
    },
    {
      "cell_type": "code",
      "metadata": {
        "colab": {
          "base_uri": "https://localhost:8080/"
        },
        "id": "v8Jh_8YEFGZ6",
        "outputId": "f6ab69ed-d13d-470e-a6cc-39a43d2fdc82"
      },
      "source": [
        "list_ex[::-1]    #กลับ list ตัวหลัง ไปอยู่ข้างหน้า  กลับ list ข้างหน้าไปอยู่หลัง"
      ],
      "execution_count": 54,
      "outputs": [
        {
          "output_type": "execute_result",
          "data": {
            "text/plain": [
              "[0, 50, 20, -1, 8, 6, 5, 3, 2, 1]"
            ]
          },
          "metadata": {
            "tags": []
          },
          "execution_count": 54
        }
      ]
    },
    {
      "cell_type": "code",
      "metadata": {
        "colab": {
          "base_uri": "https://localhost:8080/",
          "height": 35
        },
        "id": "v23daBhhFY0R",
        "outputId": "55286b82-787b-48d2-b9d7-93d281a68762"
      },
      "source": [
        "a"
      ],
      "execution_count": 55,
      "outputs": [
        {
          "output_type": "execute_result",
          "data": {
            "application/vnd.google.colaboratory.intrinsic+json": {
              "type": "string"
            },
            "text/plain": [
              "'stat KKU'"
            ]
          },
          "metadata": {
            "tags": []
          },
          "execution_count": 55
        }
      ]
    },
    {
      "cell_type": "code",
      "metadata": {
        "colab": {
          "base_uri": "https://localhost:8080/",
          "height": 35
        },
        "id": "dSSkXa9FFbTV",
        "outputId": "d90ec1d4-a404-4e3c-c308-7e5463eb0015"
      },
      "source": [
        "a[5:]"
      ],
      "execution_count": 56,
      "outputs": [
        {
          "output_type": "execute_result",
          "data": {
            "application/vnd.google.colaboratory.intrinsic+json": {
              "type": "string"
            },
            "text/plain": [
              "'KKU'"
            ]
          },
          "metadata": {
            "tags": []
          },
          "execution_count": 56
        }
      ]
    },
    {
      "cell_type": "code",
      "metadata": {
        "colab": {
          "base_uri": "https://localhost:8080/",
          "height": 35
        },
        "id": "DfkY9h_0GN-l",
        "outputId": "05886813-8c6d-4cc7-9a11-de6c7af3cfe2"
      },
      "source": [
        "a[-3:]"
      ],
      "execution_count": 57,
      "outputs": [
        {
          "output_type": "execute_result",
          "data": {
            "application/vnd.google.colaboratory.intrinsic+json": {
              "type": "string"
            },
            "text/plain": [
              "'KKU'"
            ]
          },
          "metadata": {
            "tags": []
          },
          "execution_count": 57
        }
      ]
    },
    {
      "cell_type": "code",
      "metadata": {
        "colab": {
          "base_uri": "https://localhost:8080/",
          "height": 35
        },
        "id": "z-RP-YFvGVp4",
        "outputId": "a6b48859-3dcd-4dad-88e8-0958457c5a1d"
      },
      "source": [
        "a[5:8]"
      ],
      "execution_count": 58,
      "outputs": [
        {
          "output_type": "execute_result",
          "data": {
            "application/vnd.google.colaboratory.intrinsic+json": {
              "type": "string"
            },
            "text/plain": [
              "'KKU'"
            ]
          },
          "metadata": {
            "tags": []
          },
          "execution_count": 58
        }
      ]
    },
    {
      "cell_type": "code",
      "metadata": {
        "colab": {
          "base_uri": "https://localhost:8080/",
          "height": 35
        },
        "id": "Or5CPeUwGgmp",
        "outputId": "e0330130-8cfb-4a3b-9781-95e4a13cea28"
      },
      "source": [
        "a[5::]"
      ],
      "execution_count": 59,
      "outputs": [
        {
          "output_type": "execute_result",
          "data": {
            "application/vnd.google.colaboratory.intrinsic+json": {
              "type": "string"
            },
            "text/plain": [
              "'KKU'"
            ]
          },
          "metadata": {
            "tags": []
          },
          "execution_count": 59
        }
      ]
    },
    {
      "cell_type": "code",
      "metadata": {
        "colab": {
          "base_uri": "https://localhost:8080/",
          "height": 35
        },
        "id": "2L_WdoKvG9eW",
        "outputId": "35e470ac-da19-432f-ddbd-204401d17c5e"
      },
      "source": [
        "a[-3::1]"
      ],
      "execution_count": 60,
      "outputs": [
        {
          "output_type": "execute_result",
          "data": {
            "application/vnd.google.colaboratory.intrinsic+json": {
              "type": "string"
            },
            "text/plain": [
              "'KKU'"
            ]
          },
          "metadata": {
            "tags": []
          },
          "execution_count": 60
        }
      ]
    },
    {
      "cell_type": "markdown",
      "metadata": {
        "id": "LUIYm9fUHKPx"
      },
      "source": [
        "# **list + list**"
      ]
    },
    {
      "cell_type": "code",
      "metadata": {
        "colab": {
          "base_uri": "https://localhost:8080/"
        },
        "id": "yoFoyNAHHOqP",
        "outputId": "a71ff1da-0880-4b18-ee52-0ca298c36b4e"
      },
      "source": [
        "print(list_a)\n",
        "print(list_b)"
      ],
      "execution_count": 61,
      "outputs": [
        {
          "output_type": "stream",
          "text": [
            "[1, 2, 0.2, 'abs']\n",
            "[2, 'xyz', [1, 2, 0.2, 'abs'], [1, 2, 0.0]]\n"
          ],
          "name": "stdout"
        }
      ]
    },
    {
      "cell_type": "code",
      "metadata": {
        "colab": {
          "base_uri": "https://localhost:8080/"
        },
        "id": "xn_EWxbmHjGH",
        "outputId": "cabab0c9-439f-42e2-cc63-1c1077e72eb5"
      },
      "source": [
        "list_a + list_b  #เอา list มาบวกกันได้"
      ],
      "execution_count": 62,
      "outputs": [
        {
          "output_type": "execute_result",
          "data": {
            "text/plain": [
              "[1, 2, 0.2, 'abs', 2, 'xyz', [1, 2, 0.2, 'abs'], [1, 2, 0.0]]"
            ]
          },
          "metadata": {
            "tags": []
          },
          "execution_count": 62
        }
      ]
    },
    {
      "cell_type": "markdown",
      "metadata": {
        "id": "5Y2h9UffLtYz"
      },
      "source": [
        "# **format string  การจัดเรียงให้สวยงาม**"
      ]
    },
    {
      "cell_type": "code",
      "metadata": {
        "colab": {
          "base_uri": "https://localhost:8080/",
          "height": 35
        },
        "id": "yIhnZrZXL2Kn",
        "outputId": "ad33675d-20a3-4a1d-ccb7-572512b243ad"
      },
      "source": [
        "f' ตัวเเปร list_a มีค่าคือ {list_a} '"
      ],
      "execution_count": 63,
      "outputs": [
        {
          "output_type": "execute_result",
          "data": {
            "application/vnd.google.colaboratory.intrinsic+json": {
              "type": "string"
            },
            "text/plain": [
              "\" ตัวเเปร list_a มีค่าคือ [1, 2, 0.2, 'abs'] \""
            ]
          },
          "metadata": {
            "tags": []
          },
          "execution_count": 63
        }
      ]
    },
    {
      "cell_type": "markdown",
      "metadata": {
        "id": "xVBRaN0IH5E_"
      },
      "source": [
        "# Loop  การวนซ้ำ ทำอะไรซ้ำๆ หรือการทำงานคล้ายๆกัน\n",
        "\n",
        "\n",
        "\n",
        "```\n",
        "indent เว้นวรรค\n",
        "  for  ตัวแปรที่จะรับค่าจากlist  in  listที่นำมาวนลูป :\n",
        "          do someting           #in loop\n",
        "          do another  thing   #in loop\n",
        "  do other thing             # out side loop\n",
        "```\n",
        "\n"
      ]
    },
    {
      "cell_type": "code",
      "metadata": {
        "colab": {
          "base_uri": "https://localhost:8080/"
        },
        "id": "l_ZmIGI9IKW2",
        "outputId": "834dfa88-0be8-482a-bc35-fb5da9b8e3a2"
      },
      "source": [
        "for i in [1,2,3,4,5] : #ดึงค่าจาก list ไปใส่ i  เเล้วเอา i ไปทำอะไรก็ได้\n",
        "  print(i)\n"
      ],
      "execution_count": 64,
      "outputs": [
        {
          "output_type": "stream",
          "text": [
            "1\n",
            "2\n",
            "3\n",
            "4\n",
            "5\n"
          ],
          "name": "stdout"
        }
      ]
    },
    {
      "cell_type": "code",
      "metadata": {
        "colab": {
          "base_uri": "https://localhost:8080/"
        },
        "id": "jCSrVivBKvNW",
        "outputId": "3be2d990-0c0f-431e-d714-f60714397594"
      },
      "source": [
        "  for i in [1,2,3,4,5] :\n",
        "    print(i+1)"
      ],
      "execution_count": 65,
      "outputs": [
        {
          "output_type": "stream",
          "text": [
            "2\n",
            "3\n",
            "4\n",
            "5\n",
            "6\n"
          ],
          "name": "stdout"
        }
      ]
    },
    {
      "cell_type": "code",
      "metadata": {
        "colab": {
          "base_uri": "https://localhost:8080/"
        },
        "id": "tnnKzf4lM3e2",
        "outputId": "d2445677-e1c3-49da-cdca-c02c259d4d75"
      },
      "source": [
        "for x in [1,2,3,4,5] :\n",
        "  print(f'ค่าตัวแปร x คือ {x} และ x+2 =  {x+2}')"
      ],
      "execution_count": 66,
      "outputs": [
        {
          "output_type": "stream",
          "text": [
            "ค่าตัวแปร x คือ 1 และ x+2 =  3\n",
            "ค่าตัวแปร x คือ 2 และ x+2 =  4\n",
            "ค่าตัวแปร x คือ 3 และ x+2 =  5\n",
            "ค่าตัวแปร x คือ 4 และ x+2 =  6\n",
            "ค่าตัวแปร x คือ 5 และ x+2 =  7\n"
          ],
          "name": "stdout"
        }
      ]
    },
    {
      "cell_type": "code",
      "metadata": {
        "colab": {
          "base_uri": "https://localhost:8080/"
        },
        "id": "3X4FqYkONY-B",
        "outputId": "f43394ad-9fea-4efc-a77c-ca80bde4abec"
      },
      "source": [
        "list5 = [1,2,3,4,5] \n",
        "for x in list5 :\n",
        "  print(f'ค่าตัวแปร x คือ {x} และ x+2 =  {x+2}')"
      ],
      "execution_count": 67,
      "outputs": [
        {
          "output_type": "stream",
          "text": [
            "ค่าตัวแปร x คือ 1 และ x+2 =  3\n",
            "ค่าตัวแปร x คือ 2 และ x+2 =  4\n",
            "ค่าตัวแปร x คือ 3 และ x+2 =  5\n",
            "ค่าตัวแปร x คือ 4 และ x+2 =  6\n",
            "ค่าตัวแปร x คือ 5 และ x+2 =  7\n"
          ],
          "name": "stdout"
        }
      ]
    },
    {
      "cell_type": "code",
      "metadata": {
        "colab": {
          "base_uri": "https://localhost:8080/"
        },
        "id": "ptGGCZmCN03u",
        "outputId": "21500fee-88b4-43dc-f00d-4206c20518c5"
      },
      "source": [
        "list (range(10))"
      ],
      "execution_count": 68,
      "outputs": [
        {
          "output_type": "execute_result",
          "data": {
            "text/plain": [
              "[0, 1, 2, 3, 4, 5, 6, 7, 8, 9]"
            ]
          },
          "metadata": {
            "tags": []
          },
          "execution_count": 68
        }
      ]
    },
    {
      "cell_type": "code",
      "metadata": {
        "colab": {
          "base_uri": "https://localhost:8080/"
        },
        "id": "fJMhhMJ8N6fD",
        "outputId": "458b7925-92fc-418e-93a5-f452012c2479"
      },
      "source": [
        "for i in range (2,7) :     #เริ่มที่ 2 ไม่เอา 7\n",
        "  print (i)"
      ],
      "execution_count": 69,
      "outputs": [
        {
          "output_type": "stream",
          "text": [
            "2\n",
            "3\n",
            "4\n",
            "5\n",
            "6\n"
          ],
          "name": "stdout"
        }
      ]
    },
    {
      "cell_type": "code",
      "metadata": {
        "colab": {
          "base_uri": "https://localhost:8080/"
        },
        "id": "i8MLibGoOYnS",
        "outputId": "f45bf9f0-be9c-4f7c-ead8-f9fedf84fb0f"
      },
      "source": [
        "for i in range (2,7,2) :  #เริ่ม 2 ไม่เกิน 7 ข้ามไป 2 step \n",
        "  print (i)"
      ],
      "execution_count": 70,
      "outputs": [
        {
          "output_type": "stream",
          "text": [
            "2\n",
            "4\n",
            "6\n"
          ],
          "name": "stdout"
        }
      ]
    },
    {
      "cell_type": "code",
      "metadata": {
        "colab": {
          "base_uri": "https://localhost:8080/"
        },
        "id": "EXw8Vn2sOuod",
        "outputId": "fc925f82-4e91-4321-c19b-315be6f58974"
      },
      "source": [
        "for i in range (5) :\n",
        "   print  ('hahaha')\n",
        "   x = i + 3\n",
        "   print (f' i = {i}  x = {x}')"
      ],
      "execution_count": 71,
      "outputs": [
        {
          "output_type": "stream",
          "text": [
            "hahaha\n",
            " i = 0  x = 3\n",
            "hahaha\n",
            " i = 1  x = 4\n",
            "hahaha\n",
            " i = 2  x = 5\n",
            "hahaha\n",
            " i = 3  x = 6\n",
            "hahaha\n",
            " i = 4  x = 7\n"
          ],
          "name": "stdout"
        }
      ]
    },
    {
      "cell_type": "markdown",
      "metadata": {
        "id": "2j30VYWsEi8k"
      },
      "source": [
        "# **Nested loop**"
      ]
    },
    {
      "cell_type": "code",
      "metadata": {
        "id": "SoxBt1GcEnVr",
        "colab": {
          "base_uri": "https://localhost:8080/"
        },
        "outputId": "da08acb3-11e4-404b-d06a-dfae57e4e7b2"
      },
      "source": [
        "for i in range(3):\n",
        "    print(f'now i = {i}')\n",
        "    print('start j loop')\n",
        "    for j in range(4):\n",
        "        print(f'i = {i} j = {j} i+j = {i+j}')\n",
        "    print('end j loop')"
      ],
      "execution_count": 72,
      "outputs": [
        {
          "output_type": "stream",
          "text": [
            "now i = 0\n",
            "start j loop\n",
            "i = 0 j = 0 i+j = 0\n",
            "i = 0 j = 1 i+j = 1\n",
            "i = 0 j = 2 i+j = 2\n",
            "i = 0 j = 3 i+j = 3\n",
            "end j loop\n",
            "now i = 1\n",
            "start j loop\n",
            "i = 1 j = 0 i+j = 1\n",
            "i = 1 j = 1 i+j = 2\n",
            "i = 1 j = 2 i+j = 3\n",
            "i = 1 j = 3 i+j = 4\n",
            "end j loop\n",
            "now i = 2\n",
            "start j loop\n",
            "i = 2 j = 0 i+j = 2\n",
            "i = 2 j = 1 i+j = 3\n",
            "i = 2 j = 2 i+j = 4\n",
            "i = 2 j = 3 i+j = 5\n",
            "end j loop\n"
          ],
          "name": "stdout"
        }
      ]
    },
    {
      "cell_type": "markdown",
      "metadata": {
        "id": "XF-74v4ZKVFr"
      },
      "source": [
        "# **Condition  คือ เงื่อนไข ประโยคเงื่อนไข**\n",
        "\n",
        "## **if statement**\n",
        "\n"
      ]
    },
    {
      "cell_type": "markdown",
      "metadata": {
        "id": "bVlBaj1RGG4L"
      },
      "source": [
        "\n",
        "\n",
        "```\n",
        "if เงื่อนไขที่จะตรวจสอบ (โดยใช้สัญลักษณ์== , != , <  ,> , <= , >=):\n",
        "    ถ้าเงื่อนไขเป็นจริง  ทำงาน 1\n",
        "    ถ้าเงื่อนไขเป็นจริง  ทำงาน 2\n",
        "\n",
        "#สามารถทำงานได้หลายเงื่อนไข\n",
        "```\n",
        "\n"
      ]
    },
    {
      "cell_type": "code",
      "metadata": {
        "colab": {
          "base_uri": "https://localhost:8080/"
        },
        "id": "eLjBO-o-HLQj",
        "outputId": "4280df7c-3a75-4997-a2ab-d69aa9ac30f7"
      },
      "source": [
        "stringx = 'saodjp[opejfjdwpojd[ojwjd93odwj'\n",
        "\n",
        "#จะเช็คว่าตัวเเปรที่สร้างขึ้นมาขนาดของมันถึง 30 ตัวอักษรรึป่าว\n",
        "if len (stringx) > 30:\n",
        "\n",
        "#ถ้าเกิดมากว่าเราจะ Print ว่า\n",
        "    print (f'{stringx} is longer than 30 characters')"
      ],
      "execution_count": 73,
      "outputs": [
        {
          "output_type": "stream",
          "text": [
            "saodjp[opejfjdwpojd[ojwjd93odwj is longer than 30 characters\n"
          ],
          "name": "stdout"
        }
      ]
    },
    {
      "cell_type": "code",
      "metadata": {
        "id": "PnfesEn1NHj1"
      },
      "source": [
        "stringx = 'saodjp[opejfjdwpojd[ojwjd93odwj'\n",
        "\n",
        "#จะเช็คว่าตัวเเปรที่สร้างขึ้นมาขนาดของมันถึง 100 ตัวอักษรรึป่าว\n",
        "if len (stringx) > 100:\n",
        "\n",
        "#ถ้าเกิดมากว่าเราจะ Print ว่า\n",
        "    print (f'{stringx} is longer than 100 characters')\n",
        "\n",
        " #สิ่งที่เกินขึ้นคือ มันเช็คว่าตัวอักษรข้างในมันไม่ได้มากว่า 100 ตัวอักษร มันก็ไม่ทำข้างในเลย"
      ],
      "execution_count": 84,
      "outputs": []
    },
    {
      "cell_type": "markdown",
      "metadata": {
        "id": "0XYDRU7cIiSI"
      },
      "source": [
        "\n",
        "\n",
        "```\n",
        "if เงื่อนไขที่จะตรวจสอบ ( ==, !=, <, >, <=, >=) :\n",
        "  ถ้าเงื่อนไขเป็นจริง ทำงาน 1\n",
        "  ถ้าเงื่อนไขเป็นจริง ทำงาน 2\n",
        "else: แปรว่า ตรวจสอบเงื่อนไขข้างบนเเล้วไม่เป็นจริง ก็ไปทำอีกเงื่อนไขนึง\n",
        "  ทำงานที่ x\n",
        "\n",
        "#เมื่อเช็คเเล้วเราไม่พอใจ อยากให้มันทำงานเพิ่ม\n",
        "```\n",
        "\n"
      ]
    },
    {
      "cell_type": "code",
      "metadata": {
        "id": "g_9rEqAzOxw4",
        "outputId": "a79f6236-70ad-4fef-f4f2-597925e9ed71",
        "colab": {
          "base_uri": "https://localhost:8080/"
        }
      },
      "source": [
        "stringx = 'saodjp[opejfjdwpojd[ojwjd93odwj'\n",
        "\n",
        "#จะเช็คว่าตัวเเปรที่สร้างขึ้นมาขนาดของมันถึง 100 ตัวอักษรรึป่าว\n",
        "if len (stringx) > 100:\n",
        "\n",
        "#ถ้าเกิดมากว่าเราจะ Print ว่า\n",
        "    print (f'{stringx} is longer than 100 characters')\n",
        "\n",
        "#ถ้าตรวจสอบข้างบนเเล้วไม่เป็นจริง   \n",
        "#ถ้ามันไม่มากกว่า 100 เราก็อยากรู้ว่ามันมีกี่ตัวอักษร\n",
        "else:\n",
        "    print(f'{stringx} in {len(stringx)} characters long')"
      ],
      "execution_count": 89,
      "outputs": [
        {
          "output_type": "stream",
          "text": [
            "saodjp[opejfjdwpojd[ojwjd93odwj in 31 characters long\n"
          ],
          "name": "stdout"
        }
      ]
    },
    {
      "cell_type": "code",
      "metadata": {
        "id": "5R5oYOwtRGJL",
        "outputId": "49c658bb-3063-4730-bea4-f9ac1a6f1f15",
        "colab": {
          "base_uri": "https://localhost:8080/"
        }
      },
      "source": [
        "stringx = 'saodjp[opejfjdwpojd[ojwjd93odwjnmnmn,'\n",
        "if len (stringx) > 100:\n",
        "  print (f'{stringx} is longer than 100 characters')\n",
        "else:\n",
        "  print(f'{stringx} in {len(stringx)} characters long')"
      ],
      "execution_count": 91,
      "outputs": [
        {
          "output_type": "stream",
          "text": [
            "saodjp[opejfjdwpojd[ojwjd93odwjnmnmn, in 37 characters long\n"
          ],
          "name": "stdout"
        }
      ]
    },
    {
      "cell_type": "markdown",
      "metadata": {
        "id": "kVpIy0JUKwVg"
      },
      "source": [
        "\n",
        "\n",
        "```\n",
        "if เงื่อนไขที่จะตรวจสอบ ( ==, !=, <, >, <=, >=) :\n",
        "#ตรวจสอบก่อนว่าเงื่อนไขมันเป็นจริงรึป่าว\n",
        "#ถ้าเป็นจริงก็จะทำงาน 1 2 และโดดจาก if ออกไปเลย  แล้วก็จบ\n",
        "    ถ้าเงื่อนไขเป็นจริง  ทำงาน 1                                 \n",
        "    ถ้าเงื่อนไขเป็นจริง  ทำงาน 2\n",
        "\n",
        "#ถ้าเกิดมันไม่เป็นจริงสิ่งที่มันจะทำต่อมาคือ หลุดเข้าไปใน elif\n",
        "elif เงื่อนไขที่ตรวจสอบต่อไป ถ้าเงื่อนไขข้างบนไม่เป็นจริงก็จะมาตรวจสอบเงื่อนไขนี้ :\n",
        "#ถ้าเป็นจริงก็จะทำงาน a1 a2 และโดดจาก elif ออกไปเลย  แล้วก็จบ\n",
        "    ถ้าเงื่อนไขเป็นจริง  ทำงานที่ a1\n",
        "    ถ้าเงื่อนไขเป็นจริง  ทำงานที่ a2\n",
        "\n",
        "#ถ้าเกิดมันไม่เป็นจริงอีกสิ่งที่มันจะทำต่อมาคือ หลุดเข้าไปใน elif\n",
        "elif เงื่อนไขที่ตรวจสอบต่อไป ถ้าเงื่อนไขข้างบน ที่จะทำงาน 1 2 a1 a2 ไม่เป็นจริงก็จะมาตรวจสอบเงื่อนไขนี้ :\n",
        "#ถ้าเป็นจริงก็จะทำงาน b1 b2 และโดดจาก elif ออกไปเลย  แล้วก็จบ\n",
        "    ถ้าเงื่อนไขเป็นจริง  ทำงานที่ b1\n",
        "    ถ้าเงื่อนไขเป็นจริง  ทำงานที่ b2\n",
        "\n",
        "else : ตรวจสอบเงื่อนไขข้างบนทั้งหมดเเล้วไม่เป็นจริง ค่อยมาทำงานที่ x\n",
        "    ทำงานที่ x\n",
        "```\n",
        "\n",
        "\n"
      ]
    },
    {
      "cell_type": "code",
      "metadata": {
        "id": "-lV2Vvb7YJYS",
        "outputId": "f476076f-dd40-4209-9155-4a84b1f78052",
        "colab": {
          "base_uri": "https://localhost:8080/"
        }
      },
      "source": [
        "password = '12345' #รหัสจริงๆ\n",
        "\n",
        "input_pass = '123'   #เราใส่รหัสเเบบนี้\n",
        "if input_pass == password: #ถ้าถูกก็ให้เข้ามาได้\n",
        "  print ('welcome!')\n",
        "#ถ้าเกิดมันไม่ถูก\n",
        "elif len (input_pass) > len (password):\n",
        "  print ('Too long, try again')   #ใส่รหัสยาวไปลองใหม่\n",
        "else:\n",
        "  print ('Too short, try again')  #ใส่รหัสสั้นไปลองใหม่"
      ],
      "execution_count": 95,
      "outputs": [
        {
          "output_type": "stream",
          "text": [
            "Too short, try again\n"
          ],
          "name": "stdout"
        }
      ]
    },
    {
      "cell_type": "code",
      "metadata": {
        "colab": {
          "base_uri": "https://localhost:8080/"
        },
        "id": "gMVW-RQFMEI8",
        "outputId": "a5e7fdce-b5a0-4a1f-cd38-d6f2a527b525"
      },
      "source": [
        "password = '12345'  #รหัสจริงๆ\n",
        "\n",
        "input_pass = '123sf'   #เราใส่รหัสเเบบนี้\n",
        "if input_pass == password:  #ถ้าถูกก็ให้เข้ามาได้\n",
        "    print ('Welcome!')\n",
        "elif len (input_pass) > len (password):   #ใส่รหัสยาวไปลองใหม่\n",
        "    print ('Too long, try again!')\n",
        "elif len (input_pass) > len (password):   #ใส่รหัสสั้นไปลองใหม่\n",
        "    print ('Too short, try again!')\n",
        "else:\n",
        "    print ('Wrong password, try again!')   #รหัสผิด ลองใหม่"
      ],
      "execution_count": 98,
      "outputs": [
        {
          "output_type": "stream",
          "text": [
            "Wrong password, try again!\n"
          ],
          "name": "stdout"
        }
      ]
    },
    {
      "cell_type": "code",
      "metadata": {
        "id": "D-ObGx-3cVr_",
        "outputId": "a5831630-d404-4907-a13b-db291eab777f",
        "colab": {
          "base_uri": "https://localhost:8080/"
        }
      },
      "source": [
        "password = '12345'  #รหัสจริงๆ\n",
        "\n",
        "input_pass = '123fdasdf'   #เราใส่รหัสเเบบนี้\n",
        "if input_pass == password:  #ถ้าถูกก็ให้เข้ามาได้\n",
        "    print ('Welcome!')\n",
        "elif len (input_pass) > len (password):   #ใส่รหัสยาวไปลองใหม่\n",
        "    print ('Too long, try again!')\n",
        "elif len (input_pass) > len (password):   #ใส่รหัสสั้นไปลองใหม่\n",
        "    print ('Too short, try again!')\n",
        "else:\n",
        "    print ('Wrong password, try again!')    #รหัสผิด ลองใหม่"
      ],
      "execution_count": 99,
      "outputs": [
        {
          "output_type": "stream",
          "text": [
            "Too long, try again!\n"
          ],
          "name": "stdout"
        }
      ]
    },
    {
      "cell_type": "markdown",
      "metadata": {
        "id": "HEV_zxC3OevP"
      },
      "source": [
        "# **Q1**"
      ]
    },
    {
      "cell_type": "code",
      "metadata": {
        "id": "8OiLoVXAOd8E"
      },
      "source": [
        "\n",
        "list_ex = [1,5,9,-19,-2,0] #หาค่าน้อยที่สุดใน list_ex โดยไม่ใช้ function min (commit ก่อน 10.30 :Quiz1)"
      ],
      "execution_count": 76,
      "outputs": []
    },
    {
      "cell_type": "code",
      "metadata": {
        "colab": {
          "base_uri": "https://localhost:8080/"
        },
        "id": "8r5oyVbGO2eQ",
        "outputId": "8fb058ca-3c2b-44e8-fbbd-d007c039ffaf"
      },
      "source": [
        "\n",
        "list_ex = [1,5,9,-19,-2,0] # หาค่าน้อยที่สุดใน list โดยไม่ใช้ function min\n",
        "\n",
        "for x in list_ex:\n",
        "  if x == -19:\n",
        "    print (f'ตัวแปร x คือ {x} คือค่าตัวแปรที่น้อยที่สุด ')\n",
        "  else :\n",
        "    print (f'ตัวแปร x คือ {x} ไม่ใช่ค่าตัวแปรที่น้อยที่สุด')"
      ],
      "execution_count": 77,
      "outputs": [
        {
          "output_type": "stream",
          "text": [
            "ตัวแปร x คือ 1 ไม่ใช่ค่าตัวแปรที่น้อยที่สุด\n",
            "ตัวแปร x คือ 5 ไม่ใช่ค่าตัวแปรที่น้อยที่สุด\n",
            "ตัวแปร x คือ 9 ไม่ใช่ค่าตัวแปรที่น้อยที่สุด\n",
            "ตัวแปร x คือ -19 คือค่าตัวแปรที่น้อยที่สุด \n",
            "ตัวแปร x คือ -2 ไม่ใช่ค่าตัวแปรที่น้อยที่สุด\n",
            "ตัวแปร x คือ 0 ไม่ใช่ค่าตัวแปรที่น้อยที่สุด\n"
          ],
          "name": "stdout"
        }
      ]
    },
    {
      "cell_type": "markdown",
      "metadata": {
        "id": "RqaeDXJbTNUw"
      },
      "source": [
        "# **อาจารย์เฉลย**"
      ]
    },
    {
      "cell_type": "code",
      "metadata": {
        "id": "anq0nILyewk_"
      },
      "source": [
        "list_ex = [1,5,9,-19,-2,0] "
      ],
      "execution_count": 101,
      "outputs": []
    },
    {
      "cell_type": "code",
      "metadata": {
        "id": "4TVu9b30HR1g",
        "colab": {
          "base_uri": "https://localhost:8080/"
        },
        "outputId": "c1cefcc3-4b6e-4cf7-cdce-85cac95df574"
      },
      "source": [
        "min = 1000000  #ตั้งค่าไว้ก่อนให้เยอะๆ\n",
        "\n",
        "for i in list_ex:   #วนเข้าไปดูตัวที่น้อยสุด\n",
        "     if i < min:    #ตัวเเรก คือ 1 เอามาเช็คกับ min ว่ามันน้อยกว่า min รึป่าว\n",
        "         min = i    # อัพเดท min = 1  เเละน้อยที่สุดตอนนี้คือ 1 ไม่ใช่ 1000000\n",
        "                       #จากนั้นวนดูตัวที่ 2 คือ 5  เเล้วเช็คดูว่า 5 น้อยกว่า min ตอนนี้ไหม ก็คือ 1\n",
        "                       #5ไม่น้อยกว่า min min เลยเป็น 1 เหมือนเดิม เเล้วก็วนไปเรื่อยๆ\n",
        "                       #พอถึง -19 มันน้อยกว่า min minเลยเปลี่ยนเป็น -19 เเล้วก็วนไปเรื่อยๆ จนไม่มีตัวไหนน้อยกว่า -19\n",
        "\n",
        "print(min)"
      ],
      "execution_count": 102,
      "outputs": [
        {
          "output_type": "stream",
          "text": [
            "-19\n"
          ],
          "name": "stdout"
        }
      ]
    },
    {
      "cell_type": "code",
      "metadata": {
        "id": "XHWkUkaFgrhg",
        "outputId": "eb5ef8b2-51df-4f69-9078-ee6b5ff330b3",
        "colab": {
          "base_uri": "https://localhost:8080/"
        }
      },
      "source": [
        "min = 100000000\n",
        "print(list_ex)\n",
        "for i in list_ex:\n",
        "    print(f'now i = {i}, min = {min}')\n",
        "    print('start condition')\n",
        "    if i < min:\n",
        "        print(f'i < min, update min -> {i}')\n",
        "        min = i\n",
        "    else:\n",
        "        print('i >= min, not update')\n",
        "    print('end condition, go to next i')\n",
        "\n",
        "print(min)"
      ],
      "execution_count": 103,
      "outputs": [
        {
          "output_type": "stream",
          "text": [
            "[1, 5, 9, -19, -2, 0]\n",
            "now i = 1, min = 100000000\n",
            "start condition\n",
            "i < min, update min -> 1\n",
            "end condition, go to next i\n",
            "now i = 5, min = 1\n",
            "start condition\n",
            "i >= min, not update\n",
            "end condition, go to next i\n",
            "now i = 9, min = 1\n",
            "start condition\n",
            "i >= min, not update\n",
            "end condition, go to next i\n",
            "now i = -19, min = 1\n",
            "start condition\n",
            "i < min, update min -> -19\n",
            "end condition, go to next i\n",
            "now i = -2, min = -19\n",
            "start condition\n",
            "i >= min, not update\n",
            "end condition, go to next i\n",
            "now i = 0, min = -19\n",
            "start condition\n",
            "i >= min, not update\n",
            "end condition, go to next i\n",
            "-19\n"
          ],
          "name": "stdout"
        }
      ]
    },
    {
      "cell_type": "markdown",
      "metadata": {
        "id": "mtLCxCsb_vAY"
      },
      "source": [
        "\n",
        "# **HW3 : ตัดเกรด**"
      ]
    },
    {
      "cell_type": "code",
      "metadata": {
        "id": "f-IWtOwH__77",
        "colab": {
          "base_uri": "https://localhost:8080/"
        },
        "outputId": "8e9607ee-2daf-4727-8d46-f6407b97f8c8"
      },
      "source": [
        "score = [49,65,70,95,82,55,89,20,77,77,81,59,10] # ตัดเกรด คะแนนใน list score (ใช้ if กับ for)\n",
        "\n",
        "for i in score:\n",
        "  if i >= 80:\n",
        "    print(f'คุณได้ {i} คะเเนน เกรดที่ได้คือ A ')\n",
        "  elif i >=75:\n",
        "    print(f'คุณได้ {i} คะเเนน เกรดที่ได้คือ B+ ')\n",
        "  elif i >=70:\n",
        "    print(f'คุณได้ {i} คะเเนน เกรดที่ได้คือ B ')\n",
        "  elif i >=65:\n",
        "    print(f'คุณได้ {i} คะเเนน เกรดที่ได้คือ C+ ')\n",
        "  elif i >=60:\n",
        "    print(f'คุณได้ {i} คะเเนน เกรดที่ได้คือ C ')\n",
        "  elif i >=55:\n",
        "    print(f'คุณได้ {i} คะเเนน เกรดที่ได้คือ D+ ')\n",
        "  elif i >=50:\n",
        "    print(f'คุณได้ {i} คะเเนน เกรดที่ได้คือ D ')\n",
        "  else:\n",
        "    print(f'คุณได้ {i} คะเเนน เกรดที่ได้คือ F ')"
      ],
      "execution_count": 80,
      "outputs": [
        {
          "output_type": "stream",
          "text": [
            "คุณได้ 49 คะเเนน เกรดที่ได้คือ F \n",
            "คุณได้ 65 คะเเนน เกรดที่ได้คือ C+ \n",
            "คุณได้ 70 คะเเนน เกรดที่ได้คือ B \n",
            "คุณได้ 95 คะเเนน เกรดที่ได้คือ A \n",
            "คุณได้ 82 คะเเนน เกรดที่ได้คือ A \n",
            "คุณได้ 55 คะเเนน เกรดที่ได้คือ D+ \n",
            "คุณได้ 89 คะเเนน เกรดที่ได้คือ A \n",
            "คุณได้ 20 คะเเนน เกรดที่ได้คือ F \n",
            "คุณได้ 77 คะเเนน เกรดที่ได้คือ B+ \n",
            "คุณได้ 77 คะเเนน เกรดที่ได้คือ B+ \n",
            "คุณได้ 81 คะเเนน เกรดที่ได้คือ A \n",
            "คุณได้ 59 คะเเนน เกรดที่ได้คือ D+ \n",
            "คุณได้ 10 คะเเนน เกรดที่ได้คือ F \n"
          ],
          "name": "stdout"
        }
      ]
    },
    {
      "cell_type": "markdown",
      "metadata": {
        "id": "ZEBEgHVxGElQ"
      },
      "source": [
        "# **Function**"
      ]
    }
  ]
}