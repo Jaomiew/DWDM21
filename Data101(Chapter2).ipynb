{
  "nbformat": 4,
  "nbformat_minor": 0,
  "metadata": {
    "colab": {
      "name": "Data101(Chapter2).ipynb",
      "provenance": [],
      "authorship_tag": "ABX9TyP6aaB/Z/8HgY6oMIWRmFf5",
      "include_colab_link": true
    },
    "kernelspec": {
      "name": "python3",
      "display_name": "Python 3"
    },
    "language_info": {
      "name": "python"
    }
  },
  "cells": [
    {
      "cell_type": "markdown",
      "metadata": {
        "id": "view-in-github",
        "colab_type": "text"
      },
      "source": [
        "<a href=\"https://colab.research.google.com/github/Jaomiew/DWDM21/blob/main/Data101(Chapter2).ipynb\" target=\"_parent\"><img src=\"https://colab.research.google.com/assets/colab-badge.svg\" alt=\"Open In Colab\"/></a>"
      ]
    },
    {
      "cell_type": "markdown",
      "metadata": {
        "id": "CMHH9kwouXqB"
      },
      "source": [
        "## **ข้อความที่อยู่ใน textbox จะเป็น ภาษา markdown**\n",
        "\n",
        "## **ข้อดีหนึ่งของ Python คือมี package สำหรับทำงานต่างๆมากมาย**\n",
        "\n",
        "## **ซึ่ง pandas เป็น package สำหรับการทำงานกับข้อมูลที่อยู่ในรูปแบบตาราง**\n",
        "\n",
        "## **โดย pandas จะเรียกตารางนั้นว่า dataframe**"
      ]
    },
    {
      "cell_type": "markdown",
      "metadata": {
        "id": "oXEBzBGBtZrS"
      },
      "source": [
        "# **package ที่ใช้ในการจัดการข้อมูล**\n",
        "\n",
        "## **1. pandas**\n"
      ]
    },
    {
      "cell_type": "code",
      "metadata": {
        "id": "9JEC5_UXsO9C"
      },
      "source": [
        "  import pandas #วิธีเรียกใช้ package คือ import ตามด้วยชื่อ package \n",
        "                       #คือการ import แบบธรรมดา\n"
      ],
      "execution_count": 1,
      "outputs": []
    },
    {
      "cell_type": "code",
      "metadata": {
        "id": "ZXx1OzQjtihP"
      },
      "source": [
        "import  pandas as pd  #เหมือนกับข้างต้นเเต่เเค่ตั้งชื่อให้ package ที่โหลดมาว่า pd ซึ่งทำให้เวลาพิ์มสั้นกว่าคำว่า pandas"
      ],
      "execution_count": 2,
      "outputs": []
    },
    {
      "cell_type": "markdown",
      "metadata": {
        "id": "VkAxuogRvTDd"
      },
      "source": [
        "## ไฟล์ที่จะเจอคือ\n",
        "\n",
        "1. .csv (CSV = comma separated values) เป็นไฟล์หลังที่จะใช้ในวิชานี้\n",
        "เก็บข้อมูลตาราง ใช้งานง่ายๆ"
      ]
    },
    {
      "cell_type": "code",
      "metadata": {
        "id": "ukP09fkavzq0"
      },
      "source": [
        "data_df = pd.read_csv('data.csv') #ใช้ data ชื่อ pd\n"
      ],
      "execution_count": 3,
      "outputs": []
    },
    {
      "cell_type": "code",
      "metadata": {
        "colab": {
          "base_uri": "https://localhost:8080/",
          "height": 142
        },
        "id": "MwsjPNgdx1eI",
        "outputId": "f39ceef4-d9cf-47f1-a287-68e621611001"
      },
      "source": [
        "data_df "
      ],
      "execution_count": 4,
      "outputs": [
        {
          "output_type": "execute_result",
          "data": {
            "text/html": [
              "<div>\n",
              "<style scoped>\n",
              "    .dataframe tbody tr th:only-of-type {\n",
              "        vertical-align: middle;\n",
              "    }\n",
              "\n",
              "    .dataframe tbody tr th {\n",
              "        vertical-align: top;\n",
              "    }\n",
              "\n",
              "    .dataframe thead th {\n",
              "        text-align: right;\n",
              "    }\n",
              "</style>\n",
              "<table border=\"1\" class=\"dataframe\">\n",
              "  <thead>\n",
              "    <tr style=\"text-align: right;\">\n",
              "      <th></th>\n",
              "      <th>name</th>\n",
              "      <th>age</th>\n",
              "      <th>city</th>\n",
              "    </tr>\n",
              "  </thead>\n",
              "  <tbody>\n",
              "    <tr>\n",
              "      <th>0</th>\n",
              "      <td>Tom</td>\n",
              "      <td>27</td>\n",
              "      <td>Khon Kaen</td>\n",
              "    </tr>\n",
              "    <tr>\n",
              "      <th>1</th>\n",
              "      <td>Paul</td>\n",
              "      <td>15</td>\n",
              "      <td>Bangkok</td>\n",
              "    </tr>\n",
              "    <tr>\n",
              "      <th>2</th>\n",
              "      <td>Sarah</td>\n",
              "      <td>49</td>\n",
              "      <td>London</td>\n",
              "    </tr>\n",
              "  </tbody>\n",
              "</table>\n",
              "</div>"
            ],
            "text/plain": [
              "    name  age       city\n",
              "0    Tom   27  Khon Kaen\n",
              "1   Paul   15    Bangkok\n",
              "2  Sarah   49     London"
            ]
          },
          "metadata": {
            "tags": []
          },
          "execution_count": 4
        }
      ]
    },
    {
      "cell_type": "code",
      "metadata": {
        "colab": {
          "base_uri": "https://localhost:8080/",
          "height": 142
        },
        "id": "R-o3wrMNyf04",
        "outputId": "ac6e4c97-13f7-4cd0-b688-015c74c92278"
      },
      "source": [
        "data_df2 = pandas.read_csv('data.csv') #ใช้ data ชื่อ pandas คนละชื่อกันกับข้างบน\n",
        "data_df2"
      ],
      "execution_count": 5,
      "outputs": [
        {
          "output_type": "execute_result",
          "data": {
            "text/html": [
              "<div>\n",
              "<style scoped>\n",
              "    .dataframe tbody tr th:only-of-type {\n",
              "        vertical-align: middle;\n",
              "    }\n",
              "\n",
              "    .dataframe tbody tr th {\n",
              "        vertical-align: top;\n",
              "    }\n",
              "\n",
              "    .dataframe thead th {\n",
              "        text-align: right;\n",
              "    }\n",
              "</style>\n",
              "<table border=\"1\" class=\"dataframe\">\n",
              "  <thead>\n",
              "    <tr style=\"text-align: right;\">\n",
              "      <th></th>\n",
              "      <th>name</th>\n",
              "      <th>age</th>\n",
              "      <th>city</th>\n",
              "    </tr>\n",
              "  </thead>\n",
              "  <tbody>\n",
              "    <tr>\n",
              "      <th>0</th>\n",
              "      <td>Tom</td>\n",
              "      <td>27</td>\n",
              "      <td>Khon Kaen</td>\n",
              "    </tr>\n",
              "    <tr>\n",
              "      <th>1</th>\n",
              "      <td>Paul</td>\n",
              "      <td>15</td>\n",
              "      <td>Bangkok</td>\n",
              "    </tr>\n",
              "    <tr>\n",
              "      <th>2</th>\n",
              "      <td>Sarah</td>\n",
              "      <td>49</td>\n",
              "      <td>London</td>\n",
              "    </tr>\n",
              "  </tbody>\n",
              "</table>\n",
              "</div>"
            ],
            "text/plain": [
              "    name  age       city\n",
              "0    Tom   27  Khon Kaen\n",
              "1   Paul   15    Bangkok\n",
              "2  Sarah   49     London"
            ]
          },
          "metadata": {
            "tags": []
          },
          "execution_count": 5
        }
      ]
    },
    {
      "cell_type": "markdown",
      "metadata": {
        "id": "VHlMwHxwy_pj"
      },
      "source": [
        "# **Basic Python**\n",
        "## variables ตัวแปร คือ กล่องที่เอาไว้ใส่ข้อมูล\n",
        "\n",
        "## **ข้อกำหนดในการตั้งชื่อตัวแปร**\n",
        "\n",
        "1. ชื่อห้ามมีเว้นวรรค\n",
        "\n",
        "2. (พยายาม)ใช้ภาษาอังกฤษ\n",
        "\n",
        "3. ตัวเล็กกับตัวใหญ่ แตกต่างกัน (case sensitive)\n",
        "\n",
        "4. ห้ามใช้ตัวเลขเป็นตัวหน้า"
      ]
    },
    {
      "cell_type": "code",
      "metadata": {
        "id": "nA0pOXHdy7Zy"
      },
      "source": [
        "variable_a = 12              #12 ไม่มี quote คือเป็นตัวเลข 12    #variable_a คือช่องกล่อง\n",
        "variable_b = ' abcde '     # 'เรียกว่า ' ' quote' เป็นตัวหนังสือ\n",
        "variable_c = variable_a "
      ],
      "execution_count": 6,
      "outputs": []
    },
    {
      "cell_type": "code",
      "metadata": {
        "colab": {
          "base_uri": "https://localhost:8080/"
        },
        "id": "imqsMjVv1rOC",
        "outputId": "0ed97e61-9e1c-4b59-a1ad-928cdf74b6df"
      },
      "source": [
        "variable_a"
      ],
      "execution_count": 7,
      "outputs": [
        {
          "output_type": "execute_result",
          "data": {
            "text/plain": [
              "12"
            ]
          },
          "metadata": {
            "tags": []
          },
          "execution_count": 7
        }
      ]
    },
    {
      "cell_type": "code",
      "metadata": {
        "colab": {
          "base_uri": "https://localhost:8080/",
          "height": 35
        },
        "id": "XJaSpWjR1u4f",
        "outputId": "0046d152-2f7e-4011-f933-fe92578ac879"
      },
      "source": [
        "variable_b"
      ],
      "execution_count": 8,
      "outputs": [
        {
          "output_type": "execute_result",
          "data": {
            "application/vnd.google.colaboratory.intrinsic+json": {
              "type": "string"
            },
            "text/plain": [
              "' abcde '"
            ]
          },
          "metadata": {
            "tags": []
          },
          "execution_count": 8
        }
      ]
    },
    {
      "cell_type": "code",
      "metadata": {
        "colab": {
          "base_uri": "https://localhost:8080/"
        },
        "id": "o6mxjNAm1x8s",
        "outputId": "0f9ae010-8ee1-4c73-dfd3-ce63e05681f4"
      },
      "source": [
        "variable_c"
      ],
      "execution_count": 9,
      "outputs": [
        {
          "output_type": "execute_result",
          "data": {
            "text/plain": [
              "12"
            ]
          },
          "metadata": {
            "tags": []
          },
          "execution_count": 9
        }
      ]
    },
    {
      "cell_type": "markdown",
      "metadata": {
        "id": "lsMlZnRD_i8K"
      },
      "source": [
        "# **ชื่อห้ามมีเว้นวรรค**"
      ]
    },
    {
      "cell_type": "code",
      "metadata": {
        "id": "H0nVPg1S-hII",
        "colab": {
          "base_uri": "https://localhost:8080/",
          "height": 130
        },
        "outputId": "d41a6b48-ff7b-412a-cae0-9bd03373a4bb"
      },
      "source": [
        "\n",
        "variable a = 6"
      ],
      "execution_count": 75,
      "outputs": [
        {
          "output_type": "error",
          "ename": "SyntaxError",
          "evalue": "ignored",
          "traceback": [
            "\u001b[0;36m  File \u001b[0;32m\"<ipython-input-75-930be69a0377>\"\u001b[0;36m, line \u001b[0;32m2\u001b[0m\n\u001b[0;31m    variable a = 6\u001b[0m\n\u001b[0m             ^\u001b[0m\n\u001b[0;31mSyntaxError\u001b[0m\u001b[0;31m:\u001b[0m invalid syntax\n"
          ]
        }
      ]
    },
    {
      "cell_type": "markdown",
      "metadata": {
        "id": "NFmCDlhV_oC4"
      },
      "source": [
        "# **(พยายาม)ใช้ภาษาอังกฤษ**\n",
        "\n",
        "## colab ใช้ภาษาไทยเป็นชื่อตัวแปรได้ แต่ไม่ควรใช้"
      ]
    },
    {
      "cell_type": "code",
      "metadata": {
        "id": "6pe1vz1g-oaX",
        "colab": {
          "base_uri": "https://localhost:8080/"
        },
        "outputId": "92506adb-020c-4b37-a53a-20746bb97a15"
      },
      "source": [
        "\n",
        "ตัวแปร = 3\n",
        "ตัวแปร"
      ],
      "execution_count": 76,
      "outputs": [
        {
          "output_type": "execute_result",
          "data": {
            "text/plain": [
              "3"
            ]
          },
          "metadata": {
            "tags": []
          },
          "execution_count": 76
        }
      ]
    },
    {
      "cell_type": "markdown",
      "metadata": {
        "id": "BZ07OYwk_ban"
      },
      "source": [
        "# **ตัวเล็กกับตัวใหญ่ แตกต่างกัน (case sensitive)**"
      ]
    },
    {
      "cell_type": "code",
      "metadata": {
        "id": "39XHaJWq-sJV",
        "colab": {
          "base_uri": "https://localhost:8080/"
        },
        "outputId": "d46cfe1e-1e8c-43fa-bfbf-b506bc7f45e2"
      },
      "source": [
        "\n",
        "v_a = 1\n",
        "V_a = 2\n",
        "print(v_a)\n",
        "print(V_a)"
      ],
      "execution_count": 77,
      "outputs": [
        {
          "output_type": "stream",
          "text": [
            "1\n",
            "2\n"
          ],
          "name": "stdout"
        }
      ]
    },
    {
      "cell_type": "code",
      "metadata": {
        "id": "sVGb_SML--h8",
        "colab": {
          "base_uri": "https://localhost:8080/"
        },
        "outputId": "352810b0-1d1c-46c3-ba4c-3fc04679b95d"
      },
      "source": [
        "v_a = 1\n",
        "v_a = 2\n",
        "print(v_a)\n",
        "print(v_a)"
      ],
      "execution_count": 78,
      "outputs": [
        {
          "output_type": "stream",
          "text": [
            "2\n",
            "2\n"
          ],
          "name": "stdout"
        }
      ]
    },
    {
      "cell_type": "markdown",
      "metadata": {
        "id": "np5xpDoX_Q88"
      },
      "source": [
        "# **ห้ามใช้ตัวเลขเป็นตัวหน้า**"
      ]
    },
    {
      "cell_type": "code",
      "metadata": {
        "id": "XEXUjDFQ_LFA",
        "colab": {
          "base_uri": "https://localhost:8080/",
          "height": 130
        },
        "outputId": "a62c3cbc-0640-4025-f833-a57fa9b75b36"
      },
      "source": [
        "2 = 1"
      ],
      "execution_count": 81,
      "outputs": [
        {
          "output_type": "error",
          "ename": "SyntaxError",
          "evalue": "ignored",
          "traceback": [
            "\u001b[0;36m  File \u001b[0;32m\"<ipython-input-81-055db9bd644a>\"\u001b[0;36m, line \u001b[0;32m1\u001b[0m\n\u001b[0;31m    2 = 1\u001b[0m\n\u001b[0m         ^\u001b[0m\n\u001b[0;31mSyntaxError\u001b[0m\u001b[0;31m:\u001b[0m can't assign to literal\n"
          ]
        }
      ]
    },
    {
      "cell_type": "code",
      "metadata": {
        "id": "3LCNcXhW_PGw",
        "colab": {
          "base_uri": "https://localhost:8080/",
          "height": 130
        },
        "outputId": "33dab57c-fc18-40aa-c6f3-48be14b133d3"
      },
      "source": [
        "\n",
        "2ab = 1"
      ],
      "execution_count": 82,
      "outputs": [
        {
          "output_type": "error",
          "ename": "SyntaxError",
          "evalue": "ignored",
          "traceback": [
            "\u001b[0;36m  File \u001b[0;32m\"<ipython-input-82-484e6c14e34b>\"\u001b[0;36m, line \u001b[0;32m2\u001b[0m\n\u001b[0;31m    2ab = 1\u001b[0m\n\u001b[0m      ^\u001b[0m\n\u001b[0;31mSyntaxError\u001b[0m\u001b[0;31m:\u001b[0m invalid syntax\n"
          ]
        }
      ]
    },
    {
      "cell_type": "code",
      "metadata": {
        "id": "bWW4WKV24fXx"
      },
      "source": [
        "variable_a = 12            \n",
        "variable_b = ' abcde '    \n",
        "variable_c = variable_a \n",
        "variable_d = -41.2\n",
        "variable_4 = \"KKU\" #ใช้ double quote \"\"  ก็ได้\n",
        "# สามารถ + - * / ได้  ตัวแปรชนิดเดียวกัน\n",
        "# ไม่สามารถใช้ตัวเลข + - * / กับตัวหนังสือได้"
      ],
      "execution_count": 83,
      "outputs": []
    },
    {
      "cell_type": "code",
      "metadata": {
        "colab": {
          "base_uri": "https://localhost:8080/"
        },
        "id": "k76YqaJh4-ZF",
        "outputId": "231675b5-9cbd-4d4b-a83d-35a81f7fdff9"
      },
      "source": [
        "variable_x = variable_c + variable_d\n",
        "print (variable_x)         #print ใช้แสดงค่า"
      ],
      "execution_count": 84,
      "outputs": [
        {
          "output_type": "stream",
          "text": [
            "-29.200000000000003\n"
          ],
          "name": "stdout"
        }
      ]
    },
    {
      "cell_type": "code",
      "metadata": {
        "id": "_JYYzhj7AjeY",
        "colab": {
          "base_uri": "https://localhost:8080/",
          "height": 163
        },
        "outputId": "a727c3bc-b427-4ee0-dff1-cbe328d0cf75"
      },
      "source": [
        "variable_a + variable_b"
      ],
      "execution_count": 85,
      "outputs": [
        {
          "output_type": "error",
          "ename": "TypeError",
          "evalue": "ignored",
          "traceback": [
            "\u001b[0;31m---------------------------------------------------------------------------\u001b[0m",
            "\u001b[0;31mTypeError\u001b[0m                                 Traceback (most recent call last)",
            "\u001b[0;32m<ipython-input-85-ca279e5cd267>\u001b[0m in \u001b[0;36m<module>\u001b[0;34m()\u001b[0m\n\u001b[0;32m----> 1\u001b[0;31m \u001b[0mvariable_a\u001b[0m \u001b[0;34m+\u001b[0m \u001b[0mvariable_b\u001b[0m\u001b[0;34m\u001b[0m\u001b[0;34m\u001b[0m\u001b[0m\n\u001b[0m",
            "\u001b[0;31mTypeError\u001b[0m: unsupported operand type(s) for +: 'int' and 'str'"
          ]
        }
      ]
    },
    {
      "cell_type": "code",
      "metadata": {
        "colab": {
          "base_uri": "https://localhost:8080/"
        },
        "id": "MX8T_oQZ643L",
        "outputId": "9f958ae9-ce40-4b00-d8ac-4fef90d9035e"
      },
      "source": [
        "print (variable_b + variable_4)  #ตัวแปรที่เป็นตัวหนังสือ + กับตัวหนังสือ"
      ],
      "execution_count": 86,
      "outputs": [
        {
          "output_type": "stream",
          "text": [
            " abcde KKU\n"
          ],
          "name": "stdout"
        }
      ]
    },
    {
      "cell_type": "markdown",
      "metadata": {
        "id": "A33bL6RO7iWy"
      },
      "source": [
        "# **Casting การเปลี่ยนชนิดของตัวเเปร**\n",
        "## **ing ()**\n",
        "\n",
        "## **float ()**\n",
        " \n",
        "## **str () เปลี่ยนตัวเลข ทศนิยมเป็น จน. จริง**"
      ]
    },
    {
      "cell_type": "code",
      "metadata": {
        "colab": {
          "base_uri": "https://localhost:8080/"
        },
        "id": "L2rlFLzE7TMV",
        "outputId": "1e2f6582-59ce-46bf-c781-36de709441a1"
      },
      "source": [
        "print (variable_x)\n",
        "print (int(variable_x))"
      ],
      "execution_count": 87,
      "outputs": [
        {
          "output_type": "stream",
          "text": [
            "-29.200000000000003\n",
            "-29\n"
          ],
          "name": "stdout"
        }
      ]
    },
    {
      "cell_type": "code",
      "metadata": {
        "colab": {
          "base_uri": "https://localhost:8080/"
        },
        "id": "dFO7X_I28AOp",
        "outputId": "cdf45db5-3a91-485f-84d9-b685c1f8904e"
      },
      "source": [
        "V_X = str (variable_x)\n",
        "print (V_X)"
      ],
      "execution_count": 88,
      "outputs": [
        {
          "output_type": "stream",
          "text": [
            "-29.200000000000003\n"
          ],
          "name": "stdout"
        }
      ]
    },
    {
      "cell_type": "code",
      "metadata": {
        "colab": {
          "base_uri": "https://localhost:8080/",
          "height": 163
        },
        "id": "pVKyOTat8bMZ",
        "outputId": "aebb9f4f-cc2e-4836-d0b1-6ee88eb4b36d"
      },
      "source": [
        "V_X + variable_a"
      ],
      "execution_count": 89,
      "outputs": [
        {
          "output_type": "error",
          "ename": "TypeError",
          "evalue": "ignored",
          "traceback": [
            "\u001b[0;31m---------------------------------------------------------------------------\u001b[0m",
            "\u001b[0;31mTypeError\u001b[0m                                 Traceback (most recent call last)",
            "\u001b[0;32m<ipython-input-89-d83c0918f5c6>\u001b[0m in \u001b[0;36m<module>\u001b[0;34m()\u001b[0m\n\u001b[0;32m----> 1\u001b[0;31m \u001b[0mV_X\u001b[0m \u001b[0;34m+\u001b[0m \u001b[0mvariable_a\u001b[0m\u001b[0;34m\u001b[0m\u001b[0;34m\u001b[0m\u001b[0m\n\u001b[0m",
            "\u001b[0;31mTypeError\u001b[0m: can only concatenate str (not \"int\") to str"
          ]
        }
      ]
    },
    {
      "cell_type": "code",
      "metadata": {
        "colab": {
          "base_uri": "https://localhost:8080/",
          "height": 163
        },
        "id": "SvWcws8l8gGB",
        "outputId": "7affb15a-2119-4019-d626-cd1ec110d41c"
      },
      "source": [
        "variable_a + V_X"
      ],
      "execution_count": 90,
      "outputs": [
        {
          "output_type": "error",
          "ename": "TypeError",
          "evalue": "ignored",
          "traceback": [
            "\u001b[0;31m---------------------------------------------------------------------------\u001b[0m",
            "\u001b[0;31mTypeError\u001b[0m                                 Traceback (most recent call last)",
            "\u001b[0;32m<ipython-input-90-9c7fa6bc8848>\u001b[0m in \u001b[0;36m<module>\u001b[0;34m()\u001b[0m\n\u001b[0;32m----> 1\u001b[0;31m \u001b[0mvariable_a\u001b[0m \u001b[0;34m+\u001b[0m \u001b[0mV_X\u001b[0m\u001b[0;34m\u001b[0m\u001b[0;34m\u001b[0m\u001b[0m\n\u001b[0m",
            "\u001b[0;31mTypeError\u001b[0m: unsupported operand type(s) for +: 'int' and 'str'"
          ]
        }
      ]
    },
    {
      "cell_type": "code",
      "metadata": {
        "colab": {
          "base_uri": "https://localhost:8080/",
          "height": 35
        },
        "id": "AcX4xfjm8zBr",
        "outputId": "007c114d-595e-4c8e-dbd9-a4b3adfcaf76"
      },
      "source": [
        "V_X #พิมพ์ชือตัวเเปรธรรมดา"
      ],
      "execution_count": 91,
      "outputs": [
        {
          "output_type": "execute_result",
          "data": {
            "application/vnd.google.colaboratory.intrinsic+json": {
              "type": "string"
            },
            "text/plain": [
              "'-29.200000000000003'"
            ]
          },
          "metadata": {
            "tags": []
          },
          "execution_count": 91
        }
      ]
    },
    {
      "cell_type": "code",
      "metadata": {
        "colab": {
          "base_uri": "https://localhost:8080/"
        },
        "id": "uGSvGM2B9AE9",
        "outputId": "d5e686d3-609f-4022-e74b-5791846facc6"
      },
      "source": [
        "float (V_X)"
      ],
      "execution_count": 92,
      "outputs": [
        {
          "output_type": "execute_result",
          "data": {
            "text/plain": [
              "-29.200000000000003"
            ]
          },
          "metadata": {
            "tags": []
          },
          "execution_count": 92
        }
      ]
    },
    {
      "cell_type": "markdown",
      "metadata": {
        "id": "QANWBeWw9UPZ"
      },
      "source": [
        "# **Data Structure โครงสร้างของข้อมูล  เอาค่าเเต่ละตัวมาต่อกันได้ ทำให้ง่ายขึ้น**\n",
        "\n",
        "#list()\n",
        "\n",
        "int , float , str มาต่อกันได้\n",
        "\n",
        "\n",
        "\n",
        "\n"
      ]
    },
    {
      "cell_type": "code",
      "metadata": {
        "id": "y0NHCGIZ9yym"
      },
      "source": [
        "list_a = [1,2,0.2,'abs']      #[]  คือ square brackets\n",
        "list_b = [2,'xyz',list_a,[1,2,0.0]]"
      ],
      "execution_count": 63,
      "outputs": []
    },
    {
      "cell_type": "code",
      "metadata": {
        "colab": {
          "base_uri": "https://localhost:8080/"
        },
        "id": "GAohgCf5-s5A",
        "outputId": "8beb6cb4-8fa7-4297-aecc-18b5439ba066"
      },
      "source": [
        "list_a"
      ],
      "execution_count": 64,
      "outputs": [
        {
          "output_type": "execute_result",
          "data": {
            "text/plain": [
              "[1, 2, 0.2, 'abs']"
            ]
          },
          "metadata": {
            "tags": []
          },
          "execution_count": 64
        }
      ]
    },
    {
      "cell_type": "code",
      "metadata": {
        "colab": {
          "base_uri": "https://localhost:8080/"
        },
        "id": "1awsdwg9-vHQ",
        "outputId": "03bdc806-ca3c-4978-bc1a-ca0c9b1777a0"
      },
      "source": [
        "list_b"
      ],
      "execution_count": 65,
      "outputs": [
        {
          "output_type": "execute_result",
          "data": {
            "text/plain": [
              "[2, 'xyz', [1, 2, 0.2, 'abs'], [1, 2, 0.0]]"
            ]
          },
          "metadata": {
            "tags": []
          },
          "execution_count": 65
        }
      ]
    },
    {
      "cell_type": "code",
      "metadata": {
        "colab": {
          "base_uri": "https://localhost:8080/"
        },
        "id": "HD0BMJFW-5tE",
        "outputId": "73c38050-a5d5-4888-8933-8166914e1954"
      },
      "source": [
        "len (list_b)"
      ],
      "execution_count": 66,
      "outputs": [
        {
          "output_type": "execute_result",
          "data": {
            "text/plain": [
              "4"
            ]
          },
          "metadata": {
            "tags": []
          },
          "execution_count": 66
        }
      ]
    },
    {
      "cell_type": "code",
      "metadata": {
        "colab": {
          "base_uri": "https://localhost:8080/"
        },
        "id": "ZOOc3JI1-9mo",
        "outputId": "7763d876-cd9e-4dd2-e579-73fc09719786"
      },
      "source": [
        "list_b[3]"
      ],
      "execution_count": 67,
      "outputs": [
        {
          "output_type": "execute_result",
          "data": {
            "text/plain": [
              "[1, 2, 0.0]"
            ]
          },
          "metadata": {
            "tags": []
          },
          "execution_count": 67
        }
      ]
    },
    {
      "cell_type": "code",
      "metadata": {
        "colab": {
          "base_uri": "https://localhost:8080/"
        },
        "id": "UCrr4XHN_B2u",
        "outputId": "44434f22-49db-4b76-8c2a-f648f7ca1732"
      },
      "source": [
        "list_b[3][1]"
      ],
      "execution_count": 68,
      "outputs": [
        {
          "output_type": "execute_result",
          "data": {
            "text/plain": [
              "2"
            ]
          },
          "metadata": {
            "tags": []
          },
          "execution_count": 68
        }
      ]
    },
    {
      "cell_type": "markdown",
      "metadata": {
        "id": "8j0p85EJ_V-o"
      },
      "source": [
        "# **stringg คือ list ของตัวหนังสือ**"
      ]
    },
    {
      "cell_type": "code",
      "metadata": {
        "id": "qdCq6D9n_dgu"
      },
      "source": [
        "a = 'stat KKU'   #เริ่มนับจาก 0"
      ],
      "execution_count": 61,
      "outputs": []
    },
    {
      "cell_type": "code",
      "metadata": {
        "colab": {
          "base_uri": "https://localhost:8080/",
          "height": 35
        },
        "id": "o11Moztz_igL",
        "outputId": "47266a67-ab5c-402c-f6c2-d2fd611a09ab"
      },
      "source": [
        "a[4]"
      ],
      "execution_count": 62,
      "outputs": [
        {
          "output_type": "execute_result",
          "data": {
            "application/vnd.google.colaboratory.intrinsic+json": {
              "type": "string"
            },
            "text/plain": [
              "' '"
            ]
          },
          "metadata": {
            "tags": []
          },
          "execution_count": 62
        }
      ]
    },
    {
      "cell_type": "markdown",
      "metadata": {
        "id": "5sXQ5s-AADqt"
      },
      "source": [
        "\n",
        "# **วิธีสร้าง list ว่าง**\n"
      ]
    },
    {
      "cell_type": "code",
      "metadata": {
        "id": "7xwWLYR9AG3Z"
      },
      "source": [
        "list_c = list()  #แบบที่ 1\n",
        "list_d = []      #แบบที่ 2"
      ],
      "execution_count": 38,
      "outputs": []
    },
    {
      "cell_type": "code",
      "metadata": {
        "colab": {
          "base_uri": "https://localhost:8080/"
        },
        "id": "eWBZuuq_AZMB",
        "outputId": "aa5c0404-f5fc-4333-a791-df1049f38e19"
      },
      "source": [
        "list_c"
      ],
      "execution_count": 39,
      "outputs": [
        {
          "output_type": "execute_result",
          "data": {
            "text/plain": [
              "[]"
            ]
          },
          "metadata": {
            "tags": []
          },
          "execution_count": 39
        }
      ]
    },
    {
      "cell_type": "code",
      "metadata": {
        "colab": {
          "base_uri": "https://localhost:8080/"
        },
        "id": "ySaC8xvUAalI",
        "outputId": "2ecaabf4-3517-419b-e42e-f11e2c489022"
      },
      "source": [
        "list_d"
      ],
      "execution_count": 40,
      "outputs": [
        {
          "output_type": "execute_result",
          "data": {
            "text/plain": [
              "[]"
            ]
          },
          "metadata": {
            "tags": []
          },
          "execution_count": 40
        }
      ]
    },
    {
      "cell_type": "markdown",
      "metadata": {
        "id": "71ZkDxxlA6WL"
      },
      "source": [
        "# **เติมค่าลงใน list ใช้ .append ()**\n",
        "\n",
        "## **การชี้ค่าใน list เรียกว่า indexing**\n",
        "\n",
        "1. ใช้ลำดับในการชี้\n",
        "\n",
        "2. ลำดับดริ่มจาก 0\n",
        "\n",
        "3. สามารถชี้จากข้างหลัง โดยใช้ negative index"
      ]
    },
    {
      "cell_type": "code",
      "metadata": {
        "colab": {
          "base_uri": "https://localhost:8080/"
        },
        "id": "TLJH9MaRCJhh",
        "outputId": "2c7ef764-0f0c-45dc-8fb6-ecc8f8a70b4d"
      },
      "source": [
        "list_b[-1]"
      ],
      "execution_count": 93,
      "outputs": [
        {
          "output_type": "execute_result",
          "data": {
            "text/plain": [
              "[1, 2, 0.0]"
            ]
          },
          "metadata": {
            "tags": []
          },
          "execution_count": 93
        }
      ]
    },
    {
      "cell_type": "code",
      "metadata": {
        "id": "9ZMSnIMLAdtW"
      },
      "source": [
        "list_d.append( 'a')"
      ],
      "execution_count": 42,
      "outputs": []
    },
    {
      "cell_type": "code",
      "metadata": {
        "colab": {
          "base_uri": "https://localhost:8080/"
        },
        "id": "9TS_5mo6BNdT",
        "outputId": "0b44799d-8155-48d4-c93d-fd7ae51f0b15"
      },
      "source": [
        "list_d"
      ],
      "execution_count": 43,
      "outputs": [
        {
          "output_type": "execute_result",
          "data": {
            "text/plain": [
              "['a']"
            ]
          },
          "metadata": {
            "tags": []
          },
          "execution_count": 43
        }
      ]
    },
    {
      "cell_type": "code",
      "metadata": {
        "id": "JLikI3YvBTU_"
      },
      "source": [
        "list_d.append(56)"
      ],
      "execution_count": 44,
      "outputs": []
    },
    {
      "cell_type": "code",
      "metadata": {
        "colab": {
          "base_uri": "https://localhost:8080/"
        },
        "id": "Ta8zxXXZBWW_",
        "outputId": "09cc984e-059b-43b4-c088-195a8bda4e3c"
      },
      "source": [
        "list_d"
      ],
      "execution_count": 45,
      "outputs": [
        {
          "output_type": "execute_result",
          "data": {
            "text/plain": [
              "['a', 56]"
            ]
          },
          "metadata": {
            "tags": []
          },
          "execution_count": 45
        }
      ]
    },
    {
      "cell_type": "markdown",
      "metadata": {
        "id": "XbMiSHMcCiPT"
      },
      "source": [
        "## list slicing  คือ การตัด list เลือกบางส่วนของ list ออกมา"
      ]
    },
    {
      "cell_type": "code",
      "metadata": {
        "id": "1XyYcC26Cuvc"
      },
      "source": [
        "list_ex = [1,2,3,5,6,8,-1,20,50,0]   #เริ่มนับจาก 0 "
      ],
      "execution_count": 46,
      "outputs": []
    },
    {
      "cell_type": "code",
      "metadata": {
        "colab": {
          "base_uri": "https://localhost:8080/"
        },
        "id": "mOfoOflzC2qb",
        "outputId": "25f7a476-8908-4868-9ac0-270b0d85e24f"
      },
      "source": [
        "list_ex[1:6]   #เอาตัวที่ 1 - 5\n",
        "                  #ตัด list ตั้งเเต่ [ตัวหน้า จนถึง ตัวก่อนตัวหลัง]"
      ],
      "execution_count": 47,
      "outputs": [
        {
          "output_type": "execute_result",
          "data": {
            "text/plain": [
              "[2, 3, 5, 6, 8]"
            ]
          },
          "metadata": {
            "tags": []
          },
          "execution_count": 47
        }
      ]
    },
    {
      "cell_type": "code",
      "metadata": {
        "colab": {
          "base_uri": "https://localhost:8080/"
        },
        "id": "H0GaLMszD1to",
        "outputId": "90a118a9-6c37-4526-e31f-d089153f07ae"
      },
      "source": [
        "list_ex[4:]  #เริ่มตั้งเเต่ตัวที่ 4 จนตัวสุดท้าย"
      ],
      "execution_count": 48,
      "outputs": [
        {
          "output_type": "execute_result",
          "data": {
            "text/plain": [
              "[6, 8, -1, 20, 50, 0]"
            ]
          },
          "metadata": {
            "tags": []
          },
          "execution_count": 48
        }
      ]
    },
    {
      "cell_type": "code",
      "metadata": {
        "colab": {
          "base_uri": "https://localhost:8080/"
        },
        "id": "Q5IoJVptEBst",
        "outputId": "854e74e5-4428-4d75-ec88-6b37df2ec4ee"
      },
      "source": [
        "list_ex[:6]   #เริ่มตัวเเรก ไปจนถึงตัวก่อนลำดับที่ 6"
      ],
      "execution_count": 49,
      "outputs": [
        {
          "output_type": "execute_result",
          "data": {
            "text/plain": [
              "[1, 2, 3, 5, 6, 8]"
            ]
          },
          "metadata": {
            "tags": []
          },
          "execution_count": 49
        }
      ]
    },
    {
      "cell_type": "markdown",
      "metadata": {
        "id": "dYzOIntkEpIR"
      },
      "source": [
        "## **จุดเริ่มต้น : จุดสุดท้าย : step**"
      ]
    },
    {
      "cell_type": "code",
      "metadata": {
        "colab": {
          "base_uri": "https://localhost:8080/"
        },
        "id": "d5dasS6BE6_4",
        "outputId": "e911593a-2b8a-4c51-d304-991b2e1379c9"
      },
      "source": [
        "list_ex"
      ],
      "execution_count": 50,
      "outputs": [
        {
          "output_type": "execute_result",
          "data": {
            "text/plain": [
              "[1, 2, 3, 5, 6, 8, -1, 20, 50, 0]"
            ]
          },
          "metadata": {
            "tags": []
          },
          "execution_count": 50
        }
      ]
    },
    {
      "cell_type": "code",
      "metadata": {
        "colab": {
          "base_uri": "https://localhost:8080/"
        },
        "id": "7Sm-NSCgEY--",
        "outputId": "3a9f2e48-9080-4193-c3ab-48380d99dc38"
      },
      "source": [
        "list_ex[::2]"
      ],
      "execution_count": 51,
      "outputs": [
        {
          "output_type": "execute_result",
          "data": {
            "text/plain": [
              "[1, 3, 6, -1, 50]"
            ]
          },
          "metadata": {
            "tags": []
          },
          "execution_count": 51
        }
      ]
    },
    {
      "cell_type": "code",
      "metadata": {
        "colab": {
          "base_uri": "https://localhost:8080/"
        },
        "id": "v8Jh_8YEFGZ6",
        "outputId": "fc368f3c-9532-49d8-9e65-1803e9587674"
      },
      "source": [
        "list_ex[::-1]    #กลับ list ตัวหลัง ไปอยู่ข้างหน้า  กลับ list ข้างหน้าไปอยู่หลัง"
      ],
      "execution_count": 52,
      "outputs": [
        {
          "output_type": "execute_result",
          "data": {
            "text/plain": [
              "[0, 50, 20, -1, 8, 6, 5, 3, 2, 1]"
            ]
          },
          "metadata": {
            "tags": []
          },
          "execution_count": 52
        }
      ]
    },
    {
      "cell_type": "code",
      "metadata": {
        "colab": {
          "base_uri": "https://localhost:8080/",
          "height": 35
        },
        "id": "v23daBhhFY0R",
        "outputId": "c98b11e4-046a-4207-b2db-e36ef2aeae37"
      },
      "source": [
        "a"
      ],
      "execution_count": 94,
      "outputs": [
        {
          "output_type": "execute_result",
          "data": {
            "application/vnd.google.colaboratory.intrinsic+json": {
              "type": "string"
            },
            "text/plain": [
              "'stat KKU'"
            ]
          },
          "metadata": {
            "tags": []
          },
          "execution_count": 94
        }
      ]
    },
    {
      "cell_type": "code",
      "metadata": {
        "colab": {
          "base_uri": "https://localhost:8080/",
          "height": 35
        },
        "id": "dSSkXa9FFbTV",
        "outputId": "d15637fb-6c54-481a-c744-061e1e7a6646"
      },
      "source": [
        "a[5:]"
      ],
      "execution_count": 95,
      "outputs": [
        {
          "output_type": "execute_result",
          "data": {
            "application/vnd.google.colaboratory.intrinsic+json": {
              "type": "string"
            },
            "text/plain": [
              "'KKU'"
            ]
          },
          "metadata": {
            "tags": []
          },
          "execution_count": 95
        }
      ]
    },
    {
      "cell_type": "code",
      "metadata": {
        "colab": {
          "base_uri": "https://localhost:8080/",
          "height": 35
        },
        "id": "DfkY9h_0GN-l",
        "outputId": "35ccd365-a49e-4128-befc-dc8c7993a476"
      },
      "source": [
        "a[-3:]"
      ],
      "execution_count": 96,
      "outputs": [
        {
          "output_type": "execute_result",
          "data": {
            "application/vnd.google.colaboratory.intrinsic+json": {
              "type": "string"
            },
            "text/plain": [
              "'KKU'"
            ]
          },
          "metadata": {
            "tags": []
          },
          "execution_count": 96
        }
      ]
    },
    {
      "cell_type": "code",
      "metadata": {
        "colab": {
          "base_uri": "https://localhost:8080/",
          "height": 35
        },
        "id": "z-RP-YFvGVp4",
        "outputId": "ea94034f-c5ff-4ad4-e017-a29cb0c7f42f"
      },
      "source": [
        "a[5:8]"
      ],
      "execution_count": 97,
      "outputs": [
        {
          "output_type": "execute_result",
          "data": {
            "application/vnd.google.colaboratory.intrinsic+json": {
              "type": "string"
            },
            "text/plain": [
              "'KKU'"
            ]
          },
          "metadata": {
            "tags": []
          },
          "execution_count": 97
        }
      ]
    },
    {
      "cell_type": "code",
      "metadata": {
        "colab": {
          "base_uri": "https://localhost:8080/",
          "height": 35
        },
        "id": "Or5CPeUwGgmp",
        "outputId": "4ffeed61-d35a-4f4c-f975-0bc6c7bb6018"
      },
      "source": [
        "a[5::]"
      ],
      "execution_count": 98,
      "outputs": [
        {
          "output_type": "execute_result",
          "data": {
            "application/vnd.google.colaboratory.intrinsic+json": {
              "type": "string"
            },
            "text/plain": [
              "'KKU'"
            ]
          },
          "metadata": {
            "tags": []
          },
          "execution_count": 98
        }
      ]
    },
    {
      "cell_type": "code",
      "metadata": {
        "colab": {
          "base_uri": "https://localhost:8080/",
          "height": 35
        },
        "id": "2L_WdoKvG9eW",
        "outputId": "ee484a45-a11f-4ec4-c5f8-f8cf6a2c1e55"
      },
      "source": [
        "a[-3::1]"
      ],
      "execution_count": 99,
      "outputs": [
        {
          "output_type": "execute_result",
          "data": {
            "application/vnd.google.colaboratory.intrinsic+json": {
              "type": "string"
            },
            "text/plain": [
              "'KKU'"
            ]
          },
          "metadata": {
            "tags": []
          },
          "execution_count": 99
        }
      ]
    },
    {
      "cell_type": "markdown",
      "metadata": {
        "id": "LUIYm9fUHKPx"
      },
      "source": [
        "# **list + list**"
      ]
    },
    {
      "cell_type": "code",
      "metadata": {
        "colab": {
          "base_uri": "https://localhost:8080/"
        },
        "id": "yoFoyNAHHOqP",
        "outputId": "d68e9d4b-e204-422a-eab0-a848dc24d5bb"
      },
      "source": [
        "print(list_a)\n",
        "print(list_b)"
      ],
      "execution_count": 100,
      "outputs": [
        {
          "output_type": "stream",
          "text": [
            "[1, 2, 0.2, 'abs']\n",
            "[2, 'xyz', [1, 2, 0.2, 'abs'], [1, 2, 0.0]]\n"
          ],
          "name": "stdout"
        }
      ]
    },
    {
      "cell_type": "code",
      "metadata": {
        "colab": {
          "base_uri": "https://localhost:8080/"
        },
        "id": "xn_EWxbmHjGH",
        "outputId": "1790a9b9-acc3-4686-d2bb-d980727168c8"
      },
      "source": [
        "list_a + list_b  #เอา list มาบวกกันได้"
      ],
      "execution_count": 101,
      "outputs": [
        {
          "output_type": "execute_result",
          "data": {
            "text/plain": [
              "[1, 2, 0.2, 'abs', 2, 'xyz', [1, 2, 0.2, 'abs'], [1, 2, 0.0]]"
            ]
          },
          "metadata": {
            "tags": []
          },
          "execution_count": 101
        }
      ]
    },
    {
      "cell_type": "markdown",
      "metadata": {
        "id": "5Y2h9UffLtYz"
      },
      "source": [
        "# **format string  การจัดเรียงให้สวยงาม**"
      ]
    },
    {
      "cell_type": "code",
      "metadata": {
        "colab": {
          "base_uri": "https://localhost:8080/",
          "height": 35
        },
        "id": "yIhnZrZXL2Kn",
        "outputId": "995d3a7b-3d97-4ed9-d4c8-e66889b2c5d0"
      },
      "source": [
        "f' ตัวเเปร list_a มีค่าคือ {list_a} '"
      ],
      "execution_count": 102,
      "outputs": [
        {
          "output_type": "execute_result",
          "data": {
            "application/vnd.google.colaboratory.intrinsic+json": {
              "type": "string"
            },
            "text/plain": [
              "\" ตัวเเปร list_a มีค่าคือ [1, 2, 0.2, 'abs'] \""
            ]
          },
          "metadata": {
            "tags": []
          },
          "execution_count": 102
        }
      ]
    },
    {
      "cell_type": "markdown",
      "metadata": {
        "id": "xVBRaN0IH5E_"
      },
      "source": [
        "# Loop  การวนซ้ำ ทำอะไรซ้ำๆ หรือการทำงานคล้ายๆกัน\n",
        "\n",
        "\n",
        "\n",
        "```\n",
        "indent เว้นวรรค\n",
        "  for  ตัวแปรที่จะรับค่าจากlist  in  listที่นำมาวนลูป :\n",
        "          do someting           #in loop\n",
        "          do another  thing   #in loop\n",
        "  do other thing             # out side loop\n",
        "```\n",
        "\n"
      ]
    },
    {
      "cell_type": "code",
      "metadata": {
        "colab": {
          "base_uri": "https://localhost:8080/"
        },
        "id": "l_ZmIGI9IKW2",
        "outputId": "97556186-d6a5-4876-eba2-a092620ea180"
      },
      "source": [
        "for i in [1,2,3,4,5] : #ดึงค่าจาก list ไปใส่ i  เเล้วเอา i ไปทำอะไรก็ได้\n",
        "  print(i)\n"
      ],
      "execution_count": 23,
      "outputs": [
        {
          "output_type": "stream",
          "text": [
            "1\n",
            "2\n",
            "3\n",
            "4\n",
            "5\n"
          ],
          "name": "stdout"
        }
      ]
    },
    {
      "cell_type": "code",
      "metadata": {
        "colab": {
          "base_uri": "https://localhost:8080/"
        },
        "id": "jCSrVivBKvNW",
        "outputId": "a1e5f052-d51c-4b23-b2c9-f5d70e4f7602"
      },
      "source": [
        "  for i in [1,2,3,4,5] :\n",
        "    print(i+1)"
      ],
      "execution_count": 24,
      "outputs": [
        {
          "output_type": "stream",
          "text": [
            "2\n",
            "3\n",
            "4\n",
            "5\n",
            "6\n"
          ],
          "name": "stdout"
        }
      ]
    },
    {
      "cell_type": "code",
      "metadata": {
        "colab": {
          "base_uri": "https://localhost:8080/"
        },
        "id": "tnnKzf4lM3e2",
        "outputId": "b6ddff85-1501-4094-ef3d-87fdc5bc037d"
      },
      "source": [
        "for x in [1,2,3,4,5] :\n",
        "  print(f'ค่าตัวแปร x คือ {x} และ x+2 =  {x+2}')"
      ],
      "execution_count": 25,
      "outputs": [
        {
          "output_type": "stream",
          "text": [
            "ค่าตัวแปร x คือ 1 และ x+2 =  3\n",
            "ค่าตัวแปร x คือ 2 และ x+2 =  4\n",
            "ค่าตัวแปร x คือ 3 และ x+2 =  5\n",
            "ค่าตัวแปร x คือ 4 และ x+2 =  6\n",
            "ค่าตัวแปร x คือ 5 และ x+2 =  7\n"
          ],
          "name": "stdout"
        }
      ]
    },
    {
      "cell_type": "code",
      "metadata": {
        "colab": {
          "base_uri": "https://localhost:8080/"
        },
        "id": "3X4FqYkONY-B",
        "outputId": "d27bf90a-eef4-4c9e-95a3-081dd60e42dd"
      },
      "source": [
        "list5 = [1,2,3,4,5] \n",
        "for x in list5 :\n",
        "  print(f'ค่าตัวแปร x คือ {x} และ x+2 =  {x+2}')"
      ],
      "execution_count": 26,
      "outputs": [
        {
          "output_type": "stream",
          "text": [
            "ค่าตัวแปร x คือ 1 และ x+2 =  3\n",
            "ค่าตัวแปร x คือ 2 และ x+2 =  4\n",
            "ค่าตัวแปร x คือ 3 และ x+2 =  5\n",
            "ค่าตัวแปร x คือ 4 และ x+2 =  6\n",
            "ค่าตัวแปร x คือ 5 และ x+2 =  7\n"
          ],
          "name": "stdout"
        }
      ]
    },
    {
      "cell_type": "code",
      "metadata": {
        "colab": {
          "base_uri": "https://localhost:8080/"
        },
        "id": "ptGGCZmCN03u",
        "outputId": "7aa85bcc-5bad-48e5-a88b-e998e23430ce"
      },
      "source": [
        "list (range(10))"
      ],
      "execution_count": 27,
      "outputs": [
        {
          "output_type": "execute_result",
          "data": {
            "text/plain": [
              "[0, 1, 2, 3, 4, 5, 6, 7, 8, 9]"
            ]
          },
          "metadata": {
            "tags": []
          },
          "execution_count": 27
        }
      ]
    },
    {
      "cell_type": "code",
      "metadata": {
        "colab": {
          "base_uri": "https://localhost:8080/"
        },
        "id": "fJMhhMJ8N6fD",
        "outputId": "a6d615b5-cbe4-4587-f564-26d45d071d94"
      },
      "source": [
        "for i in range (2,7) :     #เริ่มที่ 2 ไม่เอา 7\n",
        "  print (i)"
      ],
      "execution_count": 28,
      "outputs": [
        {
          "output_type": "stream",
          "text": [
            "2\n",
            "3\n",
            "4\n",
            "5\n",
            "6\n"
          ],
          "name": "stdout"
        }
      ]
    },
    {
      "cell_type": "code",
      "metadata": {
        "colab": {
          "base_uri": "https://localhost:8080/"
        },
        "id": "i8MLibGoOYnS",
        "outputId": "9bfc1fce-7334-438c-b5ee-a2c6d08bd1a3"
      },
      "source": [
        "for i in range (2,7,2) :  #เริ่ม 2 ไม่เกิน 7 ข้ามไป 2 step \n",
        "  print (i)"
      ],
      "execution_count": 29,
      "outputs": [
        {
          "output_type": "stream",
          "text": [
            "2\n",
            "4\n",
            "6\n"
          ],
          "name": "stdout"
        }
      ]
    },
    {
      "cell_type": "code",
      "metadata": {
        "colab": {
          "base_uri": "https://localhost:8080/"
        },
        "id": "EXw8Vn2sOuod",
        "outputId": "52ea8e1b-979d-4855-f56b-c1605d5314ef"
      },
      "source": [
        "for i in range (5) :\n",
        "   print  ('hahaha')\n",
        "   x = i + 3\n",
        "   print (f' i = {i}  x = {x}')"
      ],
      "execution_count": 30,
      "outputs": [
        {
          "output_type": "stream",
          "text": [
            "hahaha\n",
            " i = 0  x = 3\n",
            "hahaha\n",
            " i = 1  x = 4\n",
            "hahaha\n",
            " i = 2  x = 5\n",
            "hahaha\n",
            " i = 3  x = 6\n",
            "hahaha\n",
            " i = 4  x = 7\n"
          ],
          "name": "stdout"
        }
      ]
    },
    {
      "cell_type": "markdown",
      "metadata": {
        "id": "2j30VYWsEi8k"
      },
      "source": [
        "# **Nested loop**"
      ]
    },
    {
      "cell_type": "code",
      "metadata": {
        "id": "SoxBt1GcEnVr",
        "colab": {
          "base_uri": "https://localhost:8080/"
        },
        "outputId": "f26299dc-48c5-4cb6-c26e-f3a76064eb60"
      },
      "source": [
        "for i in range(3):\n",
        "    print(f'now i = {i}')\n",
        "    print('start j loop')\n",
        "    for j in range(4):\n",
        "        print(f'i = {i} j = {j} i+j = {i+j}')\n",
        "    print('end j loop')"
      ],
      "execution_count": 22,
      "outputs": [
        {
          "output_type": "stream",
          "text": [
            "now i = 0\n",
            "start j loop\n",
            "i = 0 j = 0 i+j = 0\n",
            "i = 0 j = 1 i+j = 1\n",
            "i = 0 j = 2 i+j = 2\n",
            "i = 0 j = 3 i+j = 3\n",
            "end j loop\n",
            "now i = 1\n",
            "start j loop\n",
            "i = 1 j = 0 i+j = 1\n",
            "i = 1 j = 1 i+j = 2\n",
            "i = 1 j = 2 i+j = 3\n",
            "i = 1 j = 3 i+j = 4\n",
            "end j loop\n",
            "now i = 2\n",
            "start j loop\n",
            "i = 2 j = 0 i+j = 2\n",
            "i = 2 j = 1 i+j = 3\n",
            "i = 2 j = 2 i+j = 4\n",
            "i = 2 j = 3 i+j = 5\n",
            "end j loop\n"
          ],
          "name": "stdout"
        }
      ]
    },
    {
      "cell_type": "markdown",
      "metadata": {
        "id": "XF-74v4ZKVFr"
      },
      "source": [
        "# **Condition  คือ เงื่อนไข ประโยคเงื่อนไข**\n",
        "\n",
        "## **if statement**\n",
        "\n"
      ]
    },
    {
      "cell_type": "markdown",
      "metadata": {
        "id": "bVlBaj1RGG4L"
      },
      "source": [
        "\n",
        "\n",
        "```\n",
        "if เงื่อนไขที่จะตรวจสอบ (โดยใช้สัญลักษณ์== , != , <  ,> , <= , >=):\n",
        "    ถ้าเงื่อนไขเป็นจริง  ทำงาน 1\n",
        "    ถ้าเงื่อนไขเป็นจริง  ทำงาน 2\n",
        "\n",
        "#สามารถทำงานได้หลายเงื่อนไข\n",
        "```\n",
        "\n"
      ]
    },
    {
      "cell_type": "code",
      "metadata": {
        "colab": {
          "base_uri": "https://localhost:8080/"
        },
        "id": "eLjBO-o-HLQj",
        "outputId": "592f23e4-0152-42fb-94c9-283c19e98a8d"
      },
      "source": [
        "stringx = 'saodjp[opejfjdwpojd[ojwjd93odwj'\n",
        "\n",
        "#จะเช็คว่าตัวเเปรที่สร้างขึ้นมาขนาดของมันถึง 30 ตัวอักษรรึป่าว\n",
        "if len (stringx) > 30:\n",
        "\n",
        "#ถ้าเกิดมากว่าเราจะ Print ว่า\n",
        "    print (f'{stringx} is longer than 30 characters')"
      ],
      "execution_count": 15,
      "outputs": [
        {
          "output_type": "stream",
          "text": [
            "saodjp[opejfjdwpojd[ojwjd93odwj is longer than 30 characters\n"
          ],
          "name": "stdout"
        }
      ]
    },
    {
      "cell_type": "code",
      "metadata": {
        "id": "PnfesEn1NHj1"
      },
      "source": [
        "stringx = 'saodjp[opejfjdwpojd[ojwjd93odwj'\n",
        "\n",
        "#จะเช็คว่าตัวเเปรที่สร้างขึ้นมาขนาดของมันถึง 100 ตัวอักษรรึป่าว\n",
        "if len (stringx) > 100:\n",
        "\n",
        "#ถ้าเกิดมากว่าเราจะ Print ว่า\n",
        "    print (f'{stringx} is longer than 100 characters')\n",
        "\n",
        " #สิ่งที่เกินขึ้นคือ มันเช็คว่าตัวอักษรข้างในมันไม่ได้มากว่า 100 ตัวอักษร มันก็ไม่ทำข้างในเลย"
      ],
      "execution_count": 16,
      "outputs": []
    },
    {
      "cell_type": "markdown",
      "metadata": {
        "id": "0XYDRU7cIiSI"
      },
      "source": [
        "\n",
        "\n",
        "```\n",
        "if เงื่อนไขที่จะตรวจสอบ ( ==, !=, <, >, <=, >=) :\n",
        "  ถ้าเงื่อนไขเป็นจริง ทำงาน 1\n",
        "  ถ้าเงื่อนไขเป็นจริง ทำงาน 2\n",
        "else: แปรว่า ตรวจสอบเงื่อนไขข้างบนเเล้วไม่เป็นจริง ก็ไปทำอีกเงื่อนไขนึง\n",
        "  ทำงานที่ x\n",
        "\n",
        "#เมื่อเช็คเเล้วเราไม่พอใจ อยากให้มันทำงานเพิ่ม\n",
        "```\n",
        "\n"
      ]
    },
    {
      "cell_type": "code",
      "metadata": {
        "id": "g_9rEqAzOxw4",
        "colab": {
          "base_uri": "https://localhost:8080/"
        },
        "outputId": "188b8534-f520-42b2-f793-5b3d509a7df4"
      },
      "source": [
        "stringx = 'saodjp[opejfjdwpojd[ojwjd93odwj'\n",
        "\n",
        "#จะเช็คว่าตัวเเปรที่สร้างขึ้นมาขนาดของมันถึง 100 ตัวอักษรรึป่าว\n",
        "if len (stringx) > 100:\n",
        "\n",
        "#ถ้าเกิดมากว่าเราจะ Print ว่า\n",
        "    print (f'{stringx} is longer than 100 characters')\n",
        "\n",
        "#ถ้าตรวจสอบข้างบนเเล้วไม่เป็นจริง   \n",
        "#ถ้ามันไม่มากกว่า 100 เราก็อยากรู้ว่ามันมีกี่ตัวอักษร\n",
        "else:\n",
        "    print(f'{stringx} in {len(stringx)} characters long')"
      ],
      "execution_count": 17,
      "outputs": [
        {
          "output_type": "stream",
          "text": [
            "saodjp[opejfjdwpojd[ojwjd93odwj in 31 characters long\n"
          ],
          "name": "stdout"
        }
      ]
    },
    {
      "cell_type": "code",
      "metadata": {
        "id": "5R5oYOwtRGJL",
        "colab": {
          "base_uri": "https://localhost:8080/"
        },
        "outputId": "6426fb58-0a93-4be4-84f4-e7fe0be9dc63"
      },
      "source": [
        "stringx = 'saodjp[opejfjdwpojd[ojwjd93odwjnmnmn,'\n",
        "if len (stringx) > 100:\n",
        "  print (f'{stringx} is longer than 100 characters')\n",
        "else:\n",
        "  print(f'{stringx} in {len(stringx)} characters long')"
      ],
      "execution_count": 18,
      "outputs": [
        {
          "output_type": "stream",
          "text": [
            "saodjp[opejfjdwpojd[ojwjd93odwjnmnmn, in 37 characters long\n"
          ],
          "name": "stdout"
        }
      ]
    },
    {
      "cell_type": "markdown",
      "metadata": {
        "id": "kVpIy0JUKwVg"
      },
      "source": [
        "\n",
        "\n",
        "```\n",
        "if เงื่อนไขที่จะตรวจสอบ ( ==, !=, <, >, <=, >=) :\n",
        "#ตรวจสอบก่อนว่าเงื่อนไขมันเป็นจริงรึป่าว\n",
        "#ถ้าเป็นจริงก็จะทำงาน 1 2 และโดดจาก if ออกไปเลย  แล้วก็จบ\n",
        "    ถ้าเงื่อนไขเป็นจริง  ทำงาน 1                                 \n",
        "    ถ้าเงื่อนไขเป็นจริง  ทำงาน 2\n",
        "\n",
        "#ถ้าเกิดมันไม่เป็นจริงสิ่งที่มันจะทำต่อมาคือ หลุดเข้าไปใน elif\n",
        "elif เงื่อนไขที่ตรวจสอบต่อไป ถ้าเงื่อนไขข้างบนไม่เป็นจริงก็จะมาตรวจสอบเงื่อนไขนี้ :\n",
        "#ถ้าเป็นจริงก็จะทำงาน a1 a2 และโดดจาก elif ออกไปเลย  แล้วก็จบ\n",
        "    ถ้าเงื่อนไขเป็นจริง  ทำงานที่ a1\n",
        "    ถ้าเงื่อนไขเป็นจริง  ทำงานที่ a2\n",
        "\n",
        "#ถ้าเกิดมันไม่เป็นจริงอีกสิ่งที่มันจะทำต่อมาคือ หลุดเข้าไปใน elif\n",
        "elif เงื่อนไขที่ตรวจสอบต่อไป ถ้าเงื่อนไขข้างบน ที่จะทำงาน 1 2 a1 a2 ไม่เป็นจริงก็จะมาตรวจสอบเงื่อนไขนี้ :\n",
        "#ถ้าเป็นจริงก็จะทำงาน b1 b2 และโดดจาก elif ออกไปเลย  แล้วก็จบ\n",
        "    ถ้าเงื่อนไขเป็นจริง  ทำงานที่ b1\n",
        "    ถ้าเงื่อนไขเป็นจริง  ทำงานที่ b2\n",
        "\n",
        "else : ตรวจสอบเงื่อนไขข้างบนทั้งหมดเเล้วไม่เป็นจริง ค่อยมาทำงานที่ x\n",
        "    ทำงานที่ x\n",
        "```\n",
        "\n",
        "\n"
      ]
    },
    {
      "cell_type": "code",
      "metadata": {
        "id": "-lV2Vvb7YJYS",
        "colab": {
          "base_uri": "https://localhost:8080/"
        },
        "outputId": "4047a519-80c9-4b32-ab54-039665a51cee"
      },
      "source": [
        "password = '12345' #รหัสจริงๆ\n",
        "\n",
        "input_pass = '123'   #เราใส่รหัสเเบบนี้\n",
        "if input_pass == password: #ถ้าถูกก็ให้เข้ามาได้\n",
        "  print ('welcome!')\n",
        "#ถ้าเกิดมันไม่ถูก\n",
        "elif len (input_pass) > len (password):\n",
        "  print ('Too long, try again')   #ใส่รหัสยาวไปลองใหม่\n",
        "else:\n",
        "  print ('Too short, try again')  #ใส่รหัสสั้นไปลองใหม่"
      ],
      "execution_count": 19,
      "outputs": [
        {
          "output_type": "stream",
          "text": [
            "Too short, try again\n"
          ],
          "name": "stdout"
        }
      ]
    },
    {
      "cell_type": "code",
      "metadata": {
        "colab": {
          "base_uri": "https://localhost:8080/"
        },
        "id": "gMVW-RQFMEI8",
        "outputId": "db98933a-46c9-4a0e-aa3c-39dc73efe77e"
      },
      "source": [
        "password = '12345'  #รหัสจริงๆ\n",
        "\n",
        "input_pass = '123sf'   #เราใส่รหัสเเบบนี้\n",
        "if input_pass == password:  #ถ้าถูกก็ให้เข้ามาได้\n",
        "    print ('Welcome!')\n",
        "elif len (input_pass) > len (password):   #ใส่รหัสยาวไปลองใหม่\n",
        "    print ('Too long, try again!')\n",
        "elif len (input_pass) > len (password):   #ใส่รหัสสั้นไปลองใหม่\n",
        "    print ('Too short, try again!')\n",
        "else:\n",
        "    print ('Wrong password, try again!')   #รหัสผิด ลองใหม่"
      ],
      "execution_count": 20,
      "outputs": [
        {
          "output_type": "stream",
          "text": [
            "Wrong password, try again!\n"
          ],
          "name": "stdout"
        }
      ]
    },
    {
      "cell_type": "code",
      "metadata": {
        "id": "D-ObGx-3cVr_",
        "colab": {
          "base_uri": "https://localhost:8080/"
        },
        "outputId": "78bb6439-4097-47af-faae-7c1d5afd4f9d"
      },
      "source": [
        "password = '12345'  #รหัสจริงๆ\n",
        "\n",
        "input_pass = '123fdasdf'   #เราใส่รหัสเเบบนี้\n",
        "if input_pass == password:  #ถ้าถูกก็ให้เข้ามาได้\n",
        "    print ('Welcome!')\n",
        "elif len (input_pass) > len (password):   #ใส่รหัสยาวไปลองใหม่\n",
        "    print ('Too long, try again!')\n",
        "elif len (input_pass) > len (password):   #ใส่รหัสสั้นไปลองใหม่\n",
        "    print ('Too short, try again!')\n",
        "else:\n",
        "    print ('Wrong password, try again!')    #รหัสผิด ลองใหม่"
      ],
      "execution_count": 21,
      "outputs": [
        {
          "output_type": "stream",
          "text": [
            "Too long, try again!\n"
          ],
          "name": "stdout"
        }
      ]
    },
    {
      "cell_type": "markdown",
      "metadata": {
        "id": "HEV_zxC3OevP"
      },
      "source": [
        "# **Q1**"
      ]
    },
    {
      "cell_type": "code",
      "metadata": {
        "id": "8OiLoVXAOd8E"
      },
      "source": [
        "\n",
        "list_ex = [1,5,9,-19,-2,0] #หาค่าน้อยที่สุดใน list_ex โดยไม่ใช้ function min (commit ก่อน 10.30 :Quiz1)"
      ],
      "execution_count": 109,
      "outputs": []
    },
    {
      "cell_type": "code",
      "metadata": {
        "colab": {
          "base_uri": "https://localhost:8080/"
        },
        "id": "8r5oyVbGO2eQ",
        "outputId": "7847ca4d-0f8b-4440-c37a-708b9709070d"
      },
      "source": [
        "\n",
        "list_ex = [1,5,9,-19,-2,0] # หาค่าน้อยที่สุดใน list โดยไม่ใช้ function min\n",
        "\n",
        "for x in list_ex:\n",
        "  if x == -19:\n",
        "    print (f'ตัวแปร x คือ {x} คือค่าตัวแปรที่น้อยที่สุด ')\n",
        "  else :\n",
        "    print (f'ตัวแปร x คือ {x} ไม่ใช่ค่าตัวแปรที่น้อยที่สุด')"
      ],
      "execution_count": 110,
      "outputs": [
        {
          "output_type": "stream",
          "text": [
            "ตัวแปร x คือ 1 ไม่ใช่ค่าตัวแปรที่น้อยที่สุด\n",
            "ตัวแปร x คือ 5 ไม่ใช่ค่าตัวแปรที่น้อยที่สุด\n",
            "ตัวแปร x คือ 9 ไม่ใช่ค่าตัวแปรที่น้อยที่สุด\n",
            "ตัวแปร x คือ -19 คือค่าตัวแปรที่น้อยที่สุด \n",
            "ตัวแปร x คือ -2 ไม่ใช่ค่าตัวแปรที่น้อยที่สุด\n",
            "ตัวแปร x คือ 0 ไม่ใช่ค่าตัวแปรที่น้อยที่สุด\n"
          ],
          "name": "stdout"
        }
      ]
    },
    {
      "cell_type": "markdown",
      "metadata": {
        "id": "RqaeDXJbTNUw"
      },
      "source": [
        "# **อาจารย์เฉลย**"
      ]
    },
    {
      "cell_type": "code",
      "metadata": {
        "id": "anq0nILyewk_"
      },
      "source": [
        "list_ex = [1,5,9,-19,-2,0] "
      ],
      "execution_count": 12,
      "outputs": []
    },
    {
      "cell_type": "code",
      "metadata": {
        "id": "4TVu9b30HR1g",
        "colab": {
          "base_uri": "https://localhost:8080/"
        },
        "outputId": "8662c647-73f6-42de-a4da-2492c15fd986"
      },
      "source": [
        "min = 1000000  #ตั้งค่าไว้ก่อนให้เยอะๆ\n",
        "\n",
        "for i in list_ex:   #วนเข้าไปดูตัวที่น้อยสุด\n",
        "     if i < min:    #ตัวเเรก คือ 1 เอามาเช็คกับ min ว่ามันน้อยกว่า min รึป่าว\n",
        "         min = i    # อัพเดท min = 1  เเละน้อยที่สุดตอนนี้คือ 1 ไม่ใช่ 1000000\n",
        "                       #จากนั้นวนดูตัวที่ 2 คือ 5  เเล้วเช็คดูว่า 5 น้อยกว่า min ตอนนี้ไหม ก็คือ 1\n",
        "                       #5ไม่น้อยกว่า min min เลยเป็น 1 เหมือนเดิม เเล้วก็วนไปเรื่อยๆ\n",
        "                       #พอถึง -19 มันน้อยกว่า min minเลยเปลี่ยนเป็น -19 เเล้วก็วนไปเรื่อยๆ จนไม่มีตัวไหนน้อยกว่า -19\n",
        "\n",
        "print(min)"
      ],
      "execution_count": 13,
      "outputs": [
        {
          "output_type": "stream",
          "text": [
            "-19\n"
          ],
          "name": "stdout"
        }
      ]
    },
    {
      "cell_type": "code",
      "metadata": {
        "id": "XHWkUkaFgrhg",
        "colab": {
          "base_uri": "https://localhost:8080/"
        },
        "outputId": "263e5de7-1a2b-4709-be40-fe1f7b417a4d"
      },
      "source": [
        "min = 100000000\n",
        "print(list_ex)\n",
        "for i in list_ex:\n",
        "    print(f'now i = {i}, min = {min}')\n",
        "    print('start condition')\n",
        "    if i < min:\n",
        "        print(f'i < min, update min -> {i}')\n",
        "        min = i\n",
        "    else:\n",
        "        print('i >= min, not update')\n",
        "    print('end condition, go to next i')\n",
        "\n",
        "print(min)"
      ],
      "execution_count": 14,
      "outputs": [
        {
          "output_type": "stream",
          "text": [
            "[1, 5, 9, -19, -2, 0]\n",
            "now i = 1, min = 100000000\n",
            "start condition\n",
            "i < min, update min -> 1\n",
            "end condition, go to next i\n",
            "now i = 5, min = 1\n",
            "start condition\n",
            "i >= min, not update\n",
            "end condition, go to next i\n",
            "now i = 9, min = 1\n",
            "start condition\n",
            "i >= min, not update\n",
            "end condition, go to next i\n",
            "now i = -19, min = 1\n",
            "start condition\n",
            "i < min, update min -> -19\n",
            "end condition, go to next i\n",
            "now i = -2, min = -19\n",
            "start condition\n",
            "i >= min, not update\n",
            "end condition, go to next i\n",
            "now i = 0, min = -19\n",
            "start condition\n",
            "i >= min, not update\n",
            "end condition, go to next i\n",
            "-19\n"
          ],
          "name": "stdout"
        }
      ]
    },
    {
      "cell_type": "markdown",
      "metadata": {
        "id": "mtLCxCsb_vAY"
      },
      "source": [
        "\n",
        "# **HW3 : ตัดเกรด**"
      ]
    },
    {
      "cell_type": "code",
      "metadata": {
        "id": "f-IWtOwH__77",
        "colab": {
          "base_uri": "https://localhost:8080/"
        },
        "outputId": "dc9c1926-b04a-4a8e-dbaa-f9220f7b26ff"
      },
      "source": [
        "score = [49,65,70,95,82,55,89,20,77,77,81,59,10]# ตัดเกรด คะแนนใน list score (ใช้ if กับ for)\n",
        "\n",
        "for i in score:\n",
        "  if i >= 80:\n",
        "    print(f'คุณได้ {i} คะเเนน เกรดที่ได้คือ A ')\n",
        "  elif i >=75:\n",
        "    print(f'คุณได้ {i} คะเเนน เกรดที่ได้คือ B+ ')\n",
        "  elif i >=70:\n",
        "    print(f'คุณได้ {i} คะเเนน เกรดที่ได้คือ B ')\n",
        "  elif i >=65:\n",
        "    print(f'คุณได้ {i} คะเเนน เกรดที่ได้คือ C+ ')\n",
        "  elif i >=60:\n",
        "    print(f'คุณได้ {i} คะเเนน เกรดที่ได้คือ C ')\n",
        "  elif i >=55:\n",
        "    print(f'คุณได้ {i} คะเเนน เกรดที่ได้คือ D+ ')\n",
        "  elif i >=50:\n",
        "    print(f'คุณได้ {i} คะเเนน เกรดที่ได้คือ D ')\n",
        "  else:\n",
        "    print(f'คุณได้ {i} คะเเนน เกรดที่ได้คือ F ')"
      ],
      "execution_count": 113,
      "outputs": [
        {
          "output_type": "stream",
          "text": [
            "คุณได้ 49 คะเเนน เกรดที่ได้คือ F \n",
            "คุณได้ 65 คะเเนน เกรดที่ได้คือ C+ \n",
            "คุณได้ 70 คะเเนน เกรดที่ได้คือ B \n",
            "คุณได้ 95 คะเเนน เกรดที่ได้คือ A \n",
            "คุณได้ 82 คะเเนน เกรดที่ได้คือ A \n",
            "คุณได้ 55 คะเเนน เกรดที่ได้คือ D+ \n",
            "คุณได้ 89 คะเเนน เกรดที่ได้คือ A \n",
            "คุณได้ 20 คะเเนน เกรดที่ได้คือ F \n",
            "คุณได้ 77 คะเเนน เกรดที่ได้คือ B+ \n",
            "คุณได้ 77 คะเเนน เกรดที่ได้คือ B+ \n",
            "คุณได้ 81 คะเเนน เกรดที่ได้คือ A \n",
            "คุณได้ 59 คะเเนน เกรดที่ได้คือ D+ \n",
            "คุณได้ 10 คะเเนน เกรดที่ได้คือ F \n"
          ],
          "name": "stdout"
        }
      ]
    },
    {
      "cell_type": "markdown",
      "metadata": {
        "id": "ZEBEgHVxGElQ"
      },
      "source": [
        "# **Function**\n",
        "\n",
        "\n",
        "\n",
        "```\n",
        "def ชื่อฟังก์ชั่น (input1, input2, ....):\n",
        "      งาน xxx\n",
        "      งาน yyy\n",
        "      return output ถ้าเจอreturnก็คือจะเด้งออกไปเลย\n",
        "```\n",
        "\n",
        "## **ส่วนประกอบ**\n",
        "\n",
        "* input\n",
        "\n",
        "* process  (ไม่มีไม้ได้)\n",
        "\n",
        "* output\n"
      ]
    },
    {
      "cell_type": "markdown",
      "metadata": {
        "id": "-k2u0P6jzSdR"
      },
      "source": [
        "## **Example1**"
      ]
    },
    {
      "cell_type": "code",
      "metadata": {
        "id": "943r-CCEzZGj"
      },
      "source": [
        "def grading(score) :\n",
        "    if score >= 80:\n",
        "       grade = ' A'\n",
        "    elif  score  >= 75:\n",
        "         grade = ' B+'\n",
        "    elif  score >= 70:\n",
        "         grade = ' B'\n",
        "    elif   score >= 65:\n",
        "         grade =' C+'\n",
        "    elif  score  >= 60:\n",
        "        grade = ' C'\n",
        "    elif  score >= 55:\n",
        "         grade =' D+'\n",
        "    elif  score >= 50:    \n",
        "          grade = ' D'\n",
        "    else:\n",
        "        grade = ' F'\n",
        "    return grade"
      ],
      "execution_count": 108,
      "outputs": []
    },
    {
      "cell_type": "code",
      "metadata": {
        "colab": {
          "base_uri": "https://localhost:8080/"
        },
        "id": "SfMc-YiA1mIz",
        "outputId": "1d716881-7e7a-45f7-c40a-9c33f52e96dc"
      },
      "source": [
        "score = [49,65,70,95,82,55,89,20,77,77,81,59,10]\n",
        "for i in score:\n",
        "      print(f'คะเเนน {i} ได้เกรด {grading(i)}')"
      ],
      "execution_count": 114,
      "outputs": [
        {
          "output_type": "stream",
          "text": [
            "คะเเนน 49 ได้เกรด  F\n",
            "คะเเนน 65 ได้เกรด  C+\n",
            "คะเเนน 70 ได้เกรด  B\n",
            "คะเเนน 95 ได้เกรด  A\n",
            "คะเเนน 82 ได้เกรด  A\n",
            "คะเเนน 55 ได้เกรด  D+\n",
            "คะเเนน 89 ได้เกรด  A\n",
            "คะเเนน 20 ได้เกรด  F\n",
            "คะเเนน 77 ได้เกรด  B+\n",
            "คะเเนน 77 ได้เกรด  B+\n",
            "คะเเนน 81 ได้เกรด  A\n",
            "คะเเนน 59 ได้เกรด  D+\n",
            "คะเเนน 10 ได้เกรด  F\n"
          ],
          "name": "stdout"
        }
      ]
    },
    {
      "cell_type": "code",
      "metadata": {
        "id": "XfAzcXEP3Jiw"
      },
      "source": [
        "def grading_list(list_score) :\n",
        "    grading_list = []\n",
        "    for score in list_score:\n",
        "          if score >= 80:\n",
        "                grade = ' A'\n",
        "          elif  score  >= 75:\n",
        "                grade = ' B+'\n",
        "          elif  score >= 70:\n",
        "                grade = ' B'\n",
        "          elif   score >= 65:\n",
        "                grade =' C+'\n",
        "          elif  score  >= 60:\n",
        "                grade = ' C'\n",
        "          elif  score >= 55:\n",
        "                grade =' D+'\n",
        "          elif  score >= 50:    \n",
        "                grade = ' D'\n",
        "          else:\n",
        "                grade = ' F'\n",
        "                grade_list.append([score,grade])\n",
        "          return grade_list\n"
      ],
      "execution_count": 161,
      "outputs": []
    },
    {
      "cell_type": "code",
      "metadata": {
        "colab": {
          "base_uri": "https://localhost:8080/",
          "height": 279
        },
        "id": "zTfKX1h55pgW",
        "outputId": "f44b782b-ec32-4f78-8c67-771bc864d339"
      },
      "source": [
        "g = grading_list(score)\n",
        "g"
      ],
      "execution_count": 162,
      "outputs": [
        {
          "output_type": "error",
          "ename": "NameError",
          "evalue": "ignored",
          "traceback": [
            "\u001b[0;31m---------------------------------------------------------------------------\u001b[0m",
            "\u001b[0;31mNameError\u001b[0m                                 Traceback (most recent call last)",
            "\u001b[0;32m<ipython-input-162-3ad11220f4e3>\u001b[0m in \u001b[0;36m<module>\u001b[0;34m()\u001b[0m\n\u001b[0;32m----> 1\u001b[0;31m \u001b[0mg\u001b[0m \u001b[0;34m=\u001b[0m \u001b[0mgrading_list\u001b[0m\u001b[0;34m(\u001b[0m\u001b[0mscore\u001b[0m\u001b[0;34m)\u001b[0m\u001b[0;34m\u001b[0m\u001b[0;34m\u001b[0m\u001b[0m\n\u001b[0m\u001b[1;32m      2\u001b[0m \u001b[0mg\u001b[0m\u001b[0;34m\u001b[0m\u001b[0;34m\u001b[0m\u001b[0m\n",
            "\u001b[0;32m<ipython-input-161-5ebd8f763f88>\u001b[0m in \u001b[0;36mgrading_list\u001b[0;34m(list_score)\u001b[0m\n\u001b[1;32m     18\u001b[0m           \u001b[0;32melse\u001b[0m\u001b[0;34m:\u001b[0m\u001b[0;34m\u001b[0m\u001b[0;34m\u001b[0m\u001b[0m\n\u001b[1;32m     19\u001b[0m                 \u001b[0mgrade\u001b[0m \u001b[0;34m=\u001b[0m \u001b[0;34m' F'\u001b[0m\u001b[0;34m\u001b[0m\u001b[0;34m\u001b[0m\u001b[0m\n\u001b[0;32m---> 20\u001b[0;31m                 \u001b[0mgrade_list\u001b[0m\u001b[0;34m.\u001b[0m\u001b[0mappend\u001b[0m\u001b[0;34m(\u001b[0m\u001b[0;34m[\u001b[0m\u001b[0mscore\u001b[0m\u001b[0;34m,\u001b[0m\u001b[0mgrade\u001b[0m\u001b[0;34m]\u001b[0m\u001b[0;34m)\u001b[0m\u001b[0;34m\u001b[0m\u001b[0;34m\u001b[0m\u001b[0m\n\u001b[0m\u001b[1;32m     21\u001b[0m           \u001b[0;32mreturn\u001b[0m \u001b[0mgrade_list\u001b[0m\u001b[0;34m\u001b[0m\u001b[0;34m\u001b[0m\u001b[0m\n",
            "\u001b[0;31mNameError\u001b[0m: name 'grade_list' is not defined"
          ]
        }
      ]
    },
    {
      "cell_type": "code",
      "metadata": {
        "id": "DNpfcRT350Qg"
      },
      "source": [
        "for in g:\n",
        "    print(fคะเเนน{'')"
      ],
      "execution_count": null,
      "outputs": []
    },
    {
      "cell_type": "code",
      "metadata": {
        "colab": {
          "base_uri": "https://localhost:8080/",
          "height": 129
        },
        "id": "ndcnpdhr71gt",
        "outputId": "2d0953e0-6332-48b1-efeb-d9876550d55a"
      },
      "source": [
        "def grading2(score) :\n",
        "    if score >= 80:\n",
        "                return  ' A'\n",
        "          elif  score  >= 75:\n",
        "                return  ' B+'\n",
        "          elif  score >= 70:\n",
        "                return  ' B'\n",
        "          elif   score >= 65:\n",
        "                return ' C+'\n",
        "          elif  score  >= 60:\n",
        "                return  ' C'\n",
        "          elif  score >= 55:\n",
        "                return ' D+'\n",
        "          elif  score >= 50:    \n",
        "                return  ' D'\n",
        "          else:\n",
        "                return  ' F'\n"
      ],
      "execution_count": 164,
      "outputs": [
        {
          "output_type": "error",
          "ename": "IndentationError",
          "evalue": "ignored",
          "traceback": [
            "\u001b[0;36m  File \u001b[0;32m\"<ipython-input-164-cfd0eeed5f77>\"\u001b[0;36m, line \u001b[0;32m4\u001b[0m\n\u001b[0;31m    elif  score  >= 75:\u001b[0m\n\u001b[0m                       ^\u001b[0m\n\u001b[0;31mIndentationError\u001b[0m\u001b[0;31m:\u001b[0m unindent does not match any outer indentation level\n"
          ]
        }
      ]
    },
    {
      "cell_type": "code",
      "metadata": {
        "colab": {
          "base_uri": "https://localhost:8080/",
          "height": 129
        },
        "id": "AHDv_udq8nz6",
        "outputId": "92793806-a0bc-433f-ed4c-54c8a07d136c"
      },
      "source": [
        "score = [49,65,70,95,82,55,89,20,77,77,81,59,10]\n",
        "for i in score\n",
        "         print(f'คะเเนน{i} ได้เกรด {grading2(i)}')\n"
      ],
      "execution_count": 165,
      "outputs": [
        {
          "output_type": "error",
          "ename": "SyntaxError",
          "evalue": "ignored",
          "traceback": [
            "\u001b[0;36m  File \u001b[0;32m\"<ipython-input-165-47ab101f46e5>\"\u001b[0;36m, line \u001b[0;32m2\u001b[0m\n\u001b[0;31m    for i in score\u001b[0m\n\u001b[0m                  ^\u001b[0m\n\u001b[0;31mSyntaxError\u001b[0m\u001b[0;31m:\u001b[0m invalid syntax\n"
          ]
        }
      ]
    },
    {
      "cell_type": "markdown",
      "metadata": {
        "id": "zDLSmbmw9fwh"
      },
      "source": [
        "Example2 (ไม่มี input)"
      ]
    },
    {
      "cell_type": "code",
      "metadata": {
        "id": "S3WVzKdD9eEq"
      },
      "source": [
        "def mypi() :\n",
        "        return 3.14"
      ],
      "execution_count": 166,
      "outputs": []
    },
    {
      "cell_type": "code",
      "metadata": {
        "colab": {
          "base_uri": "https://localhost:8080/",
          "height": 521
        },
        "id": "sau4UWsm9zE-",
        "outputId": "c59f4a83-4b7b-464d-c98a-aba794757561"
      },
      "source": [
        "r = 10\n",
        "input (f'รัศมี = {r} จะมีเส้นรอบวง = {2*mypi()*r}')"
      ],
      "execution_count": 168,
      "outputs": [
        {
          "output_type": "error",
          "ename": "KeyboardInterrupt",
          "evalue": "ignored",
          "traceback": [
            "\u001b[0;31m---------------------------------------------------------------------------\u001b[0m",
            "\u001b[0;31mKeyboardInterrupt\u001b[0m                         Traceback (most recent call last)",
            "\u001b[0;32m/usr/local/lib/python3.7/dist-packages/ipykernel/kernelbase.py\u001b[0m in \u001b[0;36m_input_request\u001b[0;34m(self, prompt, ident, parent, password)\u001b[0m\n\u001b[1;32m    728\u001b[0m             \u001b[0;32mtry\u001b[0m\u001b[0;34m:\u001b[0m\u001b[0;34m\u001b[0m\u001b[0;34m\u001b[0m\u001b[0m\n\u001b[0;32m--> 729\u001b[0;31m                 \u001b[0mident\u001b[0m\u001b[0;34m,\u001b[0m \u001b[0mreply\u001b[0m \u001b[0;34m=\u001b[0m \u001b[0mself\u001b[0m\u001b[0;34m.\u001b[0m\u001b[0msession\u001b[0m\u001b[0;34m.\u001b[0m\u001b[0mrecv\u001b[0m\u001b[0;34m(\u001b[0m\u001b[0mself\u001b[0m\u001b[0;34m.\u001b[0m\u001b[0mstdin_socket\u001b[0m\u001b[0;34m,\u001b[0m \u001b[0;36m0\u001b[0m\u001b[0;34m)\u001b[0m\u001b[0;34m\u001b[0m\u001b[0;34m\u001b[0m\u001b[0m\n\u001b[0m\u001b[1;32m    730\u001b[0m             \u001b[0;32mexcept\u001b[0m \u001b[0mException\u001b[0m\u001b[0;34m:\u001b[0m\u001b[0;34m\u001b[0m\u001b[0;34m\u001b[0m\u001b[0m\n",
            "\u001b[0;32m/usr/local/lib/python3.7/dist-packages/jupyter_client/session.py\u001b[0m in \u001b[0;36mrecv\u001b[0;34m(self, socket, mode, content, copy)\u001b[0m\n\u001b[1;32m    802\u001b[0m         \u001b[0;32mtry\u001b[0m\u001b[0;34m:\u001b[0m\u001b[0;34m\u001b[0m\u001b[0;34m\u001b[0m\u001b[0m\n\u001b[0;32m--> 803\u001b[0;31m             \u001b[0mmsg_list\u001b[0m \u001b[0;34m=\u001b[0m \u001b[0msocket\u001b[0m\u001b[0;34m.\u001b[0m\u001b[0mrecv_multipart\u001b[0m\u001b[0;34m(\u001b[0m\u001b[0mmode\u001b[0m\u001b[0;34m,\u001b[0m \u001b[0mcopy\u001b[0m\u001b[0;34m=\u001b[0m\u001b[0mcopy\u001b[0m\u001b[0;34m)\u001b[0m\u001b[0;34m\u001b[0m\u001b[0;34m\u001b[0m\u001b[0m\n\u001b[0m\u001b[1;32m    804\u001b[0m         \u001b[0;32mexcept\u001b[0m \u001b[0mzmq\u001b[0m\u001b[0;34m.\u001b[0m\u001b[0mZMQError\u001b[0m \u001b[0;32mas\u001b[0m \u001b[0me\u001b[0m\u001b[0;34m:\u001b[0m\u001b[0;34m\u001b[0m\u001b[0;34m\u001b[0m\u001b[0m\n",
            "\u001b[0;32m/usr/local/lib/python3.7/dist-packages/zmq/sugar/socket.py\u001b[0m in \u001b[0;36mrecv_multipart\u001b[0;34m(self, flags, copy, track)\u001b[0m\n\u001b[1;32m    582\u001b[0m         \"\"\"\n\u001b[0;32m--> 583\u001b[0;31m         \u001b[0mparts\u001b[0m \u001b[0;34m=\u001b[0m \u001b[0;34m[\u001b[0m\u001b[0mself\u001b[0m\u001b[0;34m.\u001b[0m\u001b[0mrecv\u001b[0m\u001b[0;34m(\u001b[0m\u001b[0mflags\u001b[0m\u001b[0;34m,\u001b[0m \u001b[0mcopy\u001b[0m\u001b[0;34m=\u001b[0m\u001b[0mcopy\u001b[0m\u001b[0;34m,\u001b[0m \u001b[0mtrack\u001b[0m\u001b[0;34m=\u001b[0m\u001b[0mtrack\u001b[0m\u001b[0;34m)\u001b[0m\u001b[0;34m]\u001b[0m\u001b[0;34m\u001b[0m\u001b[0;34m\u001b[0m\u001b[0m\n\u001b[0m\u001b[1;32m    584\u001b[0m         \u001b[0;31m# have first part already, only loop while more to receive\u001b[0m\u001b[0;34m\u001b[0m\u001b[0;34m\u001b[0m\u001b[0;34m\u001b[0m\u001b[0m\n",
            "\u001b[0;32mzmq/backend/cython/socket.pyx\u001b[0m in \u001b[0;36mzmq.backend.cython.socket.Socket.recv\u001b[0;34m()\u001b[0m\n",
            "\u001b[0;32mzmq/backend/cython/socket.pyx\u001b[0m in \u001b[0;36mzmq.backend.cython.socket.Socket.recv\u001b[0;34m()\u001b[0m\n",
            "\u001b[0;32mzmq/backend/cython/socket.pyx\u001b[0m in \u001b[0;36mzmq.backend.cython.socket._recv_copy\u001b[0;34m()\u001b[0m\n",
            "\u001b[0;32m/usr/local/lib/python3.7/dist-packages/zmq/backend/cython/checkrc.pxd\u001b[0m in \u001b[0;36mzmq.backend.cython.checkrc._check_rc\u001b[0;34m()\u001b[0m\n",
            "\u001b[0;31mKeyboardInterrupt\u001b[0m: ",
            "\nDuring handling of the above exception, another exception occurred:\n",
            "\u001b[0;31mKeyboardInterrupt\u001b[0m                         Traceback (most recent call last)",
            "\u001b[0;32m<ipython-input-168-c4c9a59d4a21>\u001b[0m in \u001b[0;36m<module>\u001b[0;34m()\u001b[0m\n\u001b[1;32m      1\u001b[0m \u001b[0mr\u001b[0m \u001b[0;34m=\u001b[0m \u001b[0;36m10\u001b[0m\u001b[0;34m\u001b[0m\u001b[0;34m\u001b[0m\u001b[0m\n\u001b[0;32m----> 2\u001b[0;31m \u001b[0minput\u001b[0m \u001b[0;34m(\u001b[0m\u001b[0;34mf'รัศมี = {r} จะมีเส้นรอบวง = {2*mypi()*r}'\u001b[0m\u001b[0;34m)\u001b[0m\u001b[0;34m\u001b[0m\u001b[0;34m\u001b[0m\u001b[0m\n\u001b[0m",
            "\u001b[0;32m/usr/local/lib/python3.7/dist-packages/ipykernel/kernelbase.py\u001b[0m in \u001b[0;36mraw_input\u001b[0;34m(self, prompt)\u001b[0m\n\u001b[1;32m    702\u001b[0m             \u001b[0mself\u001b[0m\u001b[0;34m.\u001b[0m\u001b[0m_parent_ident\u001b[0m\u001b[0;34m,\u001b[0m\u001b[0;34m\u001b[0m\u001b[0;34m\u001b[0m\u001b[0m\n\u001b[1;32m    703\u001b[0m             \u001b[0mself\u001b[0m\u001b[0;34m.\u001b[0m\u001b[0m_parent_header\u001b[0m\u001b[0;34m,\u001b[0m\u001b[0;34m\u001b[0m\u001b[0;34m\u001b[0m\u001b[0m\n\u001b[0;32m--> 704\u001b[0;31m             \u001b[0mpassword\u001b[0m\u001b[0;34m=\u001b[0m\u001b[0;32mFalse\u001b[0m\u001b[0;34m,\u001b[0m\u001b[0;34m\u001b[0m\u001b[0;34m\u001b[0m\u001b[0m\n\u001b[0m\u001b[1;32m    705\u001b[0m         )\n\u001b[1;32m    706\u001b[0m \u001b[0;34m\u001b[0m\u001b[0m\n",
            "\u001b[0;32m/usr/local/lib/python3.7/dist-packages/ipykernel/kernelbase.py\u001b[0m in \u001b[0;36m_input_request\u001b[0;34m(self, prompt, ident, parent, password)\u001b[0m\n\u001b[1;32m    732\u001b[0m             \u001b[0;32mexcept\u001b[0m \u001b[0mKeyboardInterrupt\u001b[0m\u001b[0;34m:\u001b[0m\u001b[0;34m\u001b[0m\u001b[0;34m\u001b[0m\u001b[0m\n\u001b[1;32m    733\u001b[0m                 \u001b[0;31m# re-raise KeyboardInterrupt, to truncate traceback\u001b[0m\u001b[0;34m\u001b[0m\u001b[0;34m\u001b[0m\u001b[0;34m\u001b[0m\u001b[0m\n\u001b[0;32m--> 734\u001b[0;31m                 \u001b[0;32mraise\u001b[0m \u001b[0mKeyboardInterrupt\u001b[0m\u001b[0;34m\u001b[0m\u001b[0;34m\u001b[0m\u001b[0m\n\u001b[0m\u001b[1;32m    735\u001b[0m             \u001b[0;32melse\u001b[0m\u001b[0;34m:\u001b[0m\u001b[0;34m\u001b[0m\u001b[0;34m\u001b[0m\u001b[0m\n\u001b[1;32m    736\u001b[0m                 \u001b[0;32mbreak\u001b[0m\u001b[0;34m\u001b[0m\u001b[0;34m\u001b[0m\u001b[0m\n",
            "\u001b[0;31mKeyboardInterrupt\u001b[0m: "
          ]
        }
      ]
    },
    {
      "cell_type": "markdown",
      "metadata": {
        "id": "Pb6Z55at-WlI"
      },
      "source": [
        "Example3 (ไม่มี output)"
      ]
    },
    {
      "cell_type": "code",
      "metadata": {
        "id": "kStmF9Ar-MgM"
      },
      "source": [
        ""
      ],
      "execution_count": null,
      "outputs": []
    },
    {
      "cell_type": "code",
      "metadata": {
        "id": "IuIAmJZvGiHG"
      },
      "source": [
        "Q2"
      ],
      "execution_count": null,
      "outputs": []
    }
  ]
}