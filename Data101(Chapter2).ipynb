{
  "nbformat": 4,
  "nbformat_minor": 0,
  "metadata": {
    "colab": {
      "name": "Data101(Chapter2).ipynb",
      "provenance": [],
      "authorship_tag": "ABX9TyPKvsxSkMc9QZFuYn9N4Rud",
      "include_colab_link": true
    },
    "kernelspec": {
      "name": "python3",
      "display_name": "Python 3"
    },
    "language_info": {
      "name": "python"
    }
  },
  "cells": [
    {
      "cell_type": "markdown",
      "metadata": {
        "id": "view-in-github",
        "colab_type": "text"
      },
      "source": [
        "<a href=\"https://colab.research.google.com/github/Jaomiew/DWDM21/blob/main/Data101(Chapter2).ipynb\" target=\"_parent\"><img src=\"https://colab.research.google.com/assets/colab-badge.svg\" alt=\"Open In Colab\"/></a>"
      ]
    },
    {
      "cell_type": "markdown",
      "metadata": {
        "id": "CMHH9kwouXqB"
      },
      "source": [
        "## **ข้อความที่อยู่ใน textbox จะเป็น ภาษา markdown**\n",
        "\n",
        "## **ข้อดีหนึ่งของ Python คือมี package สำหรับทำงานต่างๆมากมาย**\n",
        "\n",
        "## **ซึ่ง pandas เป็น package สำหรับการทำงานกับข้อมูลที่อยู่ในรูปแบบตาราง**\n",
        "\n",
        "## **โดย pandas จะเรียกตารางนั้นว่า dataframe**"
      ]
    },
    {
      "cell_type": "markdown",
      "metadata": {
        "id": "oXEBzBGBtZrS"
      },
      "source": [
        "# **package ที่ใช้ในการจัดการข้อมูล**\n",
        "\n",
        "## **1. pandas**\n"
      ]
    },
    {
      "cell_type": "code",
      "metadata": {
        "id": "9JEC5_UXsO9C"
      },
      "source": [
        "  import pandas #วิธีเรียกใช้ package คือ import ตามด้วยชื่อ package \n",
        "                       #คือการ import แบบธรรมดา\n"
      ],
      "execution_count": 4,
      "outputs": []
    },
    {
      "cell_type": "code",
      "metadata": {
        "id": "ZXx1OzQjtihP"
      },
      "source": [
        "import  pandas as pd  #เหมือนกับข้างต้นเเต่เเค่ตั้งชื่อให้ package ที่โหลดมาว่า pd ซึ่งทำให้เวลาพิ์มสั้นกว่าคำว่า pandas"
      ],
      "execution_count": 5,
      "outputs": []
    },
    {
      "cell_type": "markdown",
      "metadata": {
        "id": "VkAxuogRvTDd"
      },
      "source": [
        "## ไฟล์ที่จะเจอคือ\n",
        "\n",
        "1. .csv (CSV = comma separated values) เป็นไฟล์หลังที่จะใช้ในวิชานี้\n",
        "เก็บข้อมูลตาราง ใช้งานง่ายๆ"
      ]
    },
    {
      "cell_type": "code",
      "metadata": {
        "id": "ukP09fkavzq0"
      },
      "source": [
        "data_df = pd.read_csv('data.csv') #ใช้ data ชื่อ pd\n"
      ],
      "execution_count": 10,
      "outputs": []
    },
    {
      "cell_type": "code",
      "metadata": {
        "colab": {
          "base_uri": "https://localhost:8080/",
          "height": 136
        },
        "id": "MwsjPNgdx1eI",
        "outputId": "a1e7e2a4-e17c-45b6-9076-6e37463cf32e"
      },
      "source": [
        "data_df "
      ],
      "execution_count": 9,
      "outputs": [
        {
          "output_type": "execute_result",
          "data": {
            "text/html": [
              "<div>\n",
              "<style scoped>\n",
              "    .dataframe tbody tr th:only-of-type {\n",
              "        vertical-align: middle;\n",
              "    }\n",
              "\n",
              "    .dataframe tbody tr th {\n",
              "        vertical-align: top;\n",
              "    }\n",
              "\n",
              "    .dataframe thead th {\n",
              "        text-align: right;\n",
              "    }\n",
              "</style>\n",
              "<table border=\"1\" class=\"dataframe\">\n",
              "  <thead>\n",
              "    <tr style=\"text-align: right;\">\n",
              "      <th></th>\n",
              "      <th>name</th>\n",
              "      <th>age</th>\n",
              "      <th>city</th>\n",
              "    </tr>\n",
              "  </thead>\n",
              "  <tbody>\n",
              "    <tr>\n",
              "      <th>0</th>\n",
              "      <td>tom</td>\n",
              "      <td>27</td>\n",
              "      <td>Khon Kaen</td>\n",
              "    </tr>\n",
              "    <tr>\n",
              "      <th>1</th>\n",
              "      <td>Paul</td>\n",
              "      <td>15</td>\n",
              "      <td>Bangkok</td>\n",
              "    </tr>\n",
              "    <tr>\n",
              "      <th>2</th>\n",
              "      <td>Sarah</td>\n",
              "      <td>49</td>\n",
              "      <td>London</td>\n",
              "    </tr>\n",
              "  </tbody>\n",
              "</table>\n",
              "</div>"
            ],
            "text/plain": [
              "   name    age        city\n",
              "0    tom     27  Khon Kaen\n",
              "1   Paul     15    Bangkok\n",
              "2  Sarah     49     London"
            ]
          },
          "metadata": {
            "tags": []
          },
          "execution_count": 9
        }
      ]
    },
    {
      "cell_type": "code",
      "metadata": {
        "colab": {
          "base_uri": "https://localhost:8080/",
          "height": 136
        },
        "id": "R-o3wrMNyf04",
        "outputId": "a29da47c-2b1c-4216-8aa1-7938e354ece5"
      },
      "source": [
        "data_df2 = pandas.read_csv('data.csv') #ใช้ data ชื่อ pandas คนละชื่อกันกับข้างบน\n",
        "data_df2"
      ],
      "execution_count": 11,
      "outputs": [
        {
          "output_type": "execute_result",
          "data": {
            "text/html": [
              "<div>\n",
              "<style scoped>\n",
              "    .dataframe tbody tr th:only-of-type {\n",
              "        vertical-align: middle;\n",
              "    }\n",
              "\n",
              "    .dataframe tbody tr th {\n",
              "        vertical-align: top;\n",
              "    }\n",
              "\n",
              "    .dataframe thead th {\n",
              "        text-align: right;\n",
              "    }\n",
              "</style>\n",
              "<table border=\"1\" class=\"dataframe\">\n",
              "  <thead>\n",
              "    <tr style=\"text-align: right;\">\n",
              "      <th></th>\n",
              "      <th>name</th>\n",
              "      <th>age</th>\n",
              "      <th>city</th>\n",
              "    </tr>\n",
              "  </thead>\n",
              "  <tbody>\n",
              "    <tr>\n",
              "      <th>0</th>\n",
              "      <td>tom</td>\n",
              "      <td>27</td>\n",
              "      <td>Khon Kaen</td>\n",
              "    </tr>\n",
              "    <tr>\n",
              "      <th>1</th>\n",
              "      <td>Paul</td>\n",
              "      <td>15</td>\n",
              "      <td>Bangkok</td>\n",
              "    </tr>\n",
              "    <tr>\n",
              "      <th>2</th>\n",
              "      <td>Sarah</td>\n",
              "      <td>49</td>\n",
              "      <td>London</td>\n",
              "    </tr>\n",
              "  </tbody>\n",
              "</table>\n",
              "</div>"
            ],
            "text/plain": [
              "   name    age        city\n",
              "0    tom     27  Khon Kaen\n",
              "1   Paul     15    Bangkok\n",
              "2  Sarah     49     London"
            ]
          },
          "metadata": {
            "tags": []
          },
          "execution_count": 11
        }
      ]
    },
    {
      "cell_type": "markdown",
      "metadata": {
        "id": "VHlMwHxwy_pj"
      },
      "source": [
        "# **Basic Python**\n",
        "## variables ตัวแปร คือ กล่องที่เอาไว้ใส่ข้อมูล\n",
        "\n",
        "## **ข้อกำหนดในการตั้งชื่อตัวแปร**\n",
        "\n",
        "1. ชื่อห้ามมีเว้นวรรค\n",
        "\n",
        "2. (พยายาม)ใช้ภาษาอังกฤษ\n",
        "\n",
        "3. ตัวเล็กกับตัวใหญ่ แตกต่างกัน (case sensitive)\n",
        "\n",
        "4. ห้ามใช้ตัวเลขเป็นตัวหน้า"
      ]
    },
    {
      "cell_type": "code",
      "metadata": {
        "id": "nA0pOXHdy7Zy"
      },
      "source": [
        "variable_a = 12              #12 ไม่มี quote คือเป็นตัวเลข 12    #variable_a คือช่องกล่อง\n",
        "variable_b = ' abcde '     # 'เรียกว่า ' ' quote' เป็นตัวหนังสือ\n",
        "variable_c = variable_a "
      ],
      "execution_count": 12,
      "outputs": []
    },
    {
      "cell_type": "code",
      "metadata": {
        "colab": {
          "base_uri": "https://localhost:8080/"
        },
        "id": "imqsMjVv1rOC",
        "outputId": "760ff407-2ad5-458e-d38c-7126917bddcd"
      },
      "source": [
        "variable_a"
      ],
      "execution_count": 13,
      "outputs": [
        {
          "output_type": "execute_result",
          "data": {
            "text/plain": [
              "12"
            ]
          },
          "metadata": {
            "tags": []
          },
          "execution_count": 13
        }
      ]
    },
    {
      "cell_type": "code",
      "metadata": {
        "colab": {
          "base_uri": "https://localhost:8080/",
          "height": 35
        },
        "id": "XJaSpWjR1u4f",
        "outputId": "d862723d-8829-4a08-9533-e2c903cca0c0"
      },
      "source": [
        "variable_b"
      ],
      "execution_count": 14,
      "outputs": [
        {
          "output_type": "execute_result",
          "data": {
            "application/vnd.google.colaboratory.intrinsic+json": {
              "type": "string"
            },
            "text/plain": [
              "' abcde '"
            ]
          },
          "metadata": {
            "tags": []
          },
          "execution_count": 14
        }
      ]
    },
    {
      "cell_type": "code",
      "metadata": {
        "colab": {
          "base_uri": "https://localhost:8080/"
        },
        "id": "o6mxjNAm1x8s",
        "outputId": "0932f909-4cd6-4e04-fa80-0ce7c9abd9e4"
      },
      "source": [
        "variable_c"
      ],
      "execution_count": 15,
      "outputs": [
        {
          "output_type": "execute_result",
          "data": {
            "text/plain": [
              "12"
            ]
          },
          "metadata": {
            "tags": []
          },
          "execution_count": 15
        }
      ]
    },
    {
      "cell_type": "markdown",
      "metadata": {
        "id": "lsMlZnRD_i8K"
      },
      "source": [
        "# **ชื่อห้ามมีเว้นวรรค**"
      ]
    },
    {
      "cell_type": "code",
      "metadata": {
        "id": "H0nVPg1S-hII",
        "outputId": "c6237a6f-db97-4f3b-8262-9a1b58e1289d",
        "colab": {
          "base_uri": "https://localhost:8080/",
          "height": 130
        }
      },
      "source": [
        "\n",
        "variable a = 6"
      ],
      "execution_count": 17,
      "outputs": [
        {
          "output_type": "error",
          "ename": "SyntaxError",
          "evalue": "ignored",
          "traceback": [
            "\u001b[0;36m  File \u001b[0;32m\"<ipython-input-17-126f7ab49866>\"\u001b[0;36m, line \u001b[0;32m2\u001b[0m\n\u001b[0;31m    variable a = 6\u001b[0m\n\u001b[0m             ^\u001b[0m\n\u001b[0;31mSyntaxError\u001b[0m\u001b[0;31m:\u001b[0m invalid syntax\n"
          ]
        }
      ]
    },
    {
      "cell_type": "markdown",
      "metadata": {
        "id": "NFmCDlhV_oC4"
      },
      "source": [
        "# **(พยายาม)ใช้ภาษาอังกฤษ**\n",
        "\n",
        "## colab ใช้ภาษาไทยเป็นชื่อตัวแปรได้ แต่ไม่ควรใช้"
      ]
    },
    {
      "cell_type": "code",
      "metadata": {
        "id": "6pe1vz1g-oaX",
        "outputId": "644fbe6d-e945-47fe-dbc7-a4c0ae339d92",
        "colab": {
          "base_uri": "https://localhost:8080/"
        }
      },
      "source": [
        "\n",
        "ตัวแปร = 3\n",
        "ตัวแปร"
      ],
      "execution_count": 19,
      "outputs": [
        {
          "output_type": "execute_result",
          "data": {
            "text/plain": [
              "3"
            ]
          },
          "metadata": {
            "tags": []
          },
          "execution_count": 19
        }
      ]
    },
    {
      "cell_type": "markdown",
      "metadata": {
        "id": "BZ07OYwk_ban"
      },
      "source": [
        "# **ตัวเล็กกับตัวใหญ่ แตกต่างกัน (case sensitive)**"
      ]
    },
    {
      "cell_type": "code",
      "metadata": {
        "id": "39XHaJWq-sJV",
        "outputId": "eaf8e4d7-89a3-4095-8867-7601f6b4d133",
        "colab": {
          "base_uri": "https://localhost:8080/"
        }
      },
      "source": [
        "\n",
        "v_a = 1\n",
        "V_a = 2\n",
        "print(v_a)\n",
        "print(V_a)"
      ],
      "execution_count": 26,
      "outputs": [
        {
          "output_type": "stream",
          "text": [
            "1\n",
            "2\n"
          ],
          "name": "stdout"
        }
      ]
    },
    {
      "cell_type": "code",
      "metadata": {
        "id": "sVGb_SML--h8",
        "outputId": "249b8287-1c26-4e1e-a973-a38788a6178d",
        "colab": {
          "base_uri": "https://localhost:8080/"
        }
      },
      "source": [
        "v_a = 1\n",
        "v_a = 2\n",
        "print(v_a)\n",
        "print(v_a)"
      ],
      "execution_count": 21,
      "outputs": [
        {
          "output_type": "stream",
          "text": [
            "2\n",
            "2\n"
          ],
          "name": "stdout"
        }
      ]
    },
    {
      "cell_type": "markdown",
      "metadata": {
        "id": "np5xpDoX_Q88"
      },
      "source": [
        "# **ห้ามใช้ตัวเลขเป็นตัวหน้า**"
      ]
    },
    {
      "cell_type": "code",
      "metadata": {
        "id": "XEXUjDFQ_LFA",
        "outputId": "e76c6a8d-6541-4e10-e7b8-2c91453f1c52",
        "colab": {
          "base_uri": "https://localhost:8080/",
          "height": 130
        }
      },
      "source": [
        "\n",
        "2 = 1"
      ],
      "execution_count": 24,
      "outputs": [
        {
          "output_type": "error",
          "ename": "SyntaxError",
          "evalue": "ignored",
          "traceback": [
            "\u001b[0;36m  File \u001b[0;32m\"<ipython-input-24-019dec745c8e>\"\u001b[0;36m, line \u001b[0;32m2\u001b[0m\n\u001b[0;31m    2 = 1\u001b[0m\n\u001b[0m         ^\u001b[0m\n\u001b[0;31mSyntaxError\u001b[0m\u001b[0;31m:\u001b[0m can't assign to literal\n"
          ]
        }
      ]
    },
    {
      "cell_type": "code",
      "metadata": {
        "id": "3LCNcXhW_PGw",
        "outputId": "4639b38f-c983-4ae4-b7d8-1bdc16177245",
        "colab": {
          "base_uri": "https://localhost:8080/",
          "height": 130
        }
      },
      "source": [
        "\n",
        "2ab = 1"
      ],
      "execution_count": 25,
      "outputs": [
        {
          "output_type": "error",
          "ename": "SyntaxError",
          "evalue": "ignored",
          "traceback": [
            "\u001b[0;36m  File \u001b[0;32m\"<ipython-input-25-484e6c14e34b>\"\u001b[0;36m, line \u001b[0;32m2\u001b[0m\n\u001b[0;31m    2ab = 1\u001b[0m\n\u001b[0m      ^\u001b[0m\n\u001b[0;31mSyntaxError\u001b[0m\u001b[0;31m:\u001b[0m invalid syntax\n"
          ]
        }
      ]
    },
    {
      "cell_type": "code",
      "metadata": {
        "id": "bWW4WKV24fXx"
      },
      "source": [
        "variable_a = 12            \n",
        "variable_b = ' abcde '    \n",
        "variable_c = variable_a \n",
        "variable_d = -41.2\n",
        "variable_4 = \"KKU\" #ใช้ double quote \"\"  ก็ได้\n",
        "# สามารถ + - * / ได้  ตัวแปรชนิดเดียวกัน\n",
        "# ไม่สามารถใช้ตัวเลข + - * / กับตัวหนังสือได้"
      ],
      "execution_count": 31,
      "outputs": []
    },
    {
      "cell_type": "code",
      "metadata": {
        "colab": {
          "base_uri": "https://localhost:8080/"
        },
        "id": "k76YqaJh4-ZF",
        "outputId": "ba5079c3-6789-4183-f48e-35f09b2820ce"
      },
      "source": [
        "variable_x = variable_c + variable_d\n",
        "print (variable_x)         #print ใช้แสดงค่า"
      ],
      "execution_count": 30,
      "outputs": [
        {
          "output_type": "stream",
          "text": [
            "-29.200000000000003\n"
          ],
          "name": "stdout"
        }
      ]
    },
    {
      "cell_type": "code",
      "metadata": {
        "id": "_JYYzhj7AjeY",
        "outputId": "44946a4d-2f49-4578-c1e1-3c5a6aca4931",
        "colab": {
          "base_uri": "https://localhost:8080/",
          "height": 163
        }
      },
      "source": [
        "variable_a + variable_b"
      ],
      "execution_count": 32,
      "outputs": [
        {
          "output_type": "error",
          "ename": "TypeError",
          "evalue": "ignored",
          "traceback": [
            "\u001b[0;31m---------------------------------------------------------------------------\u001b[0m",
            "\u001b[0;31mTypeError\u001b[0m                                 Traceback (most recent call last)",
            "\u001b[0;32m<ipython-input-32-ca279e5cd267>\u001b[0m in \u001b[0;36m<module>\u001b[0;34m()\u001b[0m\n\u001b[0;32m----> 1\u001b[0;31m \u001b[0mvariable_a\u001b[0m \u001b[0;34m+\u001b[0m \u001b[0mvariable_b\u001b[0m\u001b[0;34m\u001b[0m\u001b[0;34m\u001b[0m\u001b[0m\n\u001b[0m",
            "\u001b[0;31mTypeError\u001b[0m: unsupported operand type(s) for +: 'int' and 'str'"
          ]
        }
      ]
    },
    {
      "cell_type": "code",
      "metadata": {
        "colab": {
          "base_uri": "https://localhost:8080/"
        },
        "id": "MX8T_oQZ643L",
        "outputId": "2fdde284-728a-4b10-d23b-ebbd5c74c9f2"
      },
      "source": [
        "print (variable_b + variable_4)  #ตัวแปรที่เป็นตัวหนังสือ + กับตัวหนังสือ"
      ],
      "execution_count": 33,
      "outputs": [
        {
          "output_type": "stream",
          "text": [
            " abcde KKU\n"
          ],
          "name": "stdout"
        }
      ]
    },
    {
      "cell_type": "markdown",
      "metadata": {
        "id": "A33bL6RO7iWy"
      },
      "source": [
        "# **Casting การเปลี่ยนชนิดของตัวเเปร**\n",
        "## **ing ()**\n",
        "\n",
        "## **float ()**\n",
        " \n",
        "## **str () เปลี่ยนตัวเลข ทศนิยมเป็น จน. จริง**"
      ]
    },
    {
      "cell_type": "code",
      "metadata": {
        "colab": {
          "base_uri": "https://localhost:8080/"
        },
        "id": "L2rlFLzE7TMV",
        "outputId": "875cd307-c39d-4d81-a10d-a2ef2e43c4e0"
      },
      "source": [
        "print (variable_x)\n",
        "print (int(variable_x))"
      ],
      "execution_count": 34,
      "outputs": [
        {
          "output_type": "stream",
          "text": [
            "-29.200000000000003\n",
            "-29\n"
          ],
          "name": "stdout"
        }
      ]
    },
    {
      "cell_type": "code",
      "metadata": {
        "colab": {
          "base_uri": "https://localhost:8080/"
        },
        "id": "dFO7X_I28AOp",
        "outputId": "f9bfb6ec-6793-4b71-eaf1-435ea4b736c3"
      },
      "source": [
        "V_X = str (variable_x)\n",
        "print (V_X)"
      ],
      "execution_count": 35,
      "outputs": [
        {
          "output_type": "stream",
          "text": [
            "-29.200000000000003\n"
          ],
          "name": "stdout"
        }
      ]
    },
    {
      "cell_type": "code",
      "metadata": {
        "colab": {
          "base_uri": "https://localhost:8080/",
          "height": 163
        },
        "id": "pVKyOTat8bMZ",
        "outputId": "6b0b05e6-89d0-420f-d384-7bfd1f208a71"
      },
      "source": [
        "V_X + variable_a"
      ],
      "execution_count": 36,
      "outputs": [
        {
          "output_type": "error",
          "ename": "TypeError",
          "evalue": "ignored",
          "traceback": [
            "\u001b[0;31m---------------------------------------------------------------------------\u001b[0m",
            "\u001b[0;31mTypeError\u001b[0m                                 Traceback (most recent call last)",
            "\u001b[0;32m<ipython-input-36-d83c0918f5c6>\u001b[0m in \u001b[0;36m<module>\u001b[0;34m()\u001b[0m\n\u001b[0;32m----> 1\u001b[0;31m \u001b[0mV_X\u001b[0m \u001b[0;34m+\u001b[0m \u001b[0mvariable_a\u001b[0m\u001b[0;34m\u001b[0m\u001b[0;34m\u001b[0m\u001b[0m\n\u001b[0m",
            "\u001b[0;31mTypeError\u001b[0m: can only concatenate str (not \"int\") to str"
          ]
        }
      ]
    },
    {
      "cell_type": "code",
      "metadata": {
        "colab": {
          "base_uri": "https://localhost:8080/",
          "height": 163
        },
        "id": "SvWcws8l8gGB",
        "outputId": "d54c0670-966d-4776-bac8-c7f98776870b"
      },
      "source": [
        "variable_a + V_X"
      ],
      "execution_count": 37,
      "outputs": [
        {
          "output_type": "error",
          "ename": "TypeError",
          "evalue": "ignored",
          "traceback": [
            "\u001b[0;31m---------------------------------------------------------------------------\u001b[0m",
            "\u001b[0;31mTypeError\u001b[0m                                 Traceback (most recent call last)",
            "\u001b[0;32m<ipython-input-37-9c7fa6bc8848>\u001b[0m in \u001b[0;36m<module>\u001b[0;34m()\u001b[0m\n\u001b[0;32m----> 1\u001b[0;31m \u001b[0mvariable_a\u001b[0m \u001b[0;34m+\u001b[0m \u001b[0mV_X\u001b[0m\u001b[0;34m\u001b[0m\u001b[0;34m\u001b[0m\u001b[0m\n\u001b[0m",
            "\u001b[0;31mTypeError\u001b[0m: unsupported operand type(s) for +: 'int' and 'str'"
          ]
        }
      ]
    },
    {
      "cell_type": "code",
      "metadata": {
        "colab": {
          "base_uri": "https://localhost:8080/",
          "height": 35
        },
        "id": "AcX4xfjm8zBr",
        "outputId": "d0fe7d8c-c839-482c-c5e0-55e68aa305a4"
      },
      "source": [
        "V_X #พิมพ์ชือตัวเเปรธรรมดา"
      ],
      "execution_count": 38,
      "outputs": [
        {
          "output_type": "execute_result",
          "data": {
            "application/vnd.google.colaboratory.intrinsic+json": {
              "type": "string"
            },
            "text/plain": [
              "'-29.200000000000003'"
            ]
          },
          "metadata": {
            "tags": []
          },
          "execution_count": 38
        }
      ]
    },
    {
      "cell_type": "code",
      "metadata": {
        "colab": {
          "base_uri": "https://localhost:8080/"
        },
        "id": "uGSvGM2B9AE9",
        "outputId": "bd0a6651-21dd-41f2-b594-951d2f8ff6ca"
      },
      "source": [
        "float (V_X)"
      ],
      "execution_count": 39,
      "outputs": [
        {
          "output_type": "execute_result",
          "data": {
            "text/plain": [
              "-29.200000000000003"
            ]
          },
          "metadata": {
            "tags": []
          },
          "execution_count": 39
        }
      ]
    },
    {
      "cell_type": "markdown",
      "metadata": {
        "id": "QANWBeWw9UPZ"
      },
      "source": [
        "# **Data Structure โครงสร้างของข้อมูล  เอาค่าเเต่ละตัวมาต่อกันได้ ทำให้ง่ายขึ้น\n",
        "\n",
        "#list()\n",
        "\n",
        "int , float , str มาต่อกันได้\n",
        "\n",
        "\n",
        "\n",
        "\n"
      ]
    },
    {
      "cell_type": "code",
      "metadata": {
        "id": "y0NHCGIZ9yym"
      },
      "source": [
        "list_a = [1,2,0.2,'abs']      #[]  คือ square brackets\n",
        "list_b = [2,'xyz',list_a,[1,2,0.0]]"
      ],
      "execution_count": 40,
      "outputs": []
    },
    {
      "cell_type": "code",
      "metadata": {
        "colab": {
          "base_uri": "https://localhost:8080/"
        },
        "id": "GAohgCf5-s5A",
        "outputId": "93e691e3-45fe-4147-f01c-5e67a60f048b"
      },
      "source": [
        "list_a"
      ],
      "execution_count": 41,
      "outputs": [
        {
          "output_type": "execute_result",
          "data": {
            "text/plain": [
              "[1, 2, 0.2, 'abs']"
            ]
          },
          "metadata": {
            "tags": []
          },
          "execution_count": 41
        }
      ]
    },
    {
      "cell_type": "code",
      "metadata": {
        "colab": {
          "base_uri": "https://localhost:8080/"
        },
        "id": "1awsdwg9-vHQ",
        "outputId": "d3ef82a6-1a5e-4e57-d5d3-fcc438287ec3"
      },
      "source": [
        "list_b"
      ],
      "execution_count": 42,
      "outputs": [
        {
          "output_type": "execute_result",
          "data": {
            "text/plain": [
              "[2, 'xyz', [1, 2, 0.2, 'abs'], [1, 2, 0.0]]"
            ]
          },
          "metadata": {
            "tags": []
          },
          "execution_count": 42
        }
      ]
    },
    {
      "cell_type": "code",
      "metadata": {
        "colab": {
          "base_uri": "https://localhost:8080/"
        },
        "id": "HD0BMJFW-5tE",
        "outputId": "44fa78f4-ed48-4751-e338-614c690f2add"
      },
      "source": [
        "len (list_b)"
      ],
      "execution_count": 43,
      "outputs": [
        {
          "output_type": "execute_result",
          "data": {
            "text/plain": [
              "4"
            ]
          },
          "metadata": {
            "tags": []
          },
          "execution_count": 43
        }
      ]
    },
    {
      "cell_type": "code",
      "metadata": {
        "colab": {
          "base_uri": "https://localhost:8080/"
        },
        "id": "ZOOc3JI1-9mo",
        "outputId": "4c185d65-a86d-42c8-daa7-4781e0c03d3c"
      },
      "source": [
        "list_b[3]"
      ],
      "execution_count": 44,
      "outputs": [
        {
          "output_type": "execute_result",
          "data": {
            "text/plain": [
              "[1, 2, 0.0]"
            ]
          },
          "metadata": {
            "tags": []
          },
          "execution_count": 44
        }
      ]
    },
    {
      "cell_type": "code",
      "metadata": {
        "colab": {
          "base_uri": "https://localhost:8080/"
        },
        "id": "UCrr4XHN_B2u",
        "outputId": "4cf1a3de-3b39-46dc-846a-4da20d44f0fe"
      },
      "source": [
        "list_b[3][1]"
      ],
      "execution_count": 45,
      "outputs": [
        {
          "output_type": "execute_result",
          "data": {
            "text/plain": [
              "2"
            ]
          },
          "metadata": {
            "tags": []
          },
          "execution_count": 45
        }
      ]
    },
    {
      "cell_type": "markdown",
      "metadata": {
        "id": "8j0p85EJ_V-o"
      },
      "source": [
        "# **stringg คือ list ของตัวหนังสือ**"
      ]
    },
    {
      "cell_type": "code",
      "metadata": {
        "id": "qdCq6D9n_dgu"
      },
      "source": [
        "a = 'stat KKU'   #เริ่มนับจาก 0"
      ],
      "execution_count": 46,
      "outputs": []
    },
    {
      "cell_type": "code",
      "metadata": {
        "colab": {
          "base_uri": "https://localhost:8080/",
          "height": 35
        },
        "id": "o11Moztz_igL",
        "outputId": "3a08f115-b650-4c6b-abaf-eb8ec12d04d6"
      },
      "source": [
        "a[4]"
      ],
      "execution_count": 47,
      "outputs": [
        {
          "output_type": "execute_result",
          "data": {
            "application/vnd.google.colaboratory.intrinsic+json": {
              "type": "string"
            },
            "text/plain": [
              "' '"
            ]
          },
          "metadata": {
            "tags": []
          },
          "execution_count": 47
        }
      ]
    },
    {
      "cell_type": "markdown",
      "metadata": {
        "id": "5sXQ5s-AADqt"
      },
      "source": [
        "\n",
        "# **วิธีสร้าง list ว่าง**\n"
      ]
    },
    {
      "cell_type": "code",
      "metadata": {
        "id": "7xwWLYR9AG3Z"
      },
      "source": [
        "list_c = list()  #แบบที่ 1\n",
        "list_d = []      #แบบที่ 2"
      ],
      "execution_count": 48,
      "outputs": []
    },
    {
      "cell_type": "code",
      "metadata": {
        "colab": {
          "base_uri": "https://localhost:8080/"
        },
        "id": "eWBZuuq_AZMB",
        "outputId": "de36a212-fff1-40d7-baee-7cfb90e352c5"
      },
      "source": [
        "list_c"
      ],
      "execution_count": 49,
      "outputs": [
        {
          "output_type": "execute_result",
          "data": {
            "text/plain": [
              "[]"
            ]
          },
          "metadata": {
            "tags": []
          },
          "execution_count": 49
        }
      ]
    },
    {
      "cell_type": "code",
      "metadata": {
        "colab": {
          "base_uri": "https://localhost:8080/"
        },
        "id": "ySaC8xvUAalI",
        "outputId": "2cdd3607-0fcb-4817-aece-26d03aecbda8"
      },
      "source": [
        "list_d"
      ],
      "execution_count": 50,
      "outputs": [
        {
          "output_type": "execute_result",
          "data": {
            "text/plain": [
              "[]"
            ]
          },
          "metadata": {
            "tags": []
          },
          "execution_count": 50
        }
      ]
    },
    {
      "cell_type": "markdown",
      "metadata": {
        "id": "71ZkDxxlA6WL"
      },
      "source": [
        "# **เติมค่าลงใน list ใช้ .append ()**\n",
        "\n",
        "## **การชี้ค่าใน list เรียกว่า indexing\n",
        "\n",
        "1. ใช้ลำดับในการชี้\n",
        "\n",
        "2. ลำดับดริ่มจาก 0\n",
        "\n",
        "3. สามารถชี้จากข้างหลัง โดยใช้ negative index"
      ]
    },
    {
      "cell_type": "code",
      "metadata": {
        "colab": {
          "base_uri": "https://localhost:8080/"
        },
        "id": "TLJH9MaRCJhh",
        "outputId": "d08133fd-b969-4d7a-c3da-ef8b2793927d"
      },
      "source": [
        "list_b[-1]"
      ],
      "execution_count": 51,
      "outputs": [
        {
          "output_type": "execute_result",
          "data": {
            "text/plain": [
              "[1, 2, 0.0]"
            ]
          },
          "metadata": {
            "tags": []
          },
          "execution_count": 51
        }
      ]
    },
    {
      "cell_type": "code",
      "metadata": {
        "id": "9ZMSnIMLAdtW"
      },
      "source": [
        "list_d.append( 'a')"
      ],
      "execution_count": 52,
      "outputs": []
    },
    {
      "cell_type": "code",
      "metadata": {
        "colab": {
          "base_uri": "https://localhost:8080/"
        },
        "id": "9TS_5mo6BNdT",
        "outputId": "74c9c772-d2d6-43e2-c718-7ed494da2fba"
      },
      "source": [
        "list_d"
      ],
      "execution_count": 53,
      "outputs": [
        {
          "output_type": "execute_result",
          "data": {
            "text/plain": [
              "['a']"
            ]
          },
          "metadata": {
            "tags": []
          },
          "execution_count": 53
        }
      ]
    },
    {
      "cell_type": "code",
      "metadata": {
        "id": "JLikI3YvBTU_"
      },
      "source": [
        "list_d.append(56)"
      ],
      "execution_count": 54,
      "outputs": []
    },
    {
      "cell_type": "code",
      "metadata": {
        "colab": {
          "base_uri": "https://localhost:8080/"
        },
        "id": "Ta8zxXXZBWW_",
        "outputId": "63cdabf2-32d0-4fbe-ac15-dda33b2981ea"
      },
      "source": [
        "list_d"
      ],
      "execution_count": 55,
      "outputs": [
        {
          "output_type": "execute_result",
          "data": {
            "text/plain": [
              "['a', 56]"
            ]
          },
          "metadata": {
            "tags": []
          },
          "execution_count": 55
        }
      ]
    },
    {
      "cell_type": "markdown",
      "metadata": {
        "id": "XbMiSHMcCiPT"
      },
      "source": [
        "## list slicing  คือ การตัด list เลือกบางส่วนของ list ออกมา"
      ]
    },
    {
      "cell_type": "code",
      "metadata": {
        "id": "1XyYcC26Cuvc"
      },
      "source": [
        "list_ex = [1,2,3,5,6,8,-1,20,50,0]   #เริ่มนับจาก 0 "
      ],
      "execution_count": 56,
      "outputs": []
    },
    {
      "cell_type": "code",
      "metadata": {
        "colab": {
          "base_uri": "https://localhost:8080/"
        },
        "id": "mOfoOflzC2qb",
        "outputId": "da2db1f4-6f0e-427a-f036-9532f0b5da54"
      },
      "source": [
        "list_ex[1:6]   #เอาตัวที่ 1 - 5\n",
        "                  #ตัด list ตั้งเเต่ [ตัวหน้า จนถึง ตัวก่อนตัวหลัง]"
      ],
      "execution_count": 57,
      "outputs": [
        {
          "output_type": "execute_result",
          "data": {
            "text/plain": [
              "[2, 3, 5, 6, 8]"
            ]
          },
          "metadata": {
            "tags": []
          },
          "execution_count": 57
        }
      ]
    },
    {
      "cell_type": "code",
      "metadata": {
        "colab": {
          "base_uri": "https://localhost:8080/"
        },
        "id": "H0GaLMszD1to",
        "outputId": "82d8a153-2a04-46b5-fbe4-e52e6dcb5bd8"
      },
      "source": [
        "list_ex[4:]  #เริ่มตั้งเเต่ตัวที่ 4 จนตัวสุดท้าย"
      ],
      "execution_count": 58,
      "outputs": [
        {
          "output_type": "execute_result",
          "data": {
            "text/plain": [
              "[6, 8, -1, 20, 50, 0]"
            ]
          },
          "metadata": {
            "tags": []
          },
          "execution_count": 58
        }
      ]
    },
    {
      "cell_type": "code",
      "metadata": {
        "colab": {
          "base_uri": "https://localhost:8080/"
        },
        "id": "Q5IoJVptEBst",
        "outputId": "4eeb64d7-5b69-4a5d-b73f-4469197c1427"
      },
      "source": [
        "list_ex[:6]   #เริ่มตัวเเรก ไปจนถึงตัวก่อนลำดับที่ 6"
      ],
      "execution_count": 59,
      "outputs": [
        {
          "output_type": "execute_result",
          "data": {
            "text/plain": [
              "[1, 2, 3, 5, 6, 8]"
            ]
          },
          "metadata": {
            "tags": []
          },
          "execution_count": 59
        }
      ]
    },
    {
      "cell_type": "markdown",
      "metadata": {
        "id": "dYzOIntkEpIR"
      },
      "source": [
        "## **จุดเริ่มต้น : จุดสุดท้าย : step**"
      ]
    },
    {
      "cell_type": "code",
      "metadata": {
        "colab": {
          "base_uri": "https://localhost:8080/"
        },
        "id": "d5dasS6BE6_4",
        "outputId": "7ff94115-35b2-4974-a59d-527e97116f6d"
      },
      "source": [
        "list_ex"
      ],
      "execution_count": 60,
      "outputs": [
        {
          "output_type": "execute_result",
          "data": {
            "text/plain": [
              "[1, 2, 3, 5, 6, 8, -1, 20, 50, 0]"
            ]
          },
          "metadata": {
            "tags": []
          },
          "execution_count": 60
        }
      ]
    },
    {
      "cell_type": "code",
      "metadata": {
        "colab": {
          "base_uri": "https://localhost:8080/"
        },
        "id": "7Sm-NSCgEY--",
        "outputId": "52ec2ed6-140c-46b5-b9a6-d1eb0437d7cb"
      },
      "source": [
        "list_ex[::2]"
      ],
      "execution_count": 61,
      "outputs": [
        {
          "output_type": "execute_result",
          "data": {
            "text/plain": [
              "[1, 3, 6, -1, 50]"
            ]
          },
          "metadata": {
            "tags": []
          },
          "execution_count": 61
        }
      ]
    },
    {
      "cell_type": "code",
      "metadata": {
        "colab": {
          "base_uri": "https://localhost:8080/"
        },
        "id": "v8Jh_8YEFGZ6",
        "outputId": "0495aa23-a35e-4ecc-f7f5-1fd62df62157"
      },
      "source": [
        "list_ex[::-1]    #กลับ list ตัวหลัง ไปอยู่ข้างหน้า  กลับ list ข้างหน้าไปอยู่หลัง"
      ],
      "execution_count": 62,
      "outputs": [
        {
          "output_type": "execute_result",
          "data": {
            "text/plain": [
              "[0, 50, 20, -1, 8, 6, 5, 3, 2, 1]"
            ]
          },
          "metadata": {
            "tags": []
          },
          "execution_count": 62
        }
      ]
    },
    {
      "cell_type": "code",
      "metadata": {
        "colab": {
          "base_uri": "https://localhost:8080/",
          "height": 35
        },
        "id": "v23daBhhFY0R",
        "outputId": "3662144e-56e1-4c8d-83cc-750912a4218b"
      },
      "source": [
        "a"
      ],
      "execution_count": 63,
      "outputs": [
        {
          "output_type": "execute_result",
          "data": {
            "application/vnd.google.colaboratory.intrinsic+json": {
              "type": "string"
            },
            "text/plain": [
              "'stat KKU'"
            ]
          },
          "metadata": {
            "tags": []
          },
          "execution_count": 63
        }
      ]
    },
    {
      "cell_type": "code",
      "metadata": {
        "colab": {
          "base_uri": "https://localhost:8080/",
          "height": 35
        },
        "id": "dSSkXa9FFbTV",
        "outputId": "fb56cf10-6fee-4dde-fffe-e23e8eb42cd1"
      },
      "source": [
        "a[5:]"
      ],
      "execution_count": 64,
      "outputs": [
        {
          "output_type": "execute_result",
          "data": {
            "application/vnd.google.colaboratory.intrinsic+json": {
              "type": "string"
            },
            "text/plain": [
              "'KKU'"
            ]
          },
          "metadata": {
            "tags": []
          },
          "execution_count": 64
        }
      ]
    },
    {
      "cell_type": "code",
      "metadata": {
        "colab": {
          "base_uri": "https://localhost:8080/",
          "height": 35
        },
        "id": "DfkY9h_0GN-l",
        "outputId": "a7585d6d-223f-4884-af03-6bd921914971"
      },
      "source": [
        "a[-3:]"
      ],
      "execution_count": 65,
      "outputs": [
        {
          "output_type": "execute_result",
          "data": {
            "application/vnd.google.colaboratory.intrinsic+json": {
              "type": "string"
            },
            "text/plain": [
              "'KKU'"
            ]
          },
          "metadata": {
            "tags": []
          },
          "execution_count": 65
        }
      ]
    },
    {
      "cell_type": "code",
      "metadata": {
        "colab": {
          "base_uri": "https://localhost:8080/",
          "height": 35
        },
        "id": "z-RP-YFvGVp4",
        "outputId": "f2e3720e-b2a7-440c-eca6-3d8f0588bab9"
      },
      "source": [
        "a[5:8]"
      ],
      "execution_count": 66,
      "outputs": [
        {
          "output_type": "execute_result",
          "data": {
            "application/vnd.google.colaboratory.intrinsic+json": {
              "type": "string"
            },
            "text/plain": [
              "'KKU'"
            ]
          },
          "metadata": {
            "tags": []
          },
          "execution_count": 66
        }
      ]
    },
    {
      "cell_type": "code",
      "metadata": {
        "colab": {
          "base_uri": "https://localhost:8080/",
          "height": 35
        },
        "id": "Or5CPeUwGgmp",
        "outputId": "9a7ffbd8-4e48-4a1b-d8e2-786d0847b6b9"
      },
      "source": [
        "a[5::]"
      ],
      "execution_count": 67,
      "outputs": [
        {
          "output_type": "execute_result",
          "data": {
            "application/vnd.google.colaboratory.intrinsic+json": {
              "type": "string"
            },
            "text/plain": [
              "'KKU'"
            ]
          },
          "metadata": {
            "tags": []
          },
          "execution_count": 67
        }
      ]
    },
    {
      "cell_type": "code",
      "metadata": {
        "colab": {
          "base_uri": "https://localhost:8080/",
          "height": 35
        },
        "id": "2L_WdoKvG9eW",
        "outputId": "33dddb4d-5b1b-444e-e51a-878724cd2a06"
      },
      "source": [
        "a[-3::1]"
      ],
      "execution_count": 68,
      "outputs": [
        {
          "output_type": "execute_result",
          "data": {
            "application/vnd.google.colaboratory.intrinsic+json": {
              "type": "string"
            },
            "text/plain": [
              "'KKU'"
            ]
          },
          "metadata": {
            "tags": []
          },
          "execution_count": 68
        }
      ]
    },
    {
      "cell_type": "markdown",
      "metadata": {
        "id": "LUIYm9fUHKPx"
      },
      "source": [
        "# **list + list**"
      ]
    },
    {
      "cell_type": "code",
      "metadata": {
        "colab": {
          "base_uri": "https://localhost:8080/"
        },
        "id": "yoFoyNAHHOqP",
        "outputId": "ffda1cbb-810a-4342-a2f8-e9a16dc3ca4c"
      },
      "source": [
        "print(list_a)\n",
        "print(list_b)"
      ],
      "execution_count": 69,
      "outputs": [
        {
          "output_type": "stream",
          "text": [
            "[1, 2, 0.2, 'abs']\n",
            "[2, 'xyz', [1, 2, 0.2, 'abs'], [1, 2, 0.0]]\n"
          ],
          "name": "stdout"
        }
      ]
    },
    {
      "cell_type": "code",
      "metadata": {
        "colab": {
          "base_uri": "https://localhost:8080/"
        },
        "id": "xn_EWxbmHjGH",
        "outputId": "20f659e5-9359-4fcf-8231-dd7ffe7c3622"
      },
      "source": [
        "list_a + list_b  #เอา list มาบวกกันได้"
      ],
      "execution_count": 70,
      "outputs": [
        {
          "output_type": "execute_result",
          "data": {
            "text/plain": [
              "[1, 2, 0.2, 'abs', 2, 'xyz', [1, 2, 0.2, 'abs'], [1, 2, 0.0]]"
            ]
          },
          "metadata": {
            "tags": []
          },
          "execution_count": 70
        }
      ]
    },
    {
      "cell_type": "markdown",
      "metadata": {
        "id": "5Y2h9UffLtYz"
      },
      "source": [
        "**## format string  การจัดเรียงให้สวยงาม**"
      ]
    },
    {
      "cell_type": "code",
      "metadata": {
        "colab": {
          "base_uri": "https://localhost:8080/",
          "height": 35
        },
        "id": "yIhnZrZXL2Kn",
        "outputId": "dfc55a37-8843-4d58-90c0-fe886c5d7079"
      },
      "source": [
        "f' ตัวเเปร list_a มีค่าคือ {list_a} '"
      ],
      "execution_count": 71,
      "outputs": [
        {
          "output_type": "execute_result",
          "data": {
            "application/vnd.google.colaboratory.intrinsic+json": {
              "type": "string"
            },
            "text/plain": [
              "\" ตัวเเปร list_a มีค่าคือ [1, 2, 0.2, 'abs'] \""
            ]
          },
          "metadata": {
            "tags": []
          },
          "execution_count": 71
        }
      ]
    },
    {
      "cell_type": "markdown",
      "metadata": {
        "id": "xVBRaN0IH5E_"
      },
      "source": [
        "# Loop  การวนซ้ำ ทำอะไรซ้ำๆ\n",
        "\n",
        "for  ตัวแปรที่จะรับค่าจาก list  in  list ที่นำมาวนลูป :\n",
        "\n",
        "      do someting\n"
      ]
    },
    {
      "cell_type": "code",
      "metadata": {
        "colab": {
          "base_uri": "https://localhost:8080/"
        },
        "id": "l_ZmIGI9IKW2",
        "outputId": "18fea5d6-2384-4567-9c8a-29f5e26662eb"
      },
      "source": [
        "for i in [1,2,3,4,5] : #ดึงค่าจาก list ไปใส่ i  เเล้วเอา i ไปทำอะไรก็ได้\n",
        "  print(i)\n"
      ],
      "execution_count": 72,
      "outputs": [
        {
          "output_type": "stream",
          "text": [
            "1\n",
            "2\n",
            "3\n",
            "4\n",
            "5\n"
          ],
          "name": "stdout"
        }
      ]
    },
    {
      "cell_type": "code",
      "metadata": {
        "colab": {
          "base_uri": "https://localhost:8080/"
        },
        "id": "jCSrVivBKvNW",
        "outputId": "07080f24-5d3b-4e4b-a2e7-b079070b4f89"
      },
      "source": [
        "  for i in [1,2,3,4,5] :\n",
        "    print(i+1)"
      ],
      "execution_count": 73,
      "outputs": [
        {
          "output_type": "stream",
          "text": [
            "2\n",
            "3\n",
            "4\n",
            "5\n",
            "6\n"
          ],
          "name": "stdout"
        }
      ]
    },
    {
      "cell_type": "code",
      "metadata": {
        "colab": {
          "base_uri": "https://localhost:8080/"
        },
        "id": "tnnKzf4lM3e2",
        "outputId": "7c3d0095-52c1-4b65-ac21-267a094a37b1"
      },
      "source": [
        "for x in [1,2,3,4,5] :\n",
        "  print(f'ค่าตัวแปร x คือ {x} และ x+2 =  {x+2}')"
      ],
      "execution_count": 74,
      "outputs": [
        {
          "output_type": "stream",
          "text": [
            "ค่าตัวแปร x คือ 1 และ x+2 =  3\n",
            "ค่าตัวแปร x คือ 2 และ x+2 =  4\n",
            "ค่าตัวแปร x คือ 3 และ x+2 =  5\n",
            "ค่าตัวแปร x คือ 4 และ x+2 =  6\n",
            "ค่าตัวแปร x คือ 5 และ x+2 =  7\n"
          ],
          "name": "stdout"
        }
      ]
    },
    {
      "cell_type": "code",
      "metadata": {
        "colab": {
          "base_uri": "https://localhost:8080/"
        },
        "id": "3X4FqYkONY-B",
        "outputId": "a20bf75d-076e-47fb-b80e-38a4ee7c7588"
      },
      "source": [
        "list5 = [1,2,3,4,5] \n",
        "for x in list5 :\n",
        "  print(f'ค่าตัวแปร x คือ {x} และ x+2 =  {x+2}')"
      ],
      "execution_count": 75,
      "outputs": [
        {
          "output_type": "stream",
          "text": [
            "ค่าตัวแปร x คือ 1 และ x+2 =  3\n",
            "ค่าตัวแปร x คือ 2 และ x+2 =  4\n",
            "ค่าตัวแปร x คือ 3 และ x+2 =  5\n",
            "ค่าตัวแปร x คือ 4 และ x+2 =  6\n",
            "ค่าตัวแปร x คือ 5 และ x+2 =  7\n"
          ],
          "name": "stdout"
        }
      ]
    },
    {
      "cell_type": "code",
      "metadata": {
        "colab": {
          "base_uri": "https://localhost:8080/"
        },
        "id": "ptGGCZmCN03u",
        "outputId": "48a262c7-49b2-4ec1-d191-a9d4f0f58660"
      },
      "source": [
        "list (range(10))"
      ],
      "execution_count": 76,
      "outputs": [
        {
          "output_type": "execute_result",
          "data": {
            "text/plain": [
              "[0, 1, 2, 3, 4, 5, 6, 7, 8, 9]"
            ]
          },
          "metadata": {
            "tags": []
          },
          "execution_count": 76
        }
      ]
    },
    {
      "cell_type": "code",
      "metadata": {
        "colab": {
          "base_uri": "https://localhost:8080/"
        },
        "id": "fJMhhMJ8N6fD",
        "outputId": "359a24d0-f4ea-4eb3-fc24-ed413072f179"
      },
      "source": [
        "for i in range (2,7) :\n",
        "  print (i)"
      ],
      "execution_count": 77,
      "outputs": [
        {
          "output_type": "stream",
          "text": [
            "2\n",
            "3\n",
            "4\n",
            "5\n",
            "6\n"
          ],
          "name": "stdout"
        }
      ]
    },
    {
      "cell_type": "code",
      "metadata": {
        "colab": {
          "base_uri": "https://localhost:8080/"
        },
        "id": "i8MLibGoOYnS",
        "outputId": "263193fd-2035-49e4-89b8-7e9b7e346d49"
      },
      "source": [
        "for i in range (2,7,2) :\n",
        "  print (i)"
      ],
      "execution_count": 78,
      "outputs": [
        {
          "output_type": "stream",
          "text": [
            "2\n",
            "4\n",
            "6\n"
          ],
          "name": "stdout"
        }
      ]
    },
    {
      "cell_type": "code",
      "metadata": {
        "colab": {
          "base_uri": "https://localhost:8080/"
        },
        "id": "EXw8Vn2sOuod",
        "outputId": "bd5c80d7-d402-42e2-cb00-ec9beac67a98"
      },
      "source": [
        "for i in range (5) :\n",
        "   print  ('hahaha')\n",
        "   x = i + 3\n",
        "   print (f' i = {i}  x = {x}')"
      ],
      "execution_count": 79,
      "outputs": [
        {
          "output_type": "stream",
          "text": [
            "hahaha\n",
            " i = 0  x = 3\n",
            "hahaha\n",
            " i = 1  x = 4\n",
            "hahaha\n",
            " i = 2  x = 5\n",
            "hahaha\n",
            " i = 3  x = 6\n",
            "hahaha\n",
            " i = 4  x = 7\n"
          ],
          "name": "stdout"
        }
      ]
    },
    {
      "cell_type": "markdown",
      "metadata": {
        "id": "2j30VYWsEi8k"
      },
      "source": [
        "# **Nested loop**"
      ]
    },
    {
      "cell_type": "code",
      "metadata": {
        "id": "SoxBt1GcEnVr",
        "outputId": "5758e68a-fefe-42ff-c293-04603f6e7d0a",
        "colab": {
          "base_uri": "https://localhost:8080/"
        }
      },
      "source": [
        "for i in range(3):\n",
        "    print(f'now i = {i}')\n",
        "    print('start j loop')\n",
        "    for j in range(4):\n",
        "        print(f'i = {i} j = {j} i+j = {i+j}')\n",
        "    print('end j loop')"
      ],
      "execution_count": 80,
      "outputs": [
        {
          "output_type": "stream",
          "text": [
            "now i = 0\n",
            "start j loop\n",
            "i = 0 j = 0 i+j = 0\n",
            "i = 0 j = 1 i+j = 1\n",
            "i = 0 j = 2 i+j = 2\n",
            "i = 0 j = 3 i+j = 3\n",
            "end j loop\n",
            "now i = 1\n",
            "start j loop\n",
            "i = 1 j = 0 i+j = 1\n",
            "i = 1 j = 1 i+j = 2\n",
            "i = 1 j = 2 i+j = 3\n",
            "i = 1 j = 3 i+j = 4\n",
            "end j loop\n",
            "now i = 2\n",
            "start j loop\n",
            "i = 2 j = 0 i+j = 2\n",
            "i = 2 j = 1 i+j = 3\n",
            "i = 2 j = 2 i+j = 4\n",
            "i = 2 j = 3 i+j = 5\n",
            "end j loop\n"
          ],
          "name": "stdout"
        }
      ]
    },
    {
      "cell_type": "markdown",
      "metadata": {
        "id": "XF-74v4ZKVFr"
      },
      "source": [
        "## Condition\n",
        "\n",
        "## Function"
      ]
    }
  ]
}