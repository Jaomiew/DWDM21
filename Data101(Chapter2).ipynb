{
  "nbformat": 4,
  "nbformat_minor": 0,
  "metadata": {
    "colab": {
      "name": "Data101(Chapter2).ipynb",
      "provenance": [],
      "authorship_tag": "ABX9TyNHVe55CmFt8FeMkUpiBGpj",
      "include_colab_link": true
    },
    "kernelspec": {
      "name": "python3",
      "display_name": "Python 3"
    },
    "language_info": {
      "name": "python"
    }
  },
  "cells": [
    {
      "cell_type": "markdown",
      "metadata": {
        "id": "view-in-github",
        "colab_type": "text"
      },
      "source": [
        "<a href=\"https://colab.research.google.com/github/Jaomiew/DWDM21/blob/main/Data101(Chapter2).ipynb\" target=\"_parent\"><img src=\"https://colab.research.google.com/assets/colab-badge.svg\" alt=\"Open In Colab\"/></a>"
      ]
    },
    {
      "cell_type": "markdown",
      "metadata": {
        "id": "CMHH9kwouXqB"
      },
      "source": [
        "## **ข้อความที่อยู่ใน textbox จะเป็น ภาษา markdown**\n",
        "\n",
        "## **ข้อดีหนึ่งของ Python คือมี package สำหรับทำงานต่างๆมากมาย**\n",
        "\n",
        "## **ซึ่ง pandas เป็น package สำหรับการทำงานกับข้อมูลที่อยู่ในรูปแบบตาราง**\n",
        "\n",
        "## **โดย pandas จะเรียกตารางนั้นว่า dataframe**"
      ]
    },
    {
      "cell_type": "markdown",
      "metadata": {
        "id": "oXEBzBGBtZrS"
      },
      "source": [
        "# **package ที่ใช้ในการจัดการข้อมูล**\n",
        "\n",
        "## **1. pandas**\n"
      ]
    },
    {
      "cell_type": "code",
      "metadata": {
        "id": "9JEC5_UXsO9C"
      },
      "source": [
        "  import pandas #วิธีเรียกใช้ package คือ import ตามด้วยชื่อ package \n",
        "                       #คือการ import แบบธรรมดา\n"
      ],
      "execution_count": null,
      "outputs": []
    },
    {
      "cell_type": "code",
      "metadata": {
        "id": "ZXx1OzQjtihP"
      },
      "source": [
        "import  pandas as pd  #เหมือนกับข้างต้นเเต่เเค่ตั้งชื่อให้ package ที่โหลดมาว่า pd ซึ่งทำให้เวลาพิ์มสั้นกว่าคำว่า pandas"
      ],
      "execution_count": null,
      "outputs": []
    },
    {
      "cell_type": "markdown",
      "metadata": {
        "id": "VkAxuogRvTDd"
      },
      "source": [
        "## ไฟล์ที่จะเจอคือ\n",
        "\n",
        "1. .csv (CSV = comma separated values) เป็นไฟล์หลังที่จะใช้ในวิชานี้\n",
        "เก็บข้อมูลตาราง ใช้งานง่ายๆ"
      ]
    },
    {
      "cell_type": "code",
      "metadata": {
        "id": "ukP09fkavzq0"
      },
      "source": [
        "data_df = pd.read_csv('data.csv') #ใช้ data ชื่อ pd\n"
      ],
      "execution_count": 42,
      "outputs": []
    },
    {
      "cell_type": "code",
      "metadata": {
        "colab": {
          "base_uri": "https://localhost:8080/",
          "height": 136
        },
        "id": "MwsjPNgdx1eI",
        "outputId": "a03ae116-815b-4efc-e27b-451725da2251"
      },
      "source": [
        "data_df "
      ],
      "execution_count": 43,
      "outputs": [
        {
          "output_type": "execute_result",
          "data": {
            "text/html": [
              "<div>\n",
              "<style scoped>\n",
              "    .dataframe tbody tr th:only-of-type {\n",
              "        vertical-align: middle;\n",
              "    }\n",
              "\n",
              "    .dataframe tbody tr th {\n",
              "        vertical-align: top;\n",
              "    }\n",
              "\n",
              "    .dataframe thead th {\n",
              "        text-align: right;\n",
              "    }\n",
              "</style>\n",
              "<table border=\"1\" class=\"dataframe\">\n",
              "  <thead>\n",
              "    <tr style=\"text-align: right;\">\n",
              "      <th></th>\n",
              "      <th>name</th>\n",
              "      <th>age</th>\n",
              "      <th>city</th>\n",
              "    </tr>\n",
              "  </thead>\n",
              "  <tbody>\n",
              "    <tr>\n",
              "      <th>0</th>\n",
              "      <td>tom</td>\n",
              "      <td>27</td>\n",
              "      <td>Khon Kaen</td>\n",
              "    </tr>\n",
              "    <tr>\n",
              "      <th>1</th>\n",
              "      <td>Paul</td>\n",
              "      <td>15</td>\n",
              "      <td>Bangkok</td>\n",
              "    </tr>\n",
              "    <tr>\n",
              "      <th>2</th>\n",
              "      <td>Sarah</td>\n",
              "      <td>49</td>\n",
              "      <td>London</td>\n",
              "    </tr>\n",
              "  </tbody>\n",
              "</table>\n",
              "</div>"
            ],
            "text/plain": [
              "    name  age       city\n",
              "0    tom   27  Khon Kaen\n",
              "1   Paul   15    Bangkok\n",
              "2  Sarah   49     London"
            ]
          },
          "metadata": {
            "tags": []
          },
          "execution_count": 43
        }
      ]
    },
    {
      "cell_type": "code",
      "metadata": {
        "colab": {
          "base_uri": "https://localhost:8080/",
          "height": 136
        },
        "id": "R-o3wrMNyf04",
        "outputId": "28e96c95-2b5e-491a-d83b-b2f865e0c118"
      },
      "source": [
        "data_df2 = pandas.read_csv('data.csv') #ใช้ data ชื่อ pandas คนละชื่อกันกับข้างบน\n",
        "data_df2"
      ],
      "execution_count": 44,
      "outputs": [
        {
          "output_type": "execute_result",
          "data": {
            "text/html": [
              "<div>\n",
              "<style scoped>\n",
              "    .dataframe tbody tr th:only-of-type {\n",
              "        vertical-align: middle;\n",
              "    }\n",
              "\n",
              "    .dataframe tbody tr th {\n",
              "        vertical-align: top;\n",
              "    }\n",
              "\n",
              "    .dataframe thead th {\n",
              "        text-align: right;\n",
              "    }\n",
              "</style>\n",
              "<table border=\"1\" class=\"dataframe\">\n",
              "  <thead>\n",
              "    <tr style=\"text-align: right;\">\n",
              "      <th></th>\n",
              "      <th>name</th>\n",
              "      <th>age</th>\n",
              "      <th>city</th>\n",
              "    </tr>\n",
              "  </thead>\n",
              "  <tbody>\n",
              "    <tr>\n",
              "      <th>0</th>\n",
              "      <td>tom</td>\n",
              "      <td>27</td>\n",
              "      <td>Khon Kaen</td>\n",
              "    </tr>\n",
              "    <tr>\n",
              "      <th>1</th>\n",
              "      <td>Paul</td>\n",
              "      <td>15</td>\n",
              "      <td>Bangkok</td>\n",
              "    </tr>\n",
              "    <tr>\n",
              "      <th>2</th>\n",
              "      <td>Sarah</td>\n",
              "      <td>49</td>\n",
              "      <td>London</td>\n",
              "    </tr>\n",
              "  </tbody>\n",
              "</table>\n",
              "</div>"
            ],
            "text/plain": [
              "    name  age       city\n",
              "0    tom   27  Khon Kaen\n",
              "1   Paul   15    Bangkok\n",
              "2  Sarah   49     London"
            ]
          },
          "metadata": {
            "tags": []
          },
          "execution_count": 44
        }
      ]
    },
    {
      "cell_type": "markdown",
      "metadata": {
        "id": "VHlMwHxwy_pj"
      },
      "source": [
        "# **Basic Python**\n",
        "## variables ตัวแปร คือ กล่องที่เอาไว้ใส่ข้อมูล\n",
        "\n",
        "## **ข้อกำหนดในการตั้งชื่อตัวแปร**\n",
        "\n",
        "1. ชื่อห้ามมีเว้นวรรค\n",
        "\n",
        "2. (พยายาม)ใช้ภาษาอังกฤษ\n",
        "\n",
        "3. ตัวเล็กกับตัวใหญ่ แตกต่างกัน (case sensitive)\n",
        "\n",
        "4. ห้ามใช้ตัวเลขเป็นตัวหน้า"
      ]
    },
    {
      "cell_type": "code",
      "metadata": {
        "id": "nA0pOXHdy7Zy"
      },
      "source": [
        "variable_a = 12              #12 ไม่มี quote คือเป็นตัวเลข 12    #variable_a คือช่องกล่อง\n",
        "variable_b = ' abcde '     # 'เรียกว่า ' ' quote' เป็นตัวหนังสือ\n",
        "variable_c = variable_a "
      ],
      "execution_count": 8,
      "outputs": []
    },
    {
      "cell_type": "code",
      "metadata": {
        "colab": {
          "base_uri": "https://localhost:8080/"
        },
        "id": "imqsMjVv1rOC",
        "outputId": "3195ff3b-fcf8-4d86-8a99-a44470261996"
      },
      "source": [
        "variable_a"
      ],
      "execution_count": 9,
      "outputs": [
        {
          "output_type": "execute_result",
          "data": {
            "text/plain": [
              "12"
            ]
          },
          "metadata": {
            "tags": []
          },
          "execution_count": 9
        }
      ]
    },
    {
      "cell_type": "code",
      "metadata": {
        "colab": {
          "base_uri": "https://localhost:8080/",
          "height": 35
        },
        "id": "XJaSpWjR1u4f",
        "outputId": "0720ec40-93ad-45db-d0e6-f8fbc223a629"
      },
      "source": [
        "variable_b"
      ],
      "execution_count": 10,
      "outputs": [
        {
          "output_type": "execute_result",
          "data": {
            "application/vnd.google.colaboratory.intrinsic+json": {
              "type": "string"
            },
            "text/plain": [
              "' abcde '"
            ]
          },
          "metadata": {
            "tags": []
          },
          "execution_count": 10
        }
      ]
    },
    {
      "cell_type": "code",
      "metadata": {
        "colab": {
          "base_uri": "https://localhost:8080/"
        },
        "id": "o6mxjNAm1x8s",
        "outputId": "6111bcfa-d878-46ef-84b5-a03583c46306"
      },
      "source": [
        "variable_c"
      ],
      "execution_count": 11,
      "outputs": [
        {
          "output_type": "execute_result",
          "data": {
            "text/plain": [
              "12"
            ]
          },
          "metadata": {
            "tags": []
          },
          "execution_count": 11
        }
      ]
    },
    {
      "cell_type": "markdown",
      "metadata": {
        "id": "lsMlZnRD_i8K"
      },
      "source": [
        "# **ชื่อห้ามมีเว้นวรรค**"
      ]
    },
    {
      "cell_type": "code",
      "metadata": {
        "id": "H0nVPg1S-hII",
        "colab": {
          "base_uri": "https://localhost:8080/",
          "height": 130
        },
        "outputId": "e94034e7-f665-4b07-c458-4c93a7c801e3"
      },
      "source": [
        "\n",
        "variable a = 6"
      ],
      "execution_count": 45,
      "outputs": [
        {
          "output_type": "error",
          "ename": "SyntaxError",
          "evalue": "ignored",
          "traceback": [
            "\u001b[0;36m  File \u001b[0;32m\"<ipython-input-45-930be69a0377>\"\u001b[0;36m, line \u001b[0;32m2\u001b[0m\n\u001b[0;31m    variable a = 6\u001b[0m\n\u001b[0m             ^\u001b[0m\n\u001b[0;31mSyntaxError\u001b[0m\u001b[0;31m:\u001b[0m invalid syntax\n"
          ]
        }
      ]
    },
    {
      "cell_type": "markdown",
      "metadata": {
        "id": "NFmCDlhV_oC4"
      },
      "source": [
        "# **(พยายาม)ใช้ภาษาอังกฤษ**\n",
        "\n",
        "## colab ใช้ภาษาไทยเป็นชื่อตัวแปรได้ แต่ไม่ควรใช้"
      ]
    },
    {
      "cell_type": "code",
      "metadata": {
        "id": "6pe1vz1g-oaX",
        "colab": {
          "base_uri": "https://localhost:8080/"
        },
        "outputId": "78ab9642-57b4-4faf-ae75-03f924d17e74"
      },
      "source": [
        "\n",
        "ตัวแปร = 3\n",
        "ตัวแปร"
      ],
      "execution_count": 46,
      "outputs": [
        {
          "output_type": "execute_result",
          "data": {
            "text/plain": [
              "3"
            ]
          },
          "metadata": {
            "tags": []
          },
          "execution_count": 46
        }
      ]
    },
    {
      "cell_type": "markdown",
      "metadata": {
        "id": "BZ07OYwk_ban"
      },
      "source": [
        "# **ตัวเล็กกับตัวใหญ่ แตกต่างกัน (case sensitive)**"
      ]
    },
    {
      "cell_type": "code",
      "metadata": {
        "id": "39XHaJWq-sJV",
        "colab": {
          "base_uri": "https://localhost:8080/"
        },
        "outputId": "b09a8efe-7c52-4c06-82fd-b8f57089c553"
      },
      "source": [
        "\n",
        "v_a = 1\n",
        "V_a = 2\n",
        "print(v_a)\n",
        "print(V_a)"
      ],
      "execution_count": 12,
      "outputs": [
        {
          "output_type": "stream",
          "text": [
            "1\n",
            "2\n"
          ],
          "name": "stdout"
        }
      ]
    },
    {
      "cell_type": "code",
      "metadata": {
        "id": "sVGb_SML--h8",
        "colab": {
          "base_uri": "https://localhost:8080/"
        },
        "outputId": "fa780836-a195-42cd-c4b8-91e076daf3ea"
      },
      "source": [
        "v_a = 1\n",
        "v_a = 2\n",
        "print(v_a)\n",
        "print(v_a)"
      ],
      "execution_count": 47,
      "outputs": [
        {
          "output_type": "stream",
          "text": [
            "2\n",
            "2\n"
          ],
          "name": "stdout"
        }
      ]
    },
    {
      "cell_type": "markdown",
      "metadata": {
        "id": "np5xpDoX_Q88"
      },
      "source": [
        "# **ห้ามใช้ตัวเลขเป็นตัวหน้า**"
      ]
    },
    {
      "cell_type": "code",
      "metadata": {
        "id": "XEXUjDFQ_LFA",
        "colab": {
          "base_uri": "https://localhost:8080/",
          "height": 130
        },
        "outputId": "dd2e4816-c68c-42bf-d76e-c5e24e49ed0d"
      },
      "source": [
        "\n",
        "2 = 1"
      ],
      "execution_count": 14,
      "outputs": [
        {
          "output_type": "error",
          "ename": "SyntaxError",
          "evalue": "ignored",
          "traceback": [
            "\u001b[0;36m  File \u001b[0;32m\"<ipython-input-14-019dec745c8e>\"\u001b[0;36m, line \u001b[0;32m2\u001b[0m\n\u001b[0;31m    2 = 1\u001b[0m\n\u001b[0m         ^\u001b[0m\n\u001b[0;31mSyntaxError\u001b[0m\u001b[0;31m:\u001b[0m can't assign to literal\n"
          ]
        }
      ]
    },
    {
      "cell_type": "code",
      "metadata": {
        "id": "3LCNcXhW_PGw",
        "colab": {
          "base_uri": "https://localhost:8080/",
          "height": 130
        },
        "outputId": "dca95bef-885c-4860-8725-dcb4eaff04a6"
      },
      "source": [
        "\n",
        "2ab = 1"
      ],
      "execution_count": 15,
      "outputs": [
        {
          "output_type": "error",
          "ename": "SyntaxError",
          "evalue": "ignored",
          "traceback": [
            "\u001b[0;36m  File \u001b[0;32m\"<ipython-input-15-484e6c14e34b>\"\u001b[0;36m, line \u001b[0;32m2\u001b[0m\n\u001b[0;31m    2ab = 1\u001b[0m\n\u001b[0m      ^\u001b[0m\n\u001b[0;31mSyntaxError\u001b[0m\u001b[0;31m:\u001b[0m invalid syntax\n"
          ]
        }
      ]
    },
    {
      "cell_type": "code",
      "metadata": {
        "id": "bWW4WKV24fXx"
      },
      "source": [
        "variable_a = 12            \n",
        "variable_b = ' abcde '    \n",
        "variable_c = variable_a \n",
        "variable_d = -41.2\n",
        "variable_4 = \"KKU\" #ใช้ double quote \"\"  ก็ได้\n",
        "# สามารถ + - * / ได้  ตัวแปรชนิดเดียวกัน\n",
        "# ไม่สามารถใช้ตัวเลข + - * / กับตัวหนังสือได้"
      ],
      "execution_count": 16,
      "outputs": []
    },
    {
      "cell_type": "code",
      "metadata": {
        "colab": {
          "base_uri": "https://localhost:8080/"
        },
        "id": "k76YqaJh4-ZF",
        "outputId": "5cece503-183b-4e34-8d3e-131d4d7f4f74"
      },
      "source": [
        "variable_x = variable_c + variable_d\n",
        "print (variable_x)         #print ใช้แสดงค่า"
      ],
      "execution_count": 17,
      "outputs": [
        {
          "output_type": "stream",
          "text": [
            "-29.200000000000003\n"
          ],
          "name": "stdout"
        }
      ]
    },
    {
      "cell_type": "code",
      "metadata": {
        "id": "_JYYzhj7AjeY",
        "colab": {
          "base_uri": "https://localhost:8080/",
          "height": 163
        },
        "outputId": "e23a191d-145d-4b75-d187-8222b2cfc63c"
      },
      "source": [
        "variable_a + variable_b"
      ],
      "execution_count": 18,
      "outputs": [
        {
          "output_type": "error",
          "ename": "TypeError",
          "evalue": "ignored",
          "traceback": [
            "\u001b[0;31m---------------------------------------------------------------------------\u001b[0m",
            "\u001b[0;31mTypeError\u001b[0m                                 Traceback (most recent call last)",
            "\u001b[0;32m<ipython-input-18-ca279e5cd267>\u001b[0m in \u001b[0;36m<module>\u001b[0;34m()\u001b[0m\n\u001b[0;32m----> 1\u001b[0;31m \u001b[0mvariable_a\u001b[0m \u001b[0;34m+\u001b[0m \u001b[0mvariable_b\u001b[0m\u001b[0;34m\u001b[0m\u001b[0;34m\u001b[0m\u001b[0m\n\u001b[0m",
            "\u001b[0;31mTypeError\u001b[0m: unsupported operand type(s) for +: 'int' and 'str'"
          ]
        }
      ]
    },
    {
      "cell_type": "code",
      "metadata": {
        "colab": {
          "base_uri": "https://localhost:8080/"
        },
        "id": "MX8T_oQZ643L",
        "outputId": "d41e7d22-ca1b-4918-a4e4-4e5517730e85"
      },
      "source": [
        "print (variable_b + variable_4)  #ตัวแปรที่เป็นตัวหนังสือ + กับตัวหนังสือ"
      ],
      "execution_count": 19,
      "outputs": [
        {
          "output_type": "stream",
          "text": [
            " abcde KKU\n"
          ],
          "name": "stdout"
        }
      ]
    },
    {
      "cell_type": "markdown",
      "metadata": {
        "id": "A33bL6RO7iWy"
      },
      "source": [
        "# **Casting การเปลี่ยนชนิดของตัวเเปร**\n",
        "## **ing ()**\n",
        "\n",
        "## **float ()**\n",
        " \n",
        "## **str () เปลี่ยนตัวเลข ทศนิยมเป็น จน. จริง**"
      ]
    },
    {
      "cell_type": "code",
      "metadata": {
        "colab": {
          "base_uri": "https://localhost:8080/"
        },
        "id": "L2rlFLzE7TMV",
        "outputId": "03d0ca7f-3b77-4ef9-fd5d-82dc35b379b8"
      },
      "source": [
        "print (variable_x)\n",
        "print (int(variable_x))"
      ],
      "execution_count": 20,
      "outputs": [
        {
          "output_type": "stream",
          "text": [
            "-29.200000000000003\n",
            "-29\n"
          ],
          "name": "stdout"
        }
      ]
    },
    {
      "cell_type": "code",
      "metadata": {
        "colab": {
          "base_uri": "https://localhost:8080/"
        },
        "id": "dFO7X_I28AOp",
        "outputId": "652a3c04-658f-41fc-8612-8e5c3db49376"
      },
      "source": [
        "V_X = str (variable_x)\n",
        "print (V_X)"
      ],
      "execution_count": 21,
      "outputs": [
        {
          "output_type": "stream",
          "text": [
            "-29.200000000000003\n"
          ],
          "name": "stdout"
        }
      ]
    },
    {
      "cell_type": "code",
      "metadata": {
        "colab": {
          "base_uri": "https://localhost:8080/",
          "height": 163
        },
        "id": "pVKyOTat8bMZ",
        "outputId": "8a7ebd7a-295b-487a-960d-9b098724152b"
      },
      "source": [
        "V_X + variable_a"
      ],
      "execution_count": 22,
      "outputs": [
        {
          "output_type": "error",
          "ename": "TypeError",
          "evalue": "ignored",
          "traceback": [
            "\u001b[0;31m---------------------------------------------------------------------------\u001b[0m",
            "\u001b[0;31mTypeError\u001b[0m                                 Traceback (most recent call last)",
            "\u001b[0;32m<ipython-input-22-d83c0918f5c6>\u001b[0m in \u001b[0;36m<module>\u001b[0;34m()\u001b[0m\n\u001b[0;32m----> 1\u001b[0;31m \u001b[0mV_X\u001b[0m \u001b[0;34m+\u001b[0m \u001b[0mvariable_a\u001b[0m\u001b[0;34m\u001b[0m\u001b[0;34m\u001b[0m\u001b[0m\n\u001b[0m",
            "\u001b[0;31mTypeError\u001b[0m: can only concatenate str (not \"int\") to str"
          ]
        }
      ]
    },
    {
      "cell_type": "code",
      "metadata": {
        "colab": {
          "base_uri": "https://localhost:8080/",
          "height": 163
        },
        "id": "SvWcws8l8gGB",
        "outputId": "65f7cd5a-62b3-4e7b-fab7-a6ba424b648e"
      },
      "source": [
        "variable_a + V_X"
      ],
      "execution_count": 23,
      "outputs": [
        {
          "output_type": "error",
          "ename": "TypeError",
          "evalue": "ignored",
          "traceback": [
            "\u001b[0;31m---------------------------------------------------------------------------\u001b[0m",
            "\u001b[0;31mTypeError\u001b[0m                                 Traceback (most recent call last)",
            "\u001b[0;32m<ipython-input-23-9c7fa6bc8848>\u001b[0m in \u001b[0;36m<module>\u001b[0;34m()\u001b[0m\n\u001b[0;32m----> 1\u001b[0;31m \u001b[0mvariable_a\u001b[0m \u001b[0;34m+\u001b[0m \u001b[0mV_X\u001b[0m\u001b[0;34m\u001b[0m\u001b[0;34m\u001b[0m\u001b[0m\n\u001b[0m",
            "\u001b[0;31mTypeError\u001b[0m: unsupported operand type(s) for +: 'int' and 'str'"
          ]
        }
      ]
    },
    {
      "cell_type": "code",
      "metadata": {
        "colab": {
          "base_uri": "https://localhost:8080/",
          "height": 35
        },
        "id": "AcX4xfjm8zBr",
        "outputId": "24228f8e-5ce2-4cce-caa0-6d83404e0d30"
      },
      "source": [
        "V_X #พิมพ์ชือตัวเเปรธรรมดา"
      ],
      "execution_count": 24,
      "outputs": [
        {
          "output_type": "execute_result",
          "data": {
            "application/vnd.google.colaboratory.intrinsic+json": {
              "type": "string"
            },
            "text/plain": [
              "'-29.200000000000003'"
            ]
          },
          "metadata": {
            "tags": []
          },
          "execution_count": 24
        }
      ]
    },
    {
      "cell_type": "code",
      "metadata": {
        "colab": {
          "base_uri": "https://localhost:8080/"
        },
        "id": "uGSvGM2B9AE9",
        "outputId": "0fe0ca44-1d47-440b-b55e-0f735a667dff"
      },
      "source": [
        "float (V_X)"
      ],
      "execution_count": 26,
      "outputs": [
        {
          "output_type": "execute_result",
          "data": {
            "text/plain": [
              "-29.200000000000003"
            ]
          },
          "metadata": {
            "tags": []
          },
          "execution_count": 26
        }
      ]
    },
    {
      "cell_type": "markdown",
      "metadata": {
        "id": "QANWBeWw9UPZ"
      },
      "source": [
        "# **Data Structure โครงสร้างของข้อมูล  เอาค่าเเต่ละตัวมาต่อกันได้ ทำให้ง่ายขึ้น**\n",
        "\n",
        "#list()\n",
        "\n",
        "int , float , str มาต่อกันได้\n",
        "\n",
        "\n",
        "\n",
        "\n"
      ]
    },
    {
      "cell_type": "code",
      "metadata": {
        "id": "y0NHCGIZ9yym"
      },
      "source": [
        "list_a = [1,2,0.2,'abs']      #[]  คือ square brackets\n",
        "list_b = [2,'xyz',list_a,[1,2,0.0]]"
      ],
      "execution_count": 27,
      "outputs": []
    },
    {
      "cell_type": "code",
      "metadata": {
        "colab": {
          "base_uri": "https://localhost:8080/"
        },
        "id": "GAohgCf5-s5A",
        "outputId": "de47b6bd-56d7-4207-a8aa-599f62d06c84"
      },
      "source": [
        "list_a"
      ],
      "execution_count": 28,
      "outputs": [
        {
          "output_type": "execute_result",
          "data": {
            "text/plain": [
              "[1, 2, 0.2, 'abs']"
            ]
          },
          "metadata": {
            "tags": []
          },
          "execution_count": 28
        }
      ]
    },
    {
      "cell_type": "code",
      "metadata": {
        "colab": {
          "base_uri": "https://localhost:8080/"
        },
        "id": "1awsdwg9-vHQ",
        "outputId": "4011af96-4cd4-4386-fa02-c1ed2bd09c98"
      },
      "source": [
        "list_b"
      ],
      "execution_count": 29,
      "outputs": [
        {
          "output_type": "execute_result",
          "data": {
            "text/plain": [
              "[2, 'xyz', [1, 2, 0.2, 'abs'], [1, 2, 0.0]]"
            ]
          },
          "metadata": {
            "tags": []
          },
          "execution_count": 29
        }
      ]
    },
    {
      "cell_type": "code",
      "metadata": {
        "colab": {
          "base_uri": "https://localhost:8080/"
        },
        "id": "HD0BMJFW-5tE",
        "outputId": "92fb6438-f41d-48c8-fe90-93c4b76921bb"
      },
      "source": [
        "len (list_b)"
      ],
      "execution_count": 30,
      "outputs": [
        {
          "output_type": "execute_result",
          "data": {
            "text/plain": [
              "4"
            ]
          },
          "metadata": {
            "tags": []
          },
          "execution_count": 30
        }
      ]
    },
    {
      "cell_type": "code",
      "metadata": {
        "colab": {
          "base_uri": "https://localhost:8080/"
        },
        "id": "ZOOc3JI1-9mo",
        "outputId": "1e262d9e-307d-487d-816e-cddb0f7771dd"
      },
      "source": [
        "list_b[3]"
      ],
      "execution_count": 48,
      "outputs": [
        {
          "output_type": "execute_result",
          "data": {
            "text/plain": [
              "[1, 2, 0.0]"
            ]
          },
          "metadata": {
            "tags": []
          },
          "execution_count": 48
        }
      ]
    },
    {
      "cell_type": "code",
      "metadata": {
        "colab": {
          "base_uri": "https://localhost:8080/"
        },
        "id": "UCrr4XHN_B2u",
        "outputId": "a7ebcb41-439f-4ebf-dadc-ca13f5d83fea"
      },
      "source": [
        "list_b[3][1]"
      ],
      "execution_count": 49,
      "outputs": [
        {
          "output_type": "execute_result",
          "data": {
            "text/plain": [
              "2"
            ]
          },
          "metadata": {
            "tags": []
          },
          "execution_count": 49
        }
      ]
    },
    {
      "cell_type": "markdown",
      "metadata": {
        "id": "8j0p85EJ_V-o"
      },
      "source": [
        "# **stringg คือ list ของตัวหนังสือ**"
      ]
    },
    {
      "cell_type": "code",
      "metadata": {
        "id": "qdCq6D9n_dgu"
      },
      "source": [
        "a = 'stat KKU'   #เริ่มนับจาก 0"
      ],
      "execution_count": 50,
      "outputs": []
    },
    {
      "cell_type": "code",
      "metadata": {
        "colab": {
          "base_uri": "https://localhost:8080/",
          "height": 35
        },
        "id": "o11Moztz_igL",
        "outputId": "1f26cd7b-d663-4915-b621-66acedb1a43e"
      },
      "source": [
        "a[4]"
      ],
      "execution_count": 51,
      "outputs": [
        {
          "output_type": "execute_result",
          "data": {
            "application/vnd.google.colaboratory.intrinsic+json": {
              "type": "string"
            },
            "text/plain": [
              "' '"
            ]
          },
          "metadata": {
            "tags": []
          },
          "execution_count": 51
        }
      ]
    },
    {
      "cell_type": "markdown",
      "metadata": {
        "id": "5sXQ5s-AADqt"
      },
      "source": [
        "\n",
        "# **วิธีสร้าง list ว่าง**\n"
      ]
    },
    {
      "cell_type": "code",
      "metadata": {
        "id": "7xwWLYR9AG3Z"
      },
      "source": [
        "list_c = list()  #แบบที่ 1\n",
        "list_d = []      #แบบที่ 2"
      ],
      "execution_count": 52,
      "outputs": []
    },
    {
      "cell_type": "code",
      "metadata": {
        "colab": {
          "base_uri": "https://localhost:8080/"
        },
        "id": "eWBZuuq_AZMB",
        "outputId": "3c9ba72e-ac2f-43fa-bf56-db84ee904d76"
      },
      "source": [
        "list_c"
      ],
      "execution_count": 53,
      "outputs": [
        {
          "output_type": "execute_result",
          "data": {
            "text/plain": [
              "[]"
            ]
          },
          "metadata": {
            "tags": []
          },
          "execution_count": 53
        }
      ]
    },
    {
      "cell_type": "code",
      "metadata": {
        "colab": {
          "base_uri": "https://localhost:8080/"
        },
        "id": "ySaC8xvUAalI",
        "outputId": "ee06bc6b-3da7-4bb3-a0f9-a9c185d738e2"
      },
      "source": [
        "list_d"
      ],
      "execution_count": 54,
      "outputs": [
        {
          "output_type": "execute_result",
          "data": {
            "text/plain": [
              "[]"
            ]
          },
          "metadata": {
            "tags": []
          },
          "execution_count": 54
        }
      ]
    },
    {
      "cell_type": "markdown",
      "metadata": {
        "id": "71ZkDxxlA6WL"
      },
      "source": [
        "# **เติมค่าลงใน list ใช้ .append ()**\n",
        "\n",
        "## **การชี้ค่าใน list เรียกว่า indexing**\n",
        "\n",
        "1. ใช้ลำดับในการชี้\n",
        "\n",
        "2. ลำดับดริ่มจาก 0\n",
        "\n",
        "3. สามารถชี้จากข้างหลัง โดยใช้ negative index"
      ]
    },
    {
      "cell_type": "code",
      "metadata": {
        "colab": {
          "base_uri": "https://localhost:8080/"
        },
        "id": "TLJH9MaRCJhh",
        "outputId": "56728829-1fa0-488c-dd56-0fc74829b833"
      },
      "source": [
        "list_b[-1]"
      ],
      "execution_count": 55,
      "outputs": [
        {
          "output_type": "execute_result",
          "data": {
            "text/plain": [
              "[1, 2, 0.0]"
            ]
          },
          "metadata": {
            "tags": []
          },
          "execution_count": 55
        }
      ]
    },
    {
      "cell_type": "code",
      "metadata": {
        "id": "9ZMSnIMLAdtW"
      },
      "source": [
        "list_d.append( 'a')"
      ],
      "execution_count": 56,
      "outputs": []
    },
    {
      "cell_type": "code",
      "metadata": {
        "colab": {
          "base_uri": "https://localhost:8080/"
        },
        "id": "9TS_5mo6BNdT",
        "outputId": "e92b4ab9-286f-4d10-fe3e-d17bc2c1f82b"
      },
      "source": [
        "list_d"
      ],
      "execution_count": 57,
      "outputs": [
        {
          "output_type": "execute_result",
          "data": {
            "text/plain": [
              "['a']"
            ]
          },
          "metadata": {
            "tags": []
          },
          "execution_count": 57
        }
      ]
    },
    {
      "cell_type": "code",
      "metadata": {
        "id": "JLikI3YvBTU_"
      },
      "source": [
        "list_d.append(56)"
      ],
      "execution_count": null,
      "outputs": []
    },
    {
      "cell_type": "code",
      "metadata": {
        "colab": {
          "base_uri": "https://localhost:8080/"
        },
        "id": "Ta8zxXXZBWW_",
        "outputId": "5e131d54-bb7e-4b94-91ca-15b3101ddbfc"
      },
      "source": [
        "list_d"
      ],
      "execution_count": 58,
      "outputs": [
        {
          "output_type": "execute_result",
          "data": {
            "text/plain": [
              "['a']"
            ]
          },
          "metadata": {
            "tags": []
          },
          "execution_count": 58
        }
      ]
    },
    {
      "cell_type": "markdown",
      "metadata": {
        "id": "XbMiSHMcCiPT"
      },
      "source": [
        "## list slicing  คือ การตัด list เลือกบางส่วนของ list ออกมา"
      ]
    },
    {
      "cell_type": "code",
      "metadata": {
        "id": "1XyYcC26Cuvc"
      },
      "source": [
        "list_ex = [1,2,3,5,6,8,-1,20,50,0]   #เริ่มนับจาก 0 "
      ],
      "execution_count": 59,
      "outputs": []
    },
    {
      "cell_type": "code",
      "metadata": {
        "colab": {
          "base_uri": "https://localhost:8080/"
        },
        "id": "mOfoOflzC2qb",
        "outputId": "0f54d862-4ab1-4633-909b-e2851277352e"
      },
      "source": [
        "list_ex[1:6]   #เอาตัวที่ 1 - 5\n",
        "                  #ตัด list ตั้งเเต่ [ตัวหน้า จนถึง ตัวก่อนตัวหลัง]"
      ],
      "execution_count": 60,
      "outputs": [
        {
          "output_type": "execute_result",
          "data": {
            "text/plain": [
              "[2, 3, 5, 6, 8]"
            ]
          },
          "metadata": {
            "tags": []
          },
          "execution_count": 60
        }
      ]
    },
    {
      "cell_type": "code",
      "metadata": {
        "colab": {
          "base_uri": "https://localhost:8080/"
        },
        "id": "H0GaLMszD1to",
        "outputId": "1532aee9-8465-43d1-a763-4ecc158f040c"
      },
      "source": [
        "list_ex[4:]  #เริ่มตั้งเเต่ตัวที่ 4 จนตัวสุดท้าย"
      ],
      "execution_count": 61,
      "outputs": [
        {
          "output_type": "execute_result",
          "data": {
            "text/plain": [
              "[6, 8, -1, 20, 50, 0]"
            ]
          },
          "metadata": {
            "tags": []
          },
          "execution_count": 61
        }
      ]
    },
    {
      "cell_type": "code",
      "metadata": {
        "colab": {
          "base_uri": "https://localhost:8080/"
        },
        "id": "Q5IoJVptEBst",
        "outputId": "c7503f81-75b6-482f-da8e-07d6748f6def"
      },
      "source": [
        "list_ex[:6]   #เริ่มตัวเเรก ไปจนถึงตัวก่อนลำดับที่ 6"
      ],
      "execution_count": 62,
      "outputs": [
        {
          "output_type": "execute_result",
          "data": {
            "text/plain": [
              "[1, 2, 3, 5, 6, 8]"
            ]
          },
          "metadata": {
            "tags": []
          },
          "execution_count": 62
        }
      ]
    },
    {
      "cell_type": "markdown",
      "metadata": {
        "id": "dYzOIntkEpIR"
      },
      "source": [
        "## **จุดเริ่มต้น : จุดสุดท้าย : step**"
      ]
    },
    {
      "cell_type": "code",
      "metadata": {
        "colab": {
          "base_uri": "https://localhost:8080/"
        },
        "id": "d5dasS6BE6_4",
        "outputId": "977b020c-9d69-4b7a-b92c-1113958e3ddf"
      },
      "source": [
        "list_ex"
      ],
      "execution_count": 63,
      "outputs": [
        {
          "output_type": "execute_result",
          "data": {
            "text/plain": [
              "[1, 2, 3, 5, 6, 8, -1, 20, 50, 0]"
            ]
          },
          "metadata": {
            "tags": []
          },
          "execution_count": 63
        }
      ]
    },
    {
      "cell_type": "code",
      "metadata": {
        "colab": {
          "base_uri": "https://localhost:8080/"
        },
        "id": "7Sm-NSCgEY--",
        "outputId": "86b2a609-57bb-49ce-caef-98ded028c78a"
      },
      "source": [
        "list_ex[::2]"
      ],
      "execution_count": 64,
      "outputs": [
        {
          "output_type": "execute_result",
          "data": {
            "text/plain": [
              "[1, 3, 6, -1, 50]"
            ]
          },
          "metadata": {
            "tags": []
          },
          "execution_count": 64
        }
      ]
    },
    {
      "cell_type": "code",
      "metadata": {
        "colab": {
          "base_uri": "https://localhost:8080/"
        },
        "id": "v8Jh_8YEFGZ6",
        "outputId": "65ebb6bb-6212-4c4d-8623-1feb868a2c8a"
      },
      "source": [
        "list_ex[::-1]    #กลับ list ตัวหลัง ไปอยู่ข้างหน้า  กลับ list ข้างหน้าไปอยู่หลัง"
      ],
      "execution_count": 65,
      "outputs": [
        {
          "output_type": "execute_result",
          "data": {
            "text/plain": [
              "[0, 50, 20, -1, 8, 6, 5, 3, 2, 1]"
            ]
          },
          "metadata": {
            "tags": []
          },
          "execution_count": 65
        }
      ]
    },
    {
      "cell_type": "code",
      "metadata": {
        "colab": {
          "base_uri": "https://localhost:8080/",
          "height": 35
        },
        "id": "v23daBhhFY0R",
        "outputId": "0a33124c-ce35-4bdd-ba00-f03c08718cbd"
      },
      "source": [
        "a"
      ],
      "execution_count": 66,
      "outputs": [
        {
          "output_type": "execute_result",
          "data": {
            "application/vnd.google.colaboratory.intrinsic+json": {
              "type": "string"
            },
            "text/plain": [
              "'stat KKU'"
            ]
          },
          "metadata": {
            "tags": []
          },
          "execution_count": 66
        }
      ]
    },
    {
      "cell_type": "code",
      "metadata": {
        "colab": {
          "base_uri": "https://localhost:8080/",
          "height": 35
        },
        "id": "dSSkXa9FFbTV",
        "outputId": "b35e727a-a466-44c6-ffc9-abcab5135ff8"
      },
      "source": [
        "a[5:]"
      ],
      "execution_count": 67,
      "outputs": [
        {
          "output_type": "execute_result",
          "data": {
            "application/vnd.google.colaboratory.intrinsic+json": {
              "type": "string"
            },
            "text/plain": [
              "'KKU'"
            ]
          },
          "metadata": {
            "tags": []
          },
          "execution_count": 67
        }
      ]
    },
    {
      "cell_type": "code",
      "metadata": {
        "colab": {
          "base_uri": "https://localhost:8080/",
          "height": 35
        },
        "id": "DfkY9h_0GN-l",
        "outputId": "b0f41a02-2781-44b3-f34d-fcc594556930"
      },
      "source": [
        "a[-3:]"
      ],
      "execution_count": 68,
      "outputs": [
        {
          "output_type": "execute_result",
          "data": {
            "application/vnd.google.colaboratory.intrinsic+json": {
              "type": "string"
            },
            "text/plain": [
              "'KKU'"
            ]
          },
          "metadata": {
            "tags": []
          },
          "execution_count": 68
        }
      ]
    },
    {
      "cell_type": "code",
      "metadata": {
        "colab": {
          "base_uri": "https://localhost:8080/",
          "height": 35
        },
        "id": "z-RP-YFvGVp4",
        "outputId": "6a32df00-7b5a-493d-e316-6936e8a4c4fd"
      },
      "source": [
        "a[5:8]"
      ],
      "execution_count": 69,
      "outputs": [
        {
          "output_type": "execute_result",
          "data": {
            "application/vnd.google.colaboratory.intrinsic+json": {
              "type": "string"
            },
            "text/plain": [
              "'KKU'"
            ]
          },
          "metadata": {
            "tags": []
          },
          "execution_count": 69
        }
      ]
    },
    {
      "cell_type": "code",
      "metadata": {
        "colab": {
          "base_uri": "https://localhost:8080/",
          "height": 35
        },
        "id": "Or5CPeUwGgmp",
        "outputId": "a478ad2f-8751-47df-e823-3ba1cb821cd7"
      },
      "source": [
        "a[5::]"
      ],
      "execution_count": 70,
      "outputs": [
        {
          "output_type": "execute_result",
          "data": {
            "application/vnd.google.colaboratory.intrinsic+json": {
              "type": "string"
            },
            "text/plain": [
              "'KKU'"
            ]
          },
          "metadata": {
            "tags": []
          },
          "execution_count": 70
        }
      ]
    },
    {
      "cell_type": "code",
      "metadata": {
        "colab": {
          "base_uri": "https://localhost:8080/",
          "height": 35
        },
        "id": "2L_WdoKvG9eW",
        "outputId": "9f5d8c44-8c57-490e-995d-3fb0f4ff768c"
      },
      "source": [
        "a[-3::1]"
      ],
      "execution_count": 71,
      "outputs": [
        {
          "output_type": "execute_result",
          "data": {
            "application/vnd.google.colaboratory.intrinsic+json": {
              "type": "string"
            },
            "text/plain": [
              "'KKU'"
            ]
          },
          "metadata": {
            "tags": []
          },
          "execution_count": 71
        }
      ]
    },
    {
      "cell_type": "markdown",
      "metadata": {
        "id": "LUIYm9fUHKPx"
      },
      "source": [
        "# **list + list**"
      ]
    },
    {
      "cell_type": "code",
      "metadata": {
        "colab": {
          "base_uri": "https://localhost:8080/"
        },
        "id": "yoFoyNAHHOqP",
        "outputId": "985ebb8b-9944-4cfd-bebb-13a78b921782"
      },
      "source": [
        "print(list_a)\n",
        "print(list_b)"
      ],
      "execution_count": 72,
      "outputs": [
        {
          "output_type": "stream",
          "text": [
            "[1, 2, 0.2, 'abs']\n",
            "[2, 'xyz', [1, 2, 0.2, 'abs'], [1, 2, 0.0]]\n"
          ],
          "name": "stdout"
        }
      ]
    },
    {
      "cell_type": "code",
      "metadata": {
        "colab": {
          "base_uri": "https://localhost:8080/"
        },
        "id": "xn_EWxbmHjGH",
        "outputId": "e2ec5e4e-d7e9-4e99-ebd8-2fdd3803dcb8"
      },
      "source": [
        "list_a + list_b  #เอา list มาบวกกันได้"
      ],
      "execution_count": 73,
      "outputs": [
        {
          "output_type": "execute_result",
          "data": {
            "text/plain": [
              "[1, 2, 0.2, 'abs', 2, 'xyz', [1, 2, 0.2, 'abs'], [1, 2, 0.0]]"
            ]
          },
          "metadata": {
            "tags": []
          },
          "execution_count": 73
        }
      ]
    },
    {
      "cell_type": "markdown",
      "metadata": {
        "id": "5Y2h9UffLtYz"
      },
      "source": [
        "# **format string  การจัดเรียงให้สวยงาม**"
      ]
    },
    {
      "cell_type": "code",
      "metadata": {
        "colab": {
          "base_uri": "https://localhost:8080/",
          "height": 35
        },
        "id": "yIhnZrZXL2Kn",
        "outputId": "22c29208-3d8b-42df-f755-45580c746fc2"
      },
      "source": [
        "f' ตัวเเปร list_a มีค่าคือ {list_a} '"
      ],
      "execution_count": 74,
      "outputs": [
        {
          "output_type": "execute_result",
          "data": {
            "application/vnd.google.colaboratory.intrinsic+json": {
              "type": "string"
            },
            "text/plain": [
              "\" ตัวเเปร list_a มีค่าคือ [1, 2, 0.2, 'abs'] \""
            ]
          },
          "metadata": {
            "tags": []
          },
          "execution_count": 74
        }
      ]
    },
    {
      "cell_type": "markdown",
      "metadata": {
        "id": "xVBRaN0IH5E_"
      },
      "source": [
        "# Loop  การวนซ้ำ ทำอะไรซ้ำๆ หรือการทำงานคล้ายๆกัน\n",
        "\n",
        "\n",
        "\n",
        "```\n",
        "#  for  ตัวแปรที่จะรับค่าจากlist  in  listที่นำมาวนลูป :\n",
        "          do someting           #in loop\n",
        "          do another  thing   #in loop\n",
        "    do other thing             # out side loop\n",
        "```\n",
        "\n"
      ]
    },
    {
      "cell_type": "code",
      "metadata": {
        "colab": {
          "base_uri": "https://localhost:8080/"
        },
        "id": "l_ZmIGI9IKW2",
        "outputId": "e840b4d9-cd44-4f57-8446-322775a25bd0"
      },
      "source": [
        "for i in [1,2,3,4,5] : #ดึงค่าจาก list ไปใส่ i  เเล้วเอา i ไปทำอะไรก็ได้\n",
        "  print(i)\n"
      ],
      "execution_count": 35,
      "outputs": [
        {
          "output_type": "stream",
          "text": [
            "1\n",
            "2\n",
            "3\n",
            "4\n",
            "5\n"
          ],
          "name": "stdout"
        }
      ]
    },
    {
      "cell_type": "code",
      "metadata": {
        "colab": {
          "base_uri": "https://localhost:8080/"
        },
        "id": "jCSrVivBKvNW",
        "outputId": "2b59b557-4275-49c4-f159-dccda925e325"
      },
      "source": [
        "  for i in [1,2,3,4,5] :\n",
        "    print(i+1)"
      ],
      "execution_count": 34,
      "outputs": [
        {
          "output_type": "stream",
          "text": [
            "2\n",
            "3\n",
            "4\n",
            "5\n",
            "6\n"
          ],
          "name": "stdout"
        }
      ]
    },
    {
      "cell_type": "code",
      "metadata": {
        "colab": {
          "base_uri": "https://localhost:8080/"
        },
        "id": "tnnKzf4lM3e2",
        "outputId": "164ed7d8-e4bf-4552-fba1-c10adabe4426"
      },
      "source": [
        "for x in [1,2,3,4,5] :\n",
        "  print(f'ค่าตัวแปร x คือ {x} และ x+2 =  {x+2}')"
      ],
      "execution_count": 33,
      "outputs": [
        {
          "output_type": "stream",
          "text": [
            "ค่าตัวแปร x คือ 1 และ x+2 =  3\n",
            "ค่าตัวแปร x คือ 2 และ x+2 =  4\n",
            "ค่าตัวแปร x คือ 3 และ x+2 =  5\n",
            "ค่าตัวแปร x คือ 4 และ x+2 =  6\n",
            "ค่าตัวแปร x คือ 5 และ x+2 =  7\n"
          ],
          "name": "stdout"
        }
      ]
    },
    {
      "cell_type": "code",
      "metadata": {
        "colab": {
          "base_uri": "https://localhost:8080/"
        },
        "id": "3X4FqYkONY-B",
        "outputId": "4b2f2dc9-073d-434e-9124-ec48cce7d495"
      },
      "source": [
        "list5 = [1,2,3,4,5] \n",
        "for x in list5 :\n",
        "  print(f'ค่าตัวแปร x คือ {x} และ x+2 =  {x+2}')"
      ],
      "execution_count": 36,
      "outputs": [
        {
          "output_type": "stream",
          "text": [
            "ค่าตัวแปร x คือ 1 และ x+2 =  3\n",
            "ค่าตัวแปร x คือ 2 และ x+2 =  4\n",
            "ค่าตัวแปร x คือ 3 และ x+2 =  5\n",
            "ค่าตัวแปร x คือ 4 และ x+2 =  6\n",
            "ค่าตัวแปร x คือ 5 และ x+2 =  7\n"
          ],
          "name": "stdout"
        }
      ]
    },
    {
      "cell_type": "code",
      "metadata": {
        "colab": {
          "base_uri": "https://localhost:8080/"
        },
        "id": "ptGGCZmCN03u",
        "outputId": "901d91c1-8b62-4203-f75a-4d8a3323be24"
      },
      "source": [
        "list (range(10))"
      ],
      "execution_count": 37,
      "outputs": [
        {
          "output_type": "execute_result",
          "data": {
            "text/plain": [
              "[0, 1, 2, 3, 4, 5, 6, 7, 8, 9]"
            ]
          },
          "metadata": {
            "tags": []
          },
          "execution_count": 37
        }
      ]
    },
    {
      "cell_type": "code",
      "metadata": {
        "colab": {
          "base_uri": "https://localhost:8080/"
        },
        "id": "fJMhhMJ8N6fD",
        "outputId": "38a35327-4674-4681-c99d-422cce93030b"
      },
      "source": [
        "for i in range (2,7) :     #เริ่มที่ 2 ไม่เอา 7\n",
        "  print (i)"
      ],
      "execution_count": 38,
      "outputs": [
        {
          "output_type": "stream",
          "text": [
            "2\n",
            "3\n",
            "4\n",
            "5\n",
            "6\n"
          ],
          "name": "stdout"
        }
      ]
    },
    {
      "cell_type": "code",
      "metadata": {
        "colab": {
          "base_uri": "https://localhost:8080/"
        },
        "id": "i8MLibGoOYnS",
        "outputId": "80539e90-e6b8-4fc0-c1e5-79409c39a66f"
      },
      "source": [
        "for i in range (2,7,2) :  #เริ่ม 2 ไม่เกิน 7 ข้ามไป 2 step \n",
        "  print (i)"
      ],
      "execution_count": 39,
      "outputs": [
        {
          "output_type": "stream",
          "text": [
            "2\n",
            "4\n",
            "6\n"
          ],
          "name": "stdout"
        }
      ]
    },
    {
      "cell_type": "code",
      "metadata": {
        "colab": {
          "base_uri": "https://localhost:8080/"
        },
        "id": "EXw8Vn2sOuod",
        "outputId": "4885739e-ea2f-4ed6-d4c6-41c34610abfb"
      },
      "source": [
        "for i in range (5) :\n",
        "   print  ('hahaha')\n",
        "   x = i + 3\n",
        "   print (f' i = {i}  x = {x}')"
      ],
      "execution_count": 40,
      "outputs": [
        {
          "output_type": "stream",
          "text": [
            "hahaha\n",
            " i = 0  x = 3\n",
            "hahaha\n",
            " i = 1  x = 4\n",
            "hahaha\n",
            " i = 2  x = 5\n",
            "hahaha\n",
            " i = 3  x = 6\n",
            "hahaha\n",
            " i = 4  x = 7\n"
          ],
          "name": "stdout"
        }
      ]
    },
    {
      "cell_type": "markdown",
      "metadata": {
        "id": "2j30VYWsEi8k"
      },
      "source": [
        "# **Nested loop**"
      ]
    },
    {
      "cell_type": "code",
      "metadata": {
        "id": "SoxBt1GcEnVr",
        "colab": {
          "base_uri": "https://localhost:8080/"
        },
        "outputId": "35138761-fbe7-4d6f-c367-6f7080847926"
      },
      "source": [
        "for i in range(3):\n",
        "    print(f'now i = {i}')\n",
        "    print('start j loop')\n",
        "    for j in range(4):\n",
        "        print(f'i = {i} j = {j} i+j = {i+j}')\n",
        "    print('end j loop')"
      ],
      "execution_count": 41,
      "outputs": [
        {
          "output_type": "stream",
          "text": [
            "now i = 0\n",
            "start j loop\n",
            "i = 0 j = 0 i+j = 0\n",
            "i = 0 j = 1 i+j = 1\n",
            "i = 0 j = 2 i+j = 2\n",
            "i = 0 j = 3 i+j = 3\n",
            "end j loop\n",
            "now i = 1\n",
            "start j loop\n",
            "i = 1 j = 0 i+j = 1\n",
            "i = 1 j = 1 i+j = 2\n",
            "i = 1 j = 2 i+j = 3\n",
            "i = 1 j = 3 i+j = 4\n",
            "end j loop\n",
            "now i = 2\n",
            "start j loop\n",
            "i = 2 j = 0 i+j = 2\n",
            "i = 2 j = 1 i+j = 3\n",
            "i = 2 j = 2 i+j = 4\n",
            "i = 2 j = 3 i+j = 5\n",
            "end j loop\n"
          ],
          "name": "stdout"
        }
      ]
    },
    {
      "cell_type": "markdown",
      "metadata": {
        "id": "XF-74v4ZKVFr"
      },
      "source": [
        "# **Condition  คือ เงื่อนไข ประโยคเงื่อนไข**\n",
        "\n",
        "## **if statement**\n",
        "\n"
      ]
    },
    {
      "cell_type": "markdown",
      "metadata": {
        "id": "bVlBaj1RGG4L"
      },
      "source": [
        "\n",
        "\n",
        "```\n",
        "if เงื่อนไขที่จะตรวจสอบ :\n",
        "    ถ้าเงื่อนไขเป็นจริง  ทำงาน 1\n",
        "    ถ้าเงื่อนไขเป็นจริง  ทำงาน 2\n",
        "\n",
        "```\n",
        "\n"
      ]
    },
    {
      "cell_type": "code",
      "metadata": {
        "colab": {
          "base_uri": "https://localhost:8080/"
        },
        "id": "eLjBO-o-HLQj",
        "outputId": "f6981fb5-964a-4156-df3a-abcb7d8b9283"
      },
      "source": [
        "stringx = 'saodjp[opejfjdwpojd[ojwjd93odwj'\n",
        "\n",
        "if len (stringx) > 30:\n",
        "    print (f'{stringx} is longer than 30 characters')"
      ],
      "execution_count": 76,
      "outputs": [
        {
          "output_type": "stream",
          "text": [
            "saodjp[opejfjdwpojd[ojwjd93odwj is longer than 30 characters\n"
          ],
          "name": "stdout"
        }
      ]
    },
    {
      "cell_type": "markdown",
      "metadata": {
        "id": "0XYDRU7cIiSI"
      },
      "source": [
        "\n",
        "\n",
        "```\n",
        "if เงื่อนไขที่จะตรวจสอบ :\n",
        "    ถ้าเงื่อนไขเป็นจริง  ทำงาน 1\n",
        "    ถ้าเงื่อนไขเป็นจริง  ทำงาน 2\n",
        "else : ตรวจสอบเงื่อนไขข้างบนเเล้วไม่เป็นจริง\n",
        "    ทำงานที่ x\n",
        "```\n",
        "\n"
      ]
    },
    {
      "cell_type": "code",
      "metadata": {
        "id": "roeOpBvEHTNK"
      },
      "source": [
        "stringx = 'saodjp[opejfjdwpojd[ojwjd93odwj'\n",
        "\n",
        "if len (stringx) > 30:\n",
        "    print (f'{stringx} is longer than 30 characters')"
      ],
      "execution_count": null,
      "outputs": []
    },
    {
      "cell_type": "code",
      "metadata": {
        "colab": {
          "base_uri": "https://localhost:8080/"
        },
        "id": "u-HVgPryG2g9",
        "outputId": "52ec96bc-9b86-4758-f0b1-b2eaa8ced68e"
      },
      "source": [
        "stringx = 'saodjp[opejfjdwpojd[ojwjd93odwj'\n",
        "\n",
        "if len (stringx) > 100:\n",
        "    print (f'{stringx} is longer than 30 characters')\n",
        "else:\n",
        "   print (f'{stringx} in {len (stringx)} characters long')"
      ],
      "execution_count": 80,
      "outputs": [
        {
          "output_type": "stream",
          "text": [
            "saodjp[opejfjdwpojd[ojwjd93odwj in 31 characters long\n"
          ],
          "name": "stdout"
        }
      ]
    },
    {
      "cell_type": "markdown",
      "metadata": {
        "id": "kVpIy0JUKwVg"
      },
      "source": [
        "\n",
        "\n",
        "```\n",
        "f เงื่อนไขที่จะตรวจสอบ :\n",
        "    ถ้าเงื่อนไขเป็นจริง  ทำงาน 1\n",
        "    ถ้าเงื่อนไขเป็นจริง  ทำงาน 2\n",
        "\n",
        "elif เงื่อนไขที่ตรวจสอบต่อไป ถ้าเงื่อนไขข้างบนไม่เป็นจริง :\n",
        "    ถ้าเงื่อนไขเป็นจริง  ทำงานที่ a1\n",
        "    ถ้าเงื่อนไขเป็นจริง  ทำงานที่ a2\n",
        "\n",
        "elif เงื่อนไขที่ตรวจสอบต่อไป ถ้าเงื่อนไขข้างบนไม่เป็นจริง :\n",
        "    ถ้าเงื่อนไขเป็นจริง  ทำงานที่ b1\n",
        "    ถ้าเงื่อนไขเป็นจริง  ทำงานที่ b2\n",
        "\n",
        "else : ตรวจสอบเงื่อนไขข้างบนเเล้วไม่เป็นจริง\n",
        "    ทำงานที่ x\n",
        "```\n",
        "\n",
        "\n"
      ]
    },
    {
      "cell_type": "code",
      "metadata": {
        "colab": {
          "base_uri": "https://localhost:8080/"
        },
        "id": "gMVW-RQFMEI8",
        "outputId": "8a00bf7c-e7b0-4679-d187-c822d7d3a984"
      },
      "source": [
        "password = '12345'\n",
        "\n",
        "input_pass = '123'\n",
        "if input_pass == password:\n",
        "    print ('Welcome!')\n",
        "elif len (input_pass) > len (password):\n",
        "    print ('Too long, try again')\n",
        "elif len (input_pass) > len (password):\n",
        "    print ('Too short, try again')\n",
        "else:\n",
        "    print ('Wrong password, try again!')"
      ],
      "execution_count": 82,
      "outputs": [
        {
          "output_type": "stream",
          "text": [
            "Wrong password, try again!\n"
          ],
          "name": "stdout"
        }
      ]
    },
    {
      "cell_type": "markdown",
      "metadata": {
        "id": "QX8DGCAwOU7-"
      },
      "source": [
        "# **อิหยังวะะ TT**\n",
        "\n",
        "## **ค่อยมาเขียนใหม่ละกันนน งงในงง**"
      ]
    },
    {
      "cell_type": "markdown",
      "metadata": {
        "id": "HEV_zxC3OevP"
      },
      "source": [
        "# **Q1**"
      ]
    },
    {
      "cell_type": "code",
      "metadata": {
        "id": "8OiLoVXAOd8E"
      },
      "source": [
        "\n",
        "list_ex = [1,5,9,-19,-2,0] #หาค่าน้อยที่สุดใน list_ex โดยไม่ใช้ function min (commit ก่อน 10.30 :Quiz1)"
      ],
      "execution_count": 85,
      "outputs": []
    },
    {
      "cell_type": "code",
      "metadata": {
        "colab": {
          "base_uri": "https://localhost:8080/"
        },
        "id": "8r5oyVbGO2eQ",
        "outputId": "635545a5-acc2-4171-d0c3-28069c4e5386"
      },
      "source": [
        "if list_ex[i] < list_ex[j]:\n",
        "    print(f'Min is {list_ex[i]}')\n",
        "else:\n",
        "    print(f'Min is {list_ex[j]}')"
      ],
      "execution_count": 87,
      "outputs": [
        {
          "output_type": "stream",
          "text": [
            "Min is -19\n"
          ],
          "name": "stdout"
        }
      ]
    },
    {
      "cell_type": "markdown",
      "metadata": {
        "id": "RqaeDXJbTNUw"
      },
      "source": [
        "# **อาจารย์เฉลย**"
      ]
    },
    {
      "cell_type": "code",
      "metadata": {
        "id": "ZwpJFMYsTRsZ",
        "outputId": "ac6b987b-0c7d-46a2-b4a1-e22ac0d758e1",
        "colab": {
          "base_uri": "https://localhost:8080/"
        }
      },
      "source": [
        "min = 100000000\n",
        "\n",
        "for i in list_ex:\n",
        "      if i < min:\n",
        "        min = i\n",
        "print (min)"
      ],
      "execution_count": 88,
      "outputs": [
        {
          "output_type": "stream",
          "text": [
            "-19\n"
          ],
          "name": "stdout"
        }
      ]
    },
    {
      "cell_type": "code",
      "metadata": {
        "id": "BoYovikaUtcm",
        "outputId": "893bdf50-bc81-4ae2-e9fc-fc8c8bb3190a",
        "colab": {
          "base_uri": "https://localhost:8080/",
          "height": 130
        }
      },
      "source": [
        "min = 100000000\n",
        "print (list_ex)\n",
        "for i in list_ex:\n",
        "      print (f'now i = {i} , min = {min}')\n",
        " if i < min:\n",
        "        print (f' i < min, update min -> {i}')\n",
        "        min = i\n",
        " else : \n",
        "          print ('not update')\n",
        "print ('end condition, go to next i')\n",
        "print (min)"
      ],
      "execution_count": 91,
      "outputs": [
        {
          "output_type": "error",
          "ename": "IndentationError",
          "evalue": "ignored",
          "traceback": [
            "\u001b[0;36m  File \u001b[0;32m\"<ipython-input-91-badaaff232dc>\"\u001b[0;36m, line \u001b[0;32m5\u001b[0m\n\u001b[0;31m    if i < min:\u001b[0m\n\u001b[0m               ^\u001b[0m\n\u001b[0;31mIndentationError\u001b[0m\u001b[0;31m:\u001b[0m unindent does not match any outer indentation level\n"
          ]
        }
      ]
    },
    {
      "cell_type": "markdown",
      "metadata": {
        "id": "ZEBEgHVxGElQ"
      },
      "source": [
        "# **Function**"
      ]
    }
  ]
}