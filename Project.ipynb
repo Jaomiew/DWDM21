{
  "nbformat": 4,
  "nbformat_minor": 0,
  "metadata": {
    "colab": {
      "name": "Project.ipynb",
      "provenance": [],
      "authorship_tag": "ABX9TyNIJccRSZSY8YtRXp4YMQ5M",
      "include_colab_link": true
    },
    "kernelspec": {
      "name": "python3",
      "display_name": "Python 3"
    },
    "language_info": {
      "name": "python"
    }
  },
  "cells": [
    {
      "cell_type": "markdown",
      "metadata": {
        "id": "view-in-github",
        "colab_type": "text"
      },
      "source": [
        "<a href=\"https://colab.research.google.com/github/Jaomiew/DWDM21/blob/main/Project.ipynb\" target=\"_parent\"><img src=\"https://colab.research.google.com/assets/colab-badge.svg\" alt=\"Open In Colab\"/></a>"
      ]
    },
    {
      "cell_type": "code",
      "metadata": {
        "id": "44WNbOalZK1l"
      },
      "source": [
        "import pandas as pd #ส่วนของการ Import\n",
        "import os"
      ],
      "execution_count": 17,
      "outputs": []
    },
    {
      "cell_type": "code",
      "metadata": {
        "colab": {
          "base_uri": "https://localhost:8080/"
        },
        "id": "LCzkQcr0a2CE",
        "outputId": "b2c75f62-f5ce-4ddf-c4a9-89e887c636ea"
      },
      "source": [
        "from google.colab import drive \n",
        "drive.mount('/content/drive')"
      ],
      "execution_count": 18,
      "outputs": [
        {
          "output_type": "stream",
          "name": "stdout",
          "text": [
            "Drive already mounted at /content/drive; to attempt to forcibly remount, call drive.mount(\"/content/drive\", force_remount=True).\n"
          ]
        }
      ]
    },
    {
      "cell_type": "code",
      "metadata": {
        "id": "xXYHrHuUa-yy"
      },
      "source": [
        "path = '/content/drive/My Drive/DWDM_Project' #กำหนด path ของโฟลเดอร์ที่ Data อยู่"
      ],
      "execution_count": 19,
      "outputs": []
    },
    {
      "cell_type": "markdown",
      "metadata": {
        "id": "PCPNdB2MZ8ZD"
      },
      "source": [
        "\n",
        "# **ที่มาของข้อมูลการจำหน่ายพลังงานไฟฟ้า กฟผ.**"
      ]
    },
    {
      "cell_type": "markdown",
      "metadata": {
        "id": "k6geUYCsZ_dF"
      },
      "source": [
        "https://data.go.th/dataset/sum_of_sale_energy?fbclid=IwAR0MVLYiZEyoY1fpOl7rvAxM3eq8uI_G0Jau51zz2Zw09tT7MppGfycnn8A"
      ]
    },
    {
      "cell_type": "code",
      "metadata": {
        "colab": {
          "base_uri": "https://localhost:8080/",
          "height": 204
        },
        "id": "-vAnWUcCbCOo",
        "outputId": "faea8beb-69af-4085-c6e7-35737bd8d762"
      },
      "source": [
        "data_sell = pd.read_csv(os.path.join(path,'การจำหน่ายพลังงานไฟฟ้า กฟผ..csv')) #กำหนดตัวแปร data_sell เป็นข้อมูลการจำหน่ายพลังงานไฟฟ้า กฟผ.\n",
        "data_sell #เรียกดูตารางการจำหน่ายพลังงานไฟฟ้า กฟผ."
      ],
      "execution_count": 20,
      "outputs": [
        {
          "output_type": "execute_result",
          "data": {
            "text/html": [
              "<div>\n",
              "<style scoped>\n",
              "    .dataframe tbody tr th:only-of-type {\n",
              "        vertical-align: middle;\n",
              "    }\n",
              "\n",
              "    .dataframe tbody tr th {\n",
              "        vertical-align: top;\n",
              "    }\n",
              "\n",
              "    .dataframe thead th {\n",
              "        text-align: right;\n",
              "    }\n",
              "</style>\n",
              "<table border=\"1\" class=\"dataframe\">\n",
              "  <thead>\n",
              "    <tr style=\"text-align: right;\">\n",
              "      <th></th>\n",
              "      <th>ปี</th>\n",
              "      <th>การไฟฟ้านครหลวง</th>\n",
              "      <th>การไฟฟ้าส่วนภูมิภาค</th>\n",
              "      <th>การไฟฟ้าลาว</th>\n",
              "      <th>การไฟฟ้ามาเลเซีย</th>\n",
              "      <th>การไฟฟ้ากัมพูชา</th>\n",
              "      <th>ลูกค้าโดยตรง</th>\n",
              "      <th>อื่น ๆ</th>\n",
              "      <th>รวมทั้งสิ้น</th>\n",
              "    </tr>\n",
              "  </thead>\n",
              "  <tbody>\n",
              "    <tr>\n",
              "      <th>0</th>\n",
              "      <td>2559</td>\n",
              "      <td>56,585.63</td>\n",
              "      <td>125,798.07</td>\n",
              "      <td>595.02</td>\n",
              "      <td>157.84</td>\n",
              "      <td>146.89</td>\n",
              "      <td>1,591.85</td>\n",
              "      <td>171.21</td>\n",
              "      <td>185,046.51</td>\n",
              "    </tr>\n",
              "    <tr>\n",
              "      <th>1</th>\n",
              "      <td>2560</td>\n",
              "      <td>52,646.13</td>\n",
              "      <td>130,237.60</td>\n",
              "      <td>365.27</td>\n",
              "      <td>132.69</td>\n",
              "      <td>86.80</td>\n",
              "      <td>1,458.60</td>\n",
              "      <td>203.80</td>\n",
              "      <td>185,130.89</td>\n",
              "    </tr>\n",
              "    <tr>\n",
              "      <th>2</th>\n",
              "      <td>2561</td>\n",
              "      <td>53,301.86</td>\n",
              "      <td>131,969.53</td>\n",
              "      <td>253.86</td>\n",
              "      <td>122.58</td>\n",
              "      <td>211.75</td>\n",
              "      <td>1,339.12</td>\n",
              "      <td>189.84</td>\n",
              "      <td>187,388.54</td>\n",
              "    </tr>\n",
              "    <tr>\n",
              "      <th>3</th>\n",
              "      <td>2562</td>\n",
              "      <td>55,002.17</td>\n",
              "      <td>134,605.47</td>\n",
              "      <td>1,316.51</td>\n",
              "      <td>136.14</td>\n",
              "      <td>942.01</td>\n",
              "      <td>1,346.59</td>\n",
              "      <td>90.26</td>\n",
              "      <td>193,439.15</td>\n",
              "    </tr>\n",
              "    <tr>\n",
              "      <th>4</th>\n",
              "      <td>2563</td>\n",
              "      <td>52,343.73</td>\n",
              "      <td>131,558.55</td>\n",
              "      <td>1,375.40</td>\n",
              "      <td>142.56</td>\n",
              "      <td>610.10</td>\n",
              "      <td>1,378.67</td>\n",
              "      <td>80.38</td>\n",
              "      <td>187,489.39</td>\n",
              "    </tr>\n",
              "  </tbody>\n",
              "</table>\n",
              "</div>"
            ],
            "text/plain": [
              "     ปี การไฟฟ้านครหลวง การไฟฟ้าส่วนภูมิภาค  ... ลูกค้าโดยตรง  อื่น ๆ  รวมทั้งสิ้น\n",
              "0  2559       56,585.63          125,798.07  ...     1,591.85  171.21   185,046.51\n",
              "1  2560       52,646.13          130,237.60  ...     1,458.60  203.80   185,130.89\n",
              "2  2561       53,301.86          131,969.53  ...     1,339.12  189.84   187,388.54\n",
              "3  2562       55,002.17          134,605.47  ...     1,346.59   90.26   193,439.15\n",
              "4  2563       52,343.73          131,558.55  ...     1,378.67   80.38   187,489.39\n",
              "\n",
              "[5 rows x 9 columns]"
            ]
          },
          "metadata": {},
          "execution_count": 20
        }
      ]
    },
    {
      "cell_type": "markdown",
      "metadata": {
        "id": "pcyapbwaAtIW"
      },
      "source": [
        "\n",
        "# **ที่มาของข้อมูลกำลังผลิตในระบบไฟฟ้าแยกตามประเภทโรงไฟฟ้า**"
      ]
    },
    {
      "cell_type": "markdown",
      "metadata": {
        "id": "izObE9aqAt3N"
      },
      "source": [
        "https://data.go.th/dataset/sum_of_contract_capacity?fbclid=IwAR0wEyqOe32nMqFlTDJ8EtqrGxymZe1f34mlPeHL0HqhAVtT22g7ARQ4N54"
      ]
    },
    {
      "cell_type": "code",
      "metadata": {
        "id": "n8fTDXlVAxCr",
        "outputId": "7f736c8b-8988-415b-d7f7-a9bc24ba94a6",
        "colab": {
          "base_uri": "https://localhost:8080/",
          "height": 204
        }
      },
      "source": [
        "data_production = pd.read_csv(os.path.join(path,'กำลังผลิตในระบบไฟฟ้าแยกตามประเภทโรงไฟฟ้า.csv')) #กำหนดตัวแปร data_production เป็นข้อมูลกำลังผลิตในระบบไฟฟ้าแยกตามประเภทโรงไฟฟ้า\n",
        "data_production #เรียกดูตารางกำลังผลิตในระบบไฟฟ้าแยกตามประเภทโรงไฟฟ้า"
      ],
      "execution_count": 24,
      "outputs": [
        {
          "output_type": "execute_result",
          "data": {
            "text/html": [
              "<div>\n",
              "<style scoped>\n",
              "    .dataframe tbody tr th:only-of-type {\n",
              "        vertical-align: middle;\n",
              "    }\n",
              "\n",
              "    .dataframe tbody tr th {\n",
              "        vertical-align: top;\n",
              "    }\n",
              "\n",
              "    .dataframe thead th {\n",
              "        text-align: right;\n",
              "    }\n",
              "</style>\n",
              "<table border=\"1\" class=\"dataframe\">\n",
              "  <thead>\n",
              "    <tr style=\"text-align: right;\">\n",
              "      <th></th>\n",
              "      <th>ปี</th>\n",
              "      <th>พลังความร้อน</th>\n",
              "      <th>พลังน้ำ</th>\n",
              "      <th>กังหันแก๊ส</th>\n",
              "      <th>พลังความร้อนร่วม</th>\n",
              "      <th>ดีเซล</th>\n",
              "      <th>พลังงานทดแทน</th>\n",
              "      <th>ซื้อ</th>\n",
              "      <th>รวมทั้งสิ้น</th>\n",
              "    </tr>\n",
              "  </thead>\n",
              "  <tbody>\n",
              "    <tr>\n",
              "      <th>0</th>\n",
              "      <td>2559</td>\n",
              "      <td>3,647.00</td>\n",
              "      <td>3,452.40</td>\n",
              "      <td>-</td>\n",
              "      <td>9,210.00</td>\n",
              "      <td>30.4</td>\n",
              "      <td>45.33</td>\n",
              "      <td>24,711.12</td>\n",
              "      <td>41,096.25</td>\n",
              "    </tr>\n",
              "    <tr>\n",
              "      <th>1</th>\n",
              "      <td>2560</td>\n",
              "      <td>3,647.00</td>\n",
              "      <td>3,452.40</td>\n",
              "      <td>-</td>\n",
              "      <td>8,896.00</td>\n",
              "      <td>30.4</td>\n",
              "      <td>45.33</td>\n",
              "      <td>26,362.12</td>\n",
              "      <td>42,433.25</td>\n",
              "    </tr>\n",
              "    <tr>\n",
              "      <th>2</th>\n",
              "      <td>2561</td>\n",
              "      <td>3,647.00</td>\n",
              "      <td>3,472.40</td>\n",
              "      <td>-</td>\n",
              "      <td>8,582.00</td>\n",
              "      <td>30.4</td>\n",
              "      <td>57.78</td>\n",
              "      <td>27,582.92</td>\n",
              "      <td>43,372.50</td>\n",
              "    </tr>\n",
              "    <tr>\n",
              "      <th>3</th>\n",
              "      <td>2562</td>\n",
              "      <td>3,687.00</td>\n",
              "      <td>3,972.40</td>\n",
              "      <td>-</td>\n",
              "      <td>7,358.00</td>\n",
              "      <td>30.4</td>\n",
              "      <td>83.03</td>\n",
              "      <td>30,167.42</td>\n",
              "      <td>45,298.25</td>\n",
              "    </tr>\n",
              "    <tr>\n",
              "      <th>4</th>\n",
              "      <td>2563</td>\n",
              "      <td>3,687.00</td>\n",
              "      <td>3,972.40</td>\n",
              "      <td>-</td>\n",
              "      <td>8,262.00</td>\n",
              "      <td>30.4</td>\n",
              "      <td>85.52</td>\n",
              "      <td>29,443.05</td>\n",
              "      <td>46,480.37</td>\n",
              "    </tr>\n",
              "  </tbody>\n",
              "</table>\n",
              "</div>"
            ],
            "text/plain": [
              "     ปี พลังความร้อน   พลังน้ำ  ... พลังงานทดแทน       ซื้อ  รวมทั้งสิ้น\n",
              "0  2559     3,647.00  3,452.40  ...        45.33  24,711.12    41,096.25\n",
              "1  2560     3,647.00  3,452.40  ...        45.33  26,362.12    42,433.25\n",
              "2  2561     3,647.00  3,472.40  ...        57.78  27,582.92    43,372.50\n",
              "3  2562     3,687.00  3,972.40  ...        83.03  30,167.42    45,298.25\n",
              "4  2563     3,687.00  3,972.40  ...        85.52  29,443.05    46,480.37\n",
              "\n",
              "[5 rows x 9 columns]"
            ]
          },
          "metadata": {},
          "execution_count": 24
        }
      ]
    },
    {
      "cell_type": "markdown",
      "metadata": {
        "id": "_fgnTcasBGfk"
      },
      "source": [
        "\n",
        "# **ที่มาของข้อมูลความยาวสายส่งไฟฟ้า กฟผ.**"
      ]
    },
    {
      "cell_type": "markdown",
      "metadata": {
        "id": "p-ZQ1xx5BJx0"
      },
      "source": [
        "https://data.go.th/dataset/max_of_cc-km?fbclid=IwAR1l9vb1tAe82hsOqvDkyfmdrIFLExi-SzCvmanHzwvBQUcB0XmE-i_9Fyc\n",
        "\n"
      ]
    },
    {
      "cell_type": "code",
      "metadata": {
        "id": "PjG0ZeqLBKiy",
        "outputId": "197cda9b-0f04-4ae1-a54c-9d69654c693b",
        "colab": {
          "base_uri": "https://localhost:8080/",
          "height": 204
        }
      },
      "source": [
        "data_length = pd.read_csv(os.path.join(path,'ความยาวสายส่งไฟฟ้า กฟผ..csv')) #กำหนดตัวแปร data_length ให้เป็นความยาวสายส่งไฟฟ้า กฟผ.\n",
        "data_length #เรียกดูตารางความยาวสายส่งไฟฟ้า กฟผ."
      ],
      "execution_count": 25,
      "outputs": [
        {
          "output_type": "execute_result",
          "data": {
            "text/html": [
              "<div>\n",
              "<style scoped>\n",
              "    .dataframe tbody tr th:only-of-type {\n",
              "        vertical-align: middle;\n",
              "    }\n",
              "\n",
              "    .dataframe tbody tr th {\n",
              "        vertical-align: top;\n",
              "    }\n",
              "\n",
              "    .dataframe thead th {\n",
              "        text-align: right;\n",
              "    }\n",
              "</style>\n",
              "<table border=\"1\" class=\"dataframe\">\n",
              "  <thead>\n",
              "    <tr style=\"text-align: right;\">\n",
              "      <th></th>\n",
              "      <th>ปี</th>\n",
              "      <th>69 kv</th>\n",
              "      <th>115 kv</th>\n",
              "      <th>132 kv</th>\n",
              "      <th>230 kv</th>\n",
              "      <th>300 kv</th>\n",
              "      <th>500 kv</th>\n",
              "      <th>รวมทั้งสิ้น</th>\n",
              "    </tr>\n",
              "  </thead>\n",
              "  <tbody>\n",
              "    <tr>\n",
              "      <th>0</th>\n",
              "      <td>2559</td>\n",
              "      <td>18.8</td>\n",
              "      <td>13497.32</td>\n",
              "      <td>8.71</td>\n",
              "      <td>14793.65</td>\n",
              "      <td>23.07</td>\n",
              "      <td>5025.34</td>\n",
              "      <td>33,366.88</td>\n",
              "    </tr>\n",
              "    <tr>\n",
              "      <th>1</th>\n",
              "      <td>2560</td>\n",
              "      <td>18.8</td>\n",
              "      <td>13088.64</td>\n",
              "      <td>8.71</td>\n",
              "      <td>14423.13</td>\n",
              "      <td>23.07</td>\n",
              "      <td>5830.84</td>\n",
              "      <td>33,393.19</td>\n",
              "    </tr>\n",
              "    <tr>\n",
              "      <th>2</th>\n",
              "      <td>2561</td>\n",
              "      <td>18.8</td>\n",
              "      <td>13263.16</td>\n",
              "      <td>8.71</td>\n",
              "      <td>14712.73</td>\n",
              "      <td>23.07</td>\n",
              "      <td>6527.39</td>\n",
              "      <td>34,553.86</td>\n",
              "    </tr>\n",
              "    <tr>\n",
              "      <th>3</th>\n",
              "      <td>2562</td>\n",
              "      <td>18.8</td>\n",
              "      <td>13997.98</td>\n",
              "      <td>8.71</td>\n",
              "      <td>15357.71</td>\n",
              "      <td>23.07</td>\n",
              "      <td>6575.18</td>\n",
              "      <td>35,981.45</td>\n",
              "    </tr>\n",
              "    <tr>\n",
              "      <th>4</th>\n",
              "      <td>2563</td>\n",
              "      <td>18.8</td>\n",
              "      <td>14423.19</td>\n",
              "      <td>8.71</td>\n",
              "      <td>15697.87</td>\n",
              "      <td>23.07</td>\n",
              "      <td>6912.29</td>\n",
              "      <td>37,083.92</td>\n",
              "    </tr>\n",
              "  </tbody>\n",
              "</table>\n",
              "</div>"
            ],
            "text/plain": [
              "     ปี  69 kv    115 kv  132 kv    230 kv  300 kv   500 kv รวมทั้งสิ้น\n",
              "0  2559   18.8  13497.32    8.71  14793.65   23.07  5025.34   33,366.88\n",
              "1  2560   18.8  13088.64    8.71  14423.13   23.07  5830.84   33,393.19\n",
              "2  2561   18.8  13263.16    8.71  14712.73   23.07  6527.39   34,553.86\n",
              "3  2562   18.8  13997.98    8.71  15357.71   23.07  6575.18   35,981.45\n",
              "4  2563   18.8  14423.19    8.71  15697.87   23.07  6912.29   37,083.92"
            ]
          },
          "metadata": {},
          "execution_count": 25
        }
      ]
    },
    {
      "cell_type": "markdown",
      "metadata": {
        "id": "RUcgL29QBPME"
      },
      "source": [
        "\n",
        "# **ทำการเชื่อม 2 ตารางด้วยการ merge โดยเชื่อมกันด้วย ปี**"
      ]
    },
    {
      "cell_type": "code",
      "metadata": {
        "id": "jx7xLf71BSGq",
        "outputId": "1ea21253-f030-4c73-cf53-274db4fee02b",
        "colab": {
          "base_uri": "https://localhost:8080/",
          "height": 238
        }
      },
      "source": [
        "merged_data_sell_data_production = pd.merge(data_sell,data_production,on='ปี') #ทำการเชื่อมตาราง 2 ตาราง คือ 1.ข้อมูลการจำหน่ายพลังงานไฟฟ้า 2.ข้อมูลของกำลังผลิตในระบบไฟฟ้า\n",
        "merged_data_sell_data_production #เรียกตารางที่เชื่อมกัน 2 ตารางข้างต้น"
      ],
      "execution_count": 26,
      "outputs": [
        {
          "output_type": "execute_result",
          "data": {
            "text/html": [
              "<div>\n",
              "<style scoped>\n",
              "    .dataframe tbody tr th:only-of-type {\n",
              "        vertical-align: middle;\n",
              "    }\n",
              "\n",
              "    .dataframe tbody tr th {\n",
              "        vertical-align: top;\n",
              "    }\n",
              "\n",
              "    .dataframe thead th {\n",
              "        text-align: right;\n",
              "    }\n",
              "</style>\n",
              "<table border=\"1\" class=\"dataframe\">\n",
              "  <thead>\n",
              "    <tr style=\"text-align: right;\">\n",
              "      <th></th>\n",
              "      <th>ปี</th>\n",
              "      <th>การไฟฟ้านครหลวง</th>\n",
              "      <th>การไฟฟ้าส่วนภูมิภาค</th>\n",
              "      <th>การไฟฟ้าลาว</th>\n",
              "      <th>การไฟฟ้ามาเลเซีย</th>\n",
              "      <th>การไฟฟ้ากัมพูชา</th>\n",
              "      <th>ลูกค้าโดยตรง</th>\n",
              "      <th>อื่น ๆ</th>\n",
              "      <th>รวมทั้งสิ้น_x</th>\n",
              "      <th>พลังความร้อน</th>\n",
              "      <th>พลังน้ำ</th>\n",
              "      <th>กังหันแก๊ส</th>\n",
              "      <th>พลังความร้อนร่วม</th>\n",
              "      <th>ดีเซล</th>\n",
              "      <th>พลังงานทดแทน</th>\n",
              "      <th>ซื้อ</th>\n",
              "      <th>รวมทั้งสิ้น_y</th>\n",
              "    </tr>\n",
              "  </thead>\n",
              "  <tbody>\n",
              "    <tr>\n",
              "      <th>0</th>\n",
              "      <td>2559</td>\n",
              "      <td>56,585.63</td>\n",
              "      <td>125,798.07</td>\n",
              "      <td>595.02</td>\n",
              "      <td>157.84</td>\n",
              "      <td>146.89</td>\n",
              "      <td>1,591.85</td>\n",
              "      <td>171.21</td>\n",
              "      <td>185,046.51</td>\n",
              "      <td>3,647.00</td>\n",
              "      <td>3,452.40</td>\n",
              "      <td>-</td>\n",
              "      <td>9,210.00</td>\n",
              "      <td>30.4</td>\n",
              "      <td>45.33</td>\n",
              "      <td>24,711.12</td>\n",
              "      <td>41,096.25</td>\n",
              "    </tr>\n",
              "    <tr>\n",
              "      <th>1</th>\n",
              "      <td>2560</td>\n",
              "      <td>52,646.13</td>\n",
              "      <td>130,237.60</td>\n",
              "      <td>365.27</td>\n",
              "      <td>132.69</td>\n",
              "      <td>86.80</td>\n",
              "      <td>1,458.60</td>\n",
              "      <td>203.80</td>\n",
              "      <td>185,130.89</td>\n",
              "      <td>3,647.00</td>\n",
              "      <td>3,452.40</td>\n",
              "      <td>-</td>\n",
              "      <td>8,896.00</td>\n",
              "      <td>30.4</td>\n",
              "      <td>45.33</td>\n",
              "      <td>26,362.12</td>\n",
              "      <td>42,433.25</td>\n",
              "    </tr>\n",
              "    <tr>\n",
              "      <th>2</th>\n",
              "      <td>2561</td>\n",
              "      <td>53,301.86</td>\n",
              "      <td>131,969.53</td>\n",
              "      <td>253.86</td>\n",
              "      <td>122.58</td>\n",
              "      <td>211.75</td>\n",
              "      <td>1,339.12</td>\n",
              "      <td>189.84</td>\n",
              "      <td>187,388.54</td>\n",
              "      <td>3,647.00</td>\n",
              "      <td>3,472.40</td>\n",
              "      <td>-</td>\n",
              "      <td>8,582.00</td>\n",
              "      <td>30.4</td>\n",
              "      <td>57.78</td>\n",
              "      <td>27,582.92</td>\n",
              "      <td>43,372.50</td>\n",
              "    </tr>\n",
              "    <tr>\n",
              "      <th>3</th>\n",
              "      <td>2562</td>\n",
              "      <td>55,002.17</td>\n",
              "      <td>134,605.47</td>\n",
              "      <td>1,316.51</td>\n",
              "      <td>136.14</td>\n",
              "      <td>942.01</td>\n",
              "      <td>1,346.59</td>\n",
              "      <td>90.26</td>\n",
              "      <td>193,439.15</td>\n",
              "      <td>3,687.00</td>\n",
              "      <td>3,972.40</td>\n",
              "      <td>-</td>\n",
              "      <td>7,358.00</td>\n",
              "      <td>30.4</td>\n",
              "      <td>83.03</td>\n",
              "      <td>30,167.42</td>\n",
              "      <td>45,298.25</td>\n",
              "    </tr>\n",
              "    <tr>\n",
              "      <th>4</th>\n",
              "      <td>2563</td>\n",
              "      <td>52,343.73</td>\n",
              "      <td>131,558.55</td>\n",
              "      <td>1,375.40</td>\n",
              "      <td>142.56</td>\n",
              "      <td>610.10</td>\n",
              "      <td>1,378.67</td>\n",
              "      <td>80.38</td>\n",
              "      <td>187,489.39</td>\n",
              "      <td>3,687.00</td>\n",
              "      <td>3,972.40</td>\n",
              "      <td>-</td>\n",
              "      <td>8,262.00</td>\n",
              "      <td>30.4</td>\n",
              "      <td>85.52</td>\n",
              "      <td>29,443.05</td>\n",
              "      <td>46,480.37</td>\n",
              "    </tr>\n",
              "  </tbody>\n",
              "</table>\n",
              "</div>"
            ],
            "text/plain": [
              "     ปี การไฟฟ้านครหลวง  ...       ซื้อ รวมทั้งสิ้น_y\n",
              "0  2559       56,585.63  ...  24,711.12     41,096.25\n",
              "1  2560       52,646.13  ...  26,362.12     42,433.25\n",
              "2  2561       53,301.86  ...  27,582.92     43,372.50\n",
              "3  2562       55,002.17  ...  30,167.42     45,298.25\n",
              "4  2563       52,343.73  ...  29,443.05     46,480.37\n",
              "\n",
              "[5 rows x 17 columns]"
            ]
          },
          "metadata": {},
          "execution_count": 26
        }
      ]
    },
    {
      "cell_type": "markdown",
      "metadata": {
        "id": "y6FLGoCEBUxO"
      },
      "source": [
        "\n",
        "# **ทำการเชื่อมตารางทั้งหมดเข้าด้วยกัน**"
      ]
    },
    {
      "cell_type": "code",
      "metadata": {
        "id": "-5nhuqPjBr_Q",
        "outputId": "e23c00b9-791f-4bf2-ae5c-dabebcdd4679",
        "colab": {
          "base_uri": "https://localhost:8080/",
          "height": 258
        }
      },
      "source": [
        "merged_3_tables = pd.merge(merged_data_sell_data_production,data_length,on='ปี') #ทำเชื่อมตารางระหว่าง 1.ตารางการจำหน่ายพลังงานไฟฟ้าและกำลังผลิตในระบบไฟฟ้า 2.ตารางความยาวสายส่งไฟฟ้า\n",
        "merged_3_tables #เรียกดูตารางที่เชื่อมกันทั้ง 3 ตาราง"
      ],
      "execution_count": 27,
      "outputs": [
        {
          "output_type": "execute_result",
          "data": {
            "text/html": [
              "<div>\n",
              "<style scoped>\n",
              "    .dataframe tbody tr th:only-of-type {\n",
              "        vertical-align: middle;\n",
              "    }\n",
              "\n",
              "    .dataframe tbody tr th {\n",
              "        vertical-align: top;\n",
              "    }\n",
              "\n",
              "    .dataframe thead th {\n",
              "        text-align: right;\n",
              "    }\n",
              "</style>\n",
              "<table border=\"1\" class=\"dataframe\">\n",
              "  <thead>\n",
              "    <tr style=\"text-align: right;\">\n",
              "      <th></th>\n",
              "      <th>ปี</th>\n",
              "      <th>การไฟฟ้านครหลวง</th>\n",
              "      <th>การไฟฟ้าส่วนภูมิภาค</th>\n",
              "      <th>การไฟฟ้าลาว</th>\n",
              "      <th>การไฟฟ้ามาเลเซีย</th>\n",
              "      <th>การไฟฟ้ากัมพูชา</th>\n",
              "      <th>ลูกค้าโดยตรง</th>\n",
              "      <th>อื่น ๆ</th>\n",
              "      <th>รวมทั้งสิ้น_x</th>\n",
              "      <th>พลังความร้อน</th>\n",
              "      <th>พลังน้ำ</th>\n",
              "      <th>กังหันแก๊ส</th>\n",
              "      <th>พลังความร้อนร่วม</th>\n",
              "      <th>ดีเซล</th>\n",
              "      <th>พลังงานทดแทน</th>\n",
              "      <th>ซื้อ</th>\n",
              "      <th>รวมทั้งสิ้น_y</th>\n",
              "      <th>69 kv</th>\n",
              "      <th>115 kv</th>\n",
              "      <th>132 kv</th>\n",
              "      <th>230 kv</th>\n",
              "      <th>300 kv</th>\n",
              "      <th>500 kv</th>\n",
              "      <th>รวมทั้งสิ้น</th>\n",
              "    </tr>\n",
              "  </thead>\n",
              "  <tbody>\n",
              "    <tr>\n",
              "      <th>0</th>\n",
              "      <td>2559</td>\n",
              "      <td>56,585.63</td>\n",
              "      <td>125,798.07</td>\n",
              "      <td>595.02</td>\n",
              "      <td>157.84</td>\n",
              "      <td>146.89</td>\n",
              "      <td>1,591.85</td>\n",
              "      <td>171.21</td>\n",
              "      <td>185,046.51</td>\n",
              "      <td>3,647.00</td>\n",
              "      <td>3,452.40</td>\n",
              "      <td>-</td>\n",
              "      <td>9,210.00</td>\n",
              "      <td>30.4</td>\n",
              "      <td>45.33</td>\n",
              "      <td>24,711.12</td>\n",
              "      <td>41,096.25</td>\n",
              "      <td>18.8</td>\n",
              "      <td>13497.32</td>\n",
              "      <td>8.71</td>\n",
              "      <td>14793.65</td>\n",
              "      <td>23.07</td>\n",
              "      <td>5025.34</td>\n",
              "      <td>33,366.88</td>\n",
              "    </tr>\n",
              "    <tr>\n",
              "      <th>1</th>\n",
              "      <td>2560</td>\n",
              "      <td>52,646.13</td>\n",
              "      <td>130,237.60</td>\n",
              "      <td>365.27</td>\n",
              "      <td>132.69</td>\n",
              "      <td>86.80</td>\n",
              "      <td>1,458.60</td>\n",
              "      <td>203.80</td>\n",
              "      <td>185,130.89</td>\n",
              "      <td>3,647.00</td>\n",
              "      <td>3,452.40</td>\n",
              "      <td>-</td>\n",
              "      <td>8,896.00</td>\n",
              "      <td>30.4</td>\n",
              "      <td>45.33</td>\n",
              "      <td>26,362.12</td>\n",
              "      <td>42,433.25</td>\n",
              "      <td>18.8</td>\n",
              "      <td>13088.64</td>\n",
              "      <td>8.71</td>\n",
              "      <td>14423.13</td>\n",
              "      <td>23.07</td>\n",
              "      <td>5830.84</td>\n",
              "      <td>33,393.19</td>\n",
              "    </tr>\n",
              "    <tr>\n",
              "      <th>2</th>\n",
              "      <td>2561</td>\n",
              "      <td>53,301.86</td>\n",
              "      <td>131,969.53</td>\n",
              "      <td>253.86</td>\n",
              "      <td>122.58</td>\n",
              "      <td>211.75</td>\n",
              "      <td>1,339.12</td>\n",
              "      <td>189.84</td>\n",
              "      <td>187,388.54</td>\n",
              "      <td>3,647.00</td>\n",
              "      <td>3,472.40</td>\n",
              "      <td>-</td>\n",
              "      <td>8,582.00</td>\n",
              "      <td>30.4</td>\n",
              "      <td>57.78</td>\n",
              "      <td>27,582.92</td>\n",
              "      <td>43,372.50</td>\n",
              "      <td>18.8</td>\n",
              "      <td>13263.16</td>\n",
              "      <td>8.71</td>\n",
              "      <td>14712.73</td>\n",
              "      <td>23.07</td>\n",
              "      <td>6527.39</td>\n",
              "      <td>34,553.86</td>\n",
              "    </tr>\n",
              "    <tr>\n",
              "      <th>3</th>\n",
              "      <td>2562</td>\n",
              "      <td>55,002.17</td>\n",
              "      <td>134,605.47</td>\n",
              "      <td>1,316.51</td>\n",
              "      <td>136.14</td>\n",
              "      <td>942.01</td>\n",
              "      <td>1,346.59</td>\n",
              "      <td>90.26</td>\n",
              "      <td>193,439.15</td>\n",
              "      <td>3,687.00</td>\n",
              "      <td>3,972.40</td>\n",
              "      <td>-</td>\n",
              "      <td>7,358.00</td>\n",
              "      <td>30.4</td>\n",
              "      <td>83.03</td>\n",
              "      <td>30,167.42</td>\n",
              "      <td>45,298.25</td>\n",
              "      <td>18.8</td>\n",
              "      <td>13997.98</td>\n",
              "      <td>8.71</td>\n",
              "      <td>15357.71</td>\n",
              "      <td>23.07</td>\n",
              "      <td>6575.18</td>\n",
              "      <td>35,981.45</td>\n",
              "    </tr>\n",
              "    <tr>\n",
              "      <th>4</th>\n",
              "      <td>2563</td>\n",
              "      <td>52,343.73</td>\n",
              "      <td>131,558.55</td>\n",
              "      <td>1,375.40</td>\n",
              "      <td>142.56</td>\n",
              "      <td>610.10</td>\n",
              "      <td>1,378.67</td>\n",
              "      <td>80.38</td>\n",
              "      <td>187,489.39</td>\n",
              "      <td>3,687.00</td>\n",
              "      <td>3,972.40</td>\n",
              "      <td>-</td>\n",
              "      <td>8,262.00</td>\n",
              "      <td>30.4</td>\n",
              "      <td>85.52</td>\n",
              "      <td>29,443.05</td>\n",
              "      <td>46,480.37</td>\n",
              "      <td>18.8</td>\n",
              "      <td>14423.19</td>\n",
              "      <td>8.71</td>\n",
              "      <td>15697.87</td>\n",
              "      <td>23.07</td>\n",
              "      <td>6912.29</td>\n",
              "      <td>37,083.92</td>\n",
              "    </tr>\n",
              "  </tbody>\n",
              "</table>\n",
              "</div>"
            ],
            "text/plain": [
              "     ปี การไฟฟ้านครหลวง การไฟฟ้าส่วนภูมิภาค  ... 300 kv   500 kv  รวมทั้งสิ้น\n",
              "0  2559       56,585.63          125,798.07  ...  23.07  5025.34    33,366.88\n",
              "1  2560       52,646.13          130,237.60  ...  23.07  5830.84    33,393.19\n",
              "2  2561       53,301.86          131,969.53  ...  23.07  6527.39    34,553.86\n",
              "3  2562       55,002.17          134,605.47  ...  23.07  6575.18    35,981.45\n",
              "4  2563       52,343.73          131,558.55  ...  23.07  6912.29    37,083.92\n",
              "\n",
              "[5 rows x 24 columns]"
            ]
          },
          "metadata": {},
          "execution_count": 27
        }
      ]
    },
    {
      "cell_type": "code",
      "metadata": {
        "id": "N6tAAiPBBuuz",
        "outputId": "007c3611-526b-41b9-bde3-59d3c6cb4939",
        "colab": {
          "base_uri": "https://localhost:8080/"
        }
      },
      "source": [
        "merged_3_tables.isnull().any() #เช็คดู missing ของตารางที่เชื่อมกันทั้ง 3 ตาราง"
      ],
      "execution_count": 28,
      "outputs": [
        {
          "output_type": "execute_result",
          "data": {
            "text/plain": [
              "ปี                     False\n",
              "การไฟฟ้านครหลวง        False\n",
              "การไฟฟ้าส่วนภูมิภาค    False\n",
              "การไฟฟ้าลาว            False\n",
              "การไฟฟ้ามาเลเซีย       False\n",
              "การไฟฟ้ากัมพูชา        False\n",
              "ลูกค้าโดยตรง           False\n",
              "อื่น ๆ                 False\n",
              "รวมทั้งสิ้น_x          False\n",
              "พลังความร้อน           False\n",
              "พลังน้ำ                False\n",
              "กังหันแก๊ส             False\n",
              "พลังความร้อนร่วม       False\n",
              "ดีเซล                  False\n",
              "พลังงานทดแทน           False\n",
              "ซื้อ                   False\n",
              "รวมทั้งสิ้น_y          False\n",
              "69 kv                  False\n",
              "115 kv                 False\n",
              "132 kv                 False\n",
              "230 kv                 False\n",
              "300 kv                 False\n",
              "500 kv                 False\n",
              "รวมทั้งสิ้น            False\n",
              "dtype: bool"
            ]
          },
          "metadata": {},
          "execution_count": 28
        }
      ]
    },
    {
      "cell_type": "code",
      "metadata": {
        "id": "xw9tWg-QBxTw",
        "outputId": "ba447257-d522-4606-d0f4-8022b529c19e",
        "colab": {
          "base_uri": "https://localhost:8080/"
        }
      },
      "source": [
        "merged_3_tables.shape #ข้อมูลมี 5 row 24 column"
      ],
      "execution_count": 29,
      "outputs": [
        {
          "output_type": "execute_result",
          "data": {
            "text/plain": [
              "(5, 24)"
            ]
          },
          "metadata": {},
          "execution_count": 29
        }
      ]
    },
    {
      "cell_type": "markdown",
      "metadata": {
        "id": "1_GjMHhFB0mu"
      },
      "source": [
        "# **ตารางที่ใช้ในการดู challenge**"
      ]
    },
    {
      "cell_type": "code",
      "metadata": {
        "id": "jwIoHRpEBzs_",
        "outputId": "af6458c7-4975-4434-acd3-50d2097f6cd8",
        "colab": {
          "base_uri": "https://localhost:8080/",
          "height": 204
        }
      },
      "source": [
        "data = merged_3_tables[['ปี','รวมทั้งสิ้น_x','รวมทั้งสิ้น_y','รวมทั้งสิ้น']]\n",
        "data"
      ],
      "execution_count": 30,
      "outputs": [
        {
          "output_type": "execute_result",
          "data": {
            "text/html": [
              "<div>\n",
              "<style scoped>\n",
              "    .dataframe tbody tr th:only-of-type {\n",
              "        vertical-align: middle;\n",
              "    }\n",
              "\n",
              "    .dataframe tbody tr th {\n",
              "        vertical-align: top;\n",
              "    }\n",
              "\n",
              "    .dataframe thead th {\n",
              "        text-align: right;\n",
              "    }\n",
              "</style>\n",
              "<table border=\"1\" class=\"dataframe\">\n",
              "  <thead>\n",
              "    <tr style=\"text-align: right;\">\n",
              "      <th></th>\n",
              "      <th>ปี</th>\n",
              "      <th>รวมทั้งสิ้น_x</th>\n",
              "      <th>รวมทั้งสิ้น_y</th>\n",
              "      <th>รวมทั้งสิ้น</th>\n",
              "    </tr>\n",
              "  </thead>\n",
              "  <tbody>\n",
              "    <tr>\n",
              "      <th>0</th>\n",
              "      <td>2559</td>\n",
              "      <td>185,046.51</td>\n",
              "      <td>41,096.25</td>\n",
              "      <td>33,366.88</td>\n",
              "    </tr>\n",
              "    <tr>\n",
              "      <th>1</th>\n",
              "      <td>2560</td>\n",
              "      <td>185,130.89</td>\n",
              "      <td>42,433.25</td>\n",
              "      <td>33,393.19</td>\n",
              "    </tr>\n",
              "    <tr>\n",
              "      <th>2</th>\n",
              "      <td>2561</td>\n",
              "      <td>187,388.54</td>\n",
              "      <td>43,372.50</td>\n",
              "      <td>34,553.86</td>\n",
              "    </tr>\n",
              "    <tr>\n",
              "      <th>3</th>\n",
              "      <td>2562</td>\n",
              "      <td>193,439.15</td>\n",
              "      <td>45,298.25</td>\n",
              "      <td>35,981.45</td>\n",
              "    </tr>\n",
              "    <tr>\n",
              "      <th>4</th>\n",
              "      <td>2563</td>\n",
              "      <td>187,489.39</td>\n",
              "      <td>46,480.37</td>\n",
              "      <td>37,083.92</td>\n",
              "    </tr>\n",
              "  </tbody>\n",
              "</table>\n",
              "</div>"
            ],
            "text/plain": [
              "     ปี รวมทั้งสิ้น_x รวมทั้งสิ้น_y รวมทั้งสิ้น\n",
              "0  2559    185,046.51     41,096.25   33,366.88\n",
              "1  2560    185,130.89     42,433.25   33,393.19\n",
              "2  2561    187,388.54     43,372.50   34,553.86\n",
              "3  2562    193,439.15     45,298.25   35,981.45\n",
              "4  2563    187,489.39     46,480.37   37,083.92"
            ]
          },
          "metadata": {},
          "execution_count": 30
        }
      ]
    },
    {
      "cell_type": "code",
      "metadata": {
        "id": "57VM3ItaB-9a",
        "outputId": "a54a29ce-4819-4ca9-e6cb-449756745041",
        "colab": {
          "base_uri": "https://localhost:8080/"
        }
      },
      "source": [
        "data.shape #ข้อมูลนี้มี 5 row 4 column"
      ],
      "execution_count": 31,
      "outputs": [
        {
          "output_type": "execute_result",
          "data": {
            "text/plain": [
              "(5, 4)"
            ]
          },
          "metadata": {},
          "execution_count": 31
        }
      ]
    },
    {
      "cell_type": "code",
      "metadata": {
        "id": "NJFCjsUqCBPn",
        "outputId": "6de53919-a8f1-44ad-86de-656e3c4d413a",
        "colab": {
          "base_uri": "https://localhost:8080/"
        }
      },
      "source": [
        "data.isnull().any() #ตรวจสอบว่าตารางมีค่าว่างหรือไม่ จะเห็นว่าไม่คอลัมน์ที่มีค่าว่าง"
      ],
      "execution_count": 32,
      "outputs": [
        {
          "output_type": "execute_result",
          "data": {
            "text/plain": [
              "ปี               False\n",
              "รวมทั้งสิ้น_x    False\n",
              "รวมทั้งสิ้น_y    False\n",
              "รวมทั้งสิ้น      False\n",
              "dtype: bool"
            ]
          },
          "metadata": {},
          "execution_count": 32
        }
      ]
    }
  ]
}